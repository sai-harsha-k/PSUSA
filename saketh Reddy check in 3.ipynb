{
  "nbformat": 4,
  "nbformat_minor": 0,
  "metadata": {
    "colab": {
      "provenance": []
    },
    "kernelspec": {
      "name": "python3",
      "display_name": "Python 3"
    },
    "language_info": {
      "name": "python"
    }
  },
  "cells": [
    {
      "cell_type": "code",
      "execution_count": null,
      "metadata": {
        "colab": {
          "base_uri": "https://localhost:8080/",
          "height": 357
        },
        "id": "xtmZYimOSb56",
        "outputId": "0b48e2a0-ec04-4f76-afce-783b2367931d"
      },
      "outputs": [
        {
          "output_type": "execute_result",
          "data": {
            "text/plain": [
              "   id                name        date   manner_of_death       armed   age  \\\n",
              "0   3          Tim Elliot  2015-01-02              shot         gun  53.0   \n",
              "1   4    Lewis Lee Lembke  2015-01-02              shot         gun  47.0   \n",
              "2   5  John Paul Quintero  2015-01-03  shot and Tasered     unarmed  23.0   \n",
              "3   8     Matthew Hoffman  2015-01-04              shot  toy weapon  32.0   \n",
              "4   9   Michael Rodriguez  2015-01-04              shot    nail gun  39.0   \n",
              "\n",
              "  gender race           city state  signs_of_mental_illness threat_level  \\\n",
              "0      M    A        Shelton    WA                     True       attack   \n",
              "1      M    W          Aloha    OR                    False       attack   \n",
              "2      M    H        Wichita    KS                    False        other   \n",
              "3      M    W  San Francisco    CA                     True       attack   \n",
              "4      M    H          Evans    CO                    False       attack   \n",
              "\n",
              "          flee  body_camera  longitude  latitude  is_geocoding_exact  \n",
              "0  Not fleeing        False   -123.122    47.247                True  \n",
              "1  Not fleeing        False   -122.892    45.487                True  \n",
              "2  Not fleeing        False    -97.281    37.695                True  \n",
              "3  Not fleeing        False   -122.422    37.763                True  \n",
              "4  Not fleeing        False   -104.692    40.384                True  "
            ],
            "text/html": [
              "\n",
              "  <div id=\"df-0582c4ed-48c5-477b-a346-58b4a0c60d8c\">\n",
              "    <div class=\"colab-df-container\">\n",
              "      <div>\n",
              "<style scoped>\n",
              "    .dataframe tbody tr th:only-of-type {\n",
              "        vertical-align: middle;\n",
              "    }\n",
              "\n",
              "    .dataframe tbody tr th {\n",
              "        vertical-align: top;\n",
              "    }\n",
              "\n",
              "    .dataframe thead th {\n",
              "        text-align: right;\n",
              "    }\n",
              "</style>\n",
              "<table border=\"1\" class=\"dataframe\">\n",
              "  <thead>\n",
              "    <tr style=\"text-align: right;\">\n",
              "      <th></th>\n",
              "      <th>id</th>\n",
              "      <th>name</th>\n",
              "      <th>date</th>\n",
              "      <th>manner_of_death</th>\n",
              "      <th>armed</th>\n",
              "      <th>age</th>\n",
              "      <th>gender</th>\n",
              "      <th>race</th>\n",
              "      <th>city</th>\n",
              "      <th>state</th>\n",
              "      <th>signs_of_mental_illness</th>\n",
              "      <th>threat_level</th>\n",
              "      <th>flee</th>\n",
              "      <th>body_camera</th>\n",
              "      <th>longitude</th>\n",
              "      <th>latitude</th>\n",
              "      <th>is_geocoding_exact</th>\n",
              "    </tr>\n",
              "  </thead>\n",
              "  <tbody>\n",
              "    <tr>\n",
              "      <th>0</th>\n",
              "      <td>3</td>\n",
              "      <td>Tim Elliot</td>\n",
              "      <td>2015-01-02</td>\n",
              "      <td>shot</td>\n",
              "      <td>gun</td>\n",
              "      <td>53.0</td>\n",
              "      <td>M</td>\n",
              "      <td>A</td>\n",
              "      <td>Shelton</td>\n",
              "      <td>WA</td>\n",
              "      <td>True</td>\n",
              "      <td>attack</td>\n",
              "      <td>Not fleeing</td>\n",
              "      <td>False</td>\n",
              "      <td>-123.122</td>\n",
              "      <td>47.247</td>\n",
              "      <td>True</td>\n",
              "    </tr>\n",
              "    <tr>\n",
              "      <th>1</th>\n",
              "      <td>4</td>\n",
              "      <td>Lewis Lee Lembke</td>\n",
              "      <td>2015-01-02</td>\n",
              "      <td>shot</td>\n",
              "      <td>gun</td>\n",
              "      <td>47.0</td>\n",
              "      <td>M</td>\n",
              "      <td>W</td>\n",
              "      <td>Aloha</td>\n",
              "      <td>OR</td>\n",
              "      <td>False</td>\n",
              "      <td>attack</td>\n",
              "      <td>Not fleeing</td>\n",
              "      <td>False</td>\n",
              "      <td>-122.892</td>\n",
              "      <td>45.487</td>\n",
              "      <td>True</td>\n",
              "    </tr>\n",
              "    <tr>\n",
              "      <th>2</th>\n",
              "      <td>5</td>\n",
              "      <td>John Paul Quintero</td>\n",
              "      <td>2015-01-03</td>\n",
              "      <td>shot and Tasered</td>\n",
              "      <td>unarmed</td>\n",
              "      <td>23.0</td>\n",
              "      <td>M</td>\n",
              "      <td>H</td>\n",
              "      <td>Wichita</td>\n",
              "      <td>KS</td>\n",
              "      <td>False</td>\n",
              "      <td>other</td>\n",
              "      <td>Not fleeing</td>\n",
              "      <td>False</td>\n",
              "      <td>-97.281</td>\n",
              "      <td>37.695</td>\n",
              "      <td>True</td>\n",
              "    </tr>\n",
              "    <tr>\n",
              "      <th>3</th>\n",
              "      <td>8</td>\n",
              "      <td>Matthew Hoffman</td>\n",
              "      <td>2015-01-04</td>\n",
              "      <td>shot</td>\n",
              "      <td>toy weapon</td>\n",
              "      <td>32.0</td>\n",
              "      <td>M</td>\n",
              "      <td>W</td>\n",
              "      <td>San Francisco</td>\n",
              "      <td>CA</td>\n",
              "      <td>True</td>\n",
              "      <td>attack</td>\n",
              "      <td>Not fleeing</td>\n",
              "      <td>False</td>\n",
              "      <td>-122.422</td>\n",
              "      <td>37.763</td>\n",
              "      <td>True</td>\n",
              "    </tr>\n",
              "    <tr>\n",
              "      <th>4</th>\n",
              "      <td>9</td>\n",
              "      <td>Michael Rodriguez</td>\n",
              "      <td>2015-01-04</td>\n",
              "      <td>shot</td>\n",
              "      <td>nail gun</td>\n",
              "      <td>39.0</td>\n",
              "      <td>M</td>\n",
              "      <td>H</td>\n",
              "      <td>Evans</td>\n",
              "      <td>CO</td>\n",
              "      <td>False</td>\n",
              "      <td>attack</td>\n",
              "      <td>Not fleeing</td>\n",
              "      <td>False</td>\n",
              "      <td>-104.692</td>\n",
              "      <td>40.384</td>\n",
              "      <td>True</td>\n",
              "    </tr>\n",
              "  </tbody>\n",
              "</table>\n",
              "</div>\n",
              "      <button class=\"colab-df-convert\" onclick=\"convertToInteractive('df-0582c4ed-48c5-477b-a346-58b4a0c60d8c')\"\n",
              "              title=\"Convert this dataframe to an interactive table.\"\n",
              "              style=\"display:none;\">\n",
              "        \n",
              "  <svg xmlns=\"http://www.w3.org/2000/svg\" height=\"24px\"viewBox=\"0 0 24 24\"\n",
              "       width=\"24px\">\n",
              "    <path d=\"M0 0h24v24H0V0z\" fill=\"none\"/>\n",
              "    <path d=\"M18.56 5.44l.94 2.06.94-2.06 2.06-.94-2.06-.94-.94-2.06-.94 2.06-2.06.94zm-11 1L8.5 8.5l.94-2.06 2.06-.94-2.06-.94L8.5 2.5l-.94 2.06-2.06.94zm10 10l.94 2.06.94-2.06 2.06-.94-2.06-.94-.94-2.06-.94 2.06-2.06.94z\"/><path d=\"M17.41 7.96l-1.37-1.37c-.4-.4-.92-.59-1.43-.59-.52 0-1.04.2-1.43.59L10.3 9.45l-7.72 7.72c-.78.78-.78 2.05 0 2.83L4 21.41c.39.39.9.59 1.41.59.51 0 1.02-.2 1.41-.59l7.78-7.78 2.81-2.81c.8-.78.8-2.07 0-2.86zM5.41 20L4 18.59l7.72-7.72 1.47 1.35L5.41 20z\"/>\n",
              "  </svg>\n",
              "      </button>\n",
              "      \n",
              "  <style>\n",
              "    .colab-df-container {\n",
              "      display:flex;\n",
              "      flex-wrap:wrap;\n",
              "      gap: 12px;\n",
              "    }\n",
              "\n",
              "    .colab-df-convert {\n",
              "      background-color: #E8F0FE;\n",
              "      border: none;\n",
              "      border-radius: 50%;\n",
              "      cursor: pointer;\n",
              "      display: none;\n",
              "      fill: #1967D2;\n",
              "      height: 32px;\n",
              "      padding: 0 0 0 0;\n",
              "      width: 32px;\n",
              "    }\n",
              "\n",
              "    .colab-df-convert:hover {\n",
              "      background-color: #E2EBFA;\n",
              "      box-shadow: 0px 1px 2px rgba(60, 64, 67, 0.3), 0px 1px 3px 1px rgba(60, 64, 67, 0.15);\n",
              "      fill: #174EA6;\n",
              "    }\n",
              "\n",
              "    [theme=dark] .colab-df-convert {\n",
              "      background-color: #3B4455;\n",
              "      fill: #D2E3FC;\n",
              "    }\n",
              "\n",
              "    [theme=dark] .colab-df-convert:hover {\n",
              "      background-color: #434B5C;\n",
              "      box-shadow: 0px 1px 3px 1px rgba(0, 0, 0, 0.15);\n",
              "      filter: drop-shadow(0px 1px 2px rgba(0, 0, 0, 0.3));\n",
              "      fill: #FFFFFF;\n",
              "    }\n",
              "  </style>\n",
              "\n",
              "      <script>\n",
              "        const buttonEl =\n",
              "          document.querySelector('#df-0582c4ed-48c5-477b-a346-58b4a0c60d8c button.colab-df-convert');\n",
              "        buttonEl.style.display =\n",
              "          google.colab.kernel.accessAllowed ? 'block' : 'none';\n",
              "\n",
              "        async function convertToInteractive(key) {\n",
              "          const element = document.querySelector('#df-0582c4ed-48c5-477b-a346-58b4a0c60d8c');\n",
              "          const dataTable =\n",
              "            await google.colab.kernel.invokeFunction('convertToInteractive',\n",
              "                                                     [key], {});\n",
              "          if (!dataTable) return;\n",
              "\n",
              "          const docLinkHtml = 'Like what you see? Visit the ' +\n",
              "            '<a target=\"_blank\" href=https://colab.research.google.com/notebooks/data_table.ipynb>data table notebook</a>'\n",
              "            + ' to learn more about interactive tables.';\n",
              "          element.innerHTML = '';\n",
              "          dataTable['output_type'] = 'display_data';\n",
              "          await google.colab.output.renderOutput(dataTable, element);\n",
              "          const docLink = document.createElement('div');\n",
              "          docLink.innerHTML = docLinkHtml;\n",
              "          element.appendChild(docLink);\n",
              "        }\n",
              "      </script>\n",
              "    </div>\n",
              "  </div>\n",
              "  "
            ]
          },
          "metadata": {},
          "execution_count": 2
        }
      ],
      "source": [
        "import pandas as pd\n",
        "df = pd.read_csv(\"/content/drive/MyDrive/fatal-police-shootings-data.csv\")\n",
        "df.head()"
      ]
    },
    {
      "cell_type": "code",
      "source": [
        "df.describe()"
      ],
      "metadata": {
        "colab": {
          "base_uri": "https://localhost:8080/",
          "height": 300
        },
        "id": "NyyNy4MoSoi6",
        "outputId": "b9dec144-4bd4-4035-ecb8-6e9db5eb60f7"
      },
      "execution_count": null,
      "outputs": [
        {
          "output_type": "execute_result",
          "data": {
            "text/plain": [
              "                id          age    longitude     latitude\n",
              "count  7802.000000  7316.000000  6963.000000  6963.000000\n",
              "mean   4307.825173    37.199973   -97.058132    36.685432\n",
              "std    2435.921303    12.969444    16.578591     5.398530\n",
              "min       3.000000     2.000000  -160.007000    19.498000\n",
              "25%    2186.250000    27.000000  -112.037000    33.480000\n",
              "50%    4332.500000    35.000000   -94.249000    36.104000\n",
              "75%    6416.750000    45.000000   -83.094000    40.032500\n",
              "max    8484.000000    92.000000   -67.867000    71.301000"
            ],
            "text/html": [
              "\n",
              "  <div id=\"df-21807377-3161-4eb3-b2c8-367b76684f1b\">\n",
              "    <div class=\"colab-df-container\">\n",
              "      <div>\n",
              "<style scoped>\n",
              "    .dataframe tbody tr th:only-of-type {\n",
              "        vertical-align: middle;\n",
              "    }\n",
              "\n",
              "    .dataframe tbody tr th {\n",
              "        vertical-align: top;\n",
              "    }\n",
              "\n",
              "    .dataframe thead th {\n",
              "        text-align: right;\n",
              "    }\n",
              "</style>\n",
              "<table border=\"1\" class=\"dataframe\">\n",
              "  <thead>\n",
              "    <tr style=\"text-align: right;\">\n",
              "      <th></th>\n",
              "      <th>id</th>\n",
              "      <th>age</th>\n",
              "      <th>longitude</th>\n",
              "      <th>latitude</th>\n",
              "    </tr>\n",
              "  </thead>\n",
              "  <tbody>\n",
              "    <tr>\n",
              "      <th>count</th>\n",
              "      <td>7802.000000</td>\n",
              "      <td>7316.000000</td>\n",
              "      <td>6963.000000</td>\n",
              "      <td>6963.000000</td>\n",
              "    </tr>\n",
              "    <tr>\n",
              "      <th>mean</th>\n",
              "      <td>4307.825173</td>\n",
              "      <td>37.199973</td>\n",
              "      <td>-97.058132</td>\n",
              "      <td>36.685432</td>\n",
              "    </tr>\n",
              "    <tr>\n",
              "      <th>std</th>\n",
              "      <td>2435.921303</td>\n",
              "      <td>12.969444</td>\n",
              "      <td>16.578591</td>\n",
              "      <td>5.398530</td>\n",
              "    </tr>\n",
              "    <tr>\n",
              "      <th>min</th>\n",
              "      <td>3.000000</td>\n",
              "      <td>2.000000</td>\n",
              "      <td>-160.007000</td>\n",
              "      <td>19.498000</td>\n",
              "    </tr>\n",
              "    <tr>\n",
              "      <th>25%</th>\n",
              "      <td>2186.250000</td>\n",
              "      <td>27.000000</td>\n",
              "      <td>-112.037000</td>\n",
              "      <td>33.480000</td>\n",
              "    </tr>\n",
              "    <tr>\n",
              "      <th>50%</th>\n",
              "      <td>4332.500000</td>\n",
              "      <td>35.000000</td>\n",
              "      <td>-94.249000</td>\n",
              "      <td>36.104000</td>\n",
              "    </tr>\n",
              "    <tr>\n",
              "      <th>75%</th>\n",
              "      <td>6416.750000</td>\n",
              "      <td>45.000000</td>\n",
              "      <td>-83.094000</td>\n",
              "      <td>40.032500</td>\n",
              "    </tr>\n",
              "    <tr>\n",
              "      <th>max</th>\n",
              "      <td>8484.000000</td>\n",
              "      <td>92.000000</td>\n",
              "      <td>-67.867000</td>\n",
              "      <td>71.301000</td>\n",
              "    </tr>\n",
              "  </tbody>\n",
              "</table>\n",
              "</div>\n",
              "      <button class=\"colab-df-convert\" onclick=\"convertToInteractive('df-21807377-3161-4eb3-b2c8-367b76684f1b')\"\n",
              "              title=\"Convert this dataframe to an interactive table.\"\n",
              "              style=\"display:none;\">\n",
              "        \n",
              "  <svg xmlns=\"http://www.w3.org/2000/svg\" height=\"24px\"viewBox=\"0 0 24 24\"\n",
              "       width=\"24px\">\n",
              "    <path d=\"M0 0h24v24H0V0z\" fill=\"none\"/>\n",
              "    <path d=\"M18.56 5.44l.94 2.06.94-2.06 2.06-.94-2.06-.94-.94-2.06-.94 2.06-2.06.94zm-11 1L8.5 8.5l.94-2.06 2.06-.94-2.06-.94L8.5 2.5l-.94 2.06-2.06.94zm10 10l.94 2.06.94-2.06 2.06-.94-2.06-.94-.94-2.06-.94 2.06-2.06.94z\"/><path d=\"M17.41 7.96l-1.37-1.37c-.4-.4-.92-.59-1.43-.59-.52 0-1.04.2-1.43.59L10.3 9.45l-7.72 7.72c-.78.78-.78 2.05 0 2.83L4 21.41c.39.39.9.59 1.41.59.51 0 1.02-.2 1.41-.59l7.78-7.78 2.81-2.81c.8-.78.8-2.07 0-2.86zM5.41 20L4 18.59l7.72-7.72 1.47 1.35L5.41 20z\"/>\n",
              "  </svg>\n",
              "      </button>\n",
              "      \n",
              "  <style>\n",
              "    .colab-df-container {\n",
              "      display:flex;\n",
              "      flex-wrap:wrap;\n",
              "      gap: 12px;\n",
              "    }\n",
              "\n",
              "    .colab-df-convert {\n",
              "      background-color: #E8F0FE;\n",
              "      border: none;\n",
              "      border-radius: 50%;\n",
              "      cursor: pointer;\n",
              "      display: none;\n",
              "      fill: #1967D2;\n",
              "      height: 32px;\n",
              "      padding: 0 0 0 0;\n",
              "      width: 32px;\n",
              "    }\n",
              "\n",
              "    .colab-df-convert:hover {\n",
              "      background-color: #E2EBFA;\n",
              "      box-shadow: 0px 1px 2px rgba(60, 64, 67, 0.3), 0px 1px 3px 1px rgba(60, 64, 67, 0.15);\n",
              "      fill: #174EA6;\n",
              "    }\n",
              "\n",
              "    [theme=dark] .colab-df-convert {\n",
              "      background-color: #3B4455;\n",
              "      fill: #D2E3FC;\n",
              "    }\n",
              "\n",
              "    [theme=dark] .colab-df-convert:hover {\n",
              "      background-color: #434B5C;\n",
              "      box-shadow: 0px 1px 3px 1px rgba(0, 0, 0, 0.15);\n",
              "      filter: drop-shadow(0px 1px 2px rgba(0, 0, 0, 0.3));\n",
              "      fill: #FFFFFF;\n",
              "    }\n",
              "  </style>\n",
              "\n",
              "      <script>\n",
              "        const buttonEl =\n",
              "          document.querySelector('#df-21807377-3161-4eb3-b2c8-367b76684f1b button.colab-df-convert');\n",
              "        buttonEl.style.display =\n",
              "          google.colab.kernel.accessAllowed ? 'block' : 'none';\n",
              "\n",
              "        async function convertToInteractive(key) {\n",
              "          const element = document.querySelector('#df-21807377-3161-4eb3-b2c8-367b76684f1b');\n",
              "          const dataTable =\n",
              "            await google.colab.kernel.invokeFunction('convertToInteractive',\n",
              "                                                     [key], {});\n",
              "          if (!dataTable) return;\n",
              "\n",
              "          const docLinkHtml = 'Like what you see? Visit the ' +\n",
              "            '<a target=\"_blank\" href=https://colab.research.google.com/notebooks/data_table.ipynb>data table notebook</a>'\n",
              "            + ' to learn more about interactive tables.';\n",
              "          element.innerHTML = '';\n",
              "          dataTable['output_type'] = 'display_data';\n",
              "          await google.colab.output.renderOutput(dataTable, element);\n",
              "          const docLink = document.createElement('div');\n",
              "          docLink.innerHTML = docLinkHtml;\n",
              "          element.appendChild(docLink);\n",
              "        }\n",
              "      </script>\n",
              "    </div>\n",
              "  </div>\n",
              "  "
            ]
          },
          "metadata": {},
          "execution_count": 3
        }
      ]
    },
    {
      "cell_type": "code",
      "source": [
        "df.columns"
      ],
      "metadata": {
        "colab": {
          "base_uri": "https://localhost:8080/"
        },
        "id": "syzWPaoJSq8D",
        "outputId": "db4246d6-befd-40d5-874a-e26f4ff6886c"
      },
      "execution_count": null,
      "outputs": [
        {
          "output_type": "execute_result",
          "data": {
            "text/plain": [
              "Index(['id', 'name', 'date', 'manner_of_death', 'armed', 'age', 'gender',\n",
              "       'race', 'city', 'state', 'signs_of_mental_illness', 'threat_level',\n",
              "       'flee', 'body_camera', 'longitude', 'latitude', 'is_geocoding_exact'],\n",
              "      dtype='object')"
            ]
          },
          "metadata": {},
          "execution_count": 4
        }
      ]
    },
    {
      "cell_type": "code",
      "source": [
        "df.dtypes"
      ],
      "metadata": {
        "colab": {
          "base_uri": "https://localhost:8080/"
        },
        "id": "ecH50YOqS6RV",
        "outputId": "c1021f3d-b774-4a70-f1b7-6125a2ca8a69"
      },
      "execution_count": null,
      "outputs": [
        {
          "output_type": "execute_result",
          "data": {
            "text/plain": [
              "id                           int64\n",
              "name                        object\n",
              "date                        object\n",
              "manner_of_death             object\n",
              "armed                       object\n",
              "age                        float64\n",
              "gender                      object\n",
              "race                        object\n",
              "city                        object\n",
              "state                       object\n",
              "signs_of_mental_illness       bool\n",
              "threat_level                object\n",
              "flee                        object\n",
              "body_camera                   bool\n",
              "longitude                  float64\n",
              "latitude                   float64\n",
              "is_geocoding_exact            bool\n",
              "dtype: object"
            ]
          },
          "metadata": {},
          "execution_count": 5
        }
      ]
    },
    {
      "cell_type": "code",
      "source": [
        "df['name'].value_counts()"
      ],
      "metadata": {
        "colab": {
          "base_uri": "https://localhost:8080/"
        },
        "id": "oDO1AsDsS8bB",
        "outputId": "d84acfd3-cd2c-4af2-eb33-d45b01e9e622"
      },
      "execution_count": null,
      "outputs": [
        {
          "output_type": "execute_result",
          "data": {
            "text/plain": [
              "Michael Johnson          3\n",
              "Brandon Jones            2\n",
              "Robert Edwards           2\n",
              "Michael Ferguson         2\n",
              "George Tillman           2\n",
              "                        ..\n",
              "Silas Andrew Smith       1\n",
              "Antonio Garcia Jr.       1\n",
              "Steve Scott              1\n",
              "Caleb Edward Blaylock    1\n",
              "Colin Merrill West       1\n",
              "Name: name, Length: 7344, dtype: int64"
            ]
          },
          "metadata": {},
          "execution_count": 6
        }
      ]
    },
    {
      "cell_type": "code",
      "source": [
        "df.shape"
      ],
      "metadata": {
        "colab": {
          "base_uri": "https://localhost:8080/"
        },
        "id": "LtwhG6EmTBPy",
        "outputId": "68441b4b-49cc-4a22-8528-be8328504595"
      },
      "execution_count": null,
      "outputs": [
        {
          "output_type": "execute_result",
          "data": {
            "text/plain": [
              "(7802, 17)"
            ]
          },
          "metadata": {},
          "execution_count": 7
        }
      ]
    },
    {
      "cell_type": "code",
      "source": [
        "df.isna().sum()"
      ],
      "metadata": {
        "colab": {
          "base_uri": "https://localhost:8080/"
        },
        "id": "PnKmFHtITpuT",
        "outputId": "14011f24-e990-4fda-8308-6666b70b2fc5"
      },
      "execution_count": null,
      "outputs": [
        {
          "output_type": "execute_result",
          "data": {
            "text/plain": [
              "id                            0\n",
              "name                        425\n",
              "date                          0\n",
              "manner_of_death               0\n",
              "armed                       209\n",
              "age                         486\n",
              "gender                       21\n",
              "race                       1509\n",
              "city                          0\n",
              "state                         0\n",
              "signs_of_mental_illness       0\n",
              "threat_level                  0\n",
              "flee                        899\n",
              "body_camera                   0\n",
              "longitude                   839\n",
              "latitude                    839\n",
              "is_geocoding_exact            0\n",
              "dtype: int64"
            ]
          },
          "metadata": {},
          "execution_count": 8
        }
      ]
    },
    {
      "cell_type": "code",
      "source": [
        "#Checking if any date entry is invalid\n",
        "import datetime\n",
        "df['date'].value_counts()\n",
        "err_date_arr = list()\n",
        "for i in df['date']:\n",
        "  year, month, day = i.split(\"-\")\n",
        "  isValidDate = True\n",
        "  try:\n",
        "    datetime.datetime(int(year), int(month), int(day))\n",
        "  except ValueError:\n",
        "    isValidDate = False\n",
        "    err_date_arr.append(i)\n",
        "err_date_arr"
      ],
      "metadata": {
        "colab": {
          "base_uri": "https://localhost:8080/"
        },
        "id": "-_oTdsBgUQI1",
        "outputId": "b9f73244-0346-4b08-bb30-703d88833de4"
      },
      "execution_count": null,
      "outputs": [
        {
          "output_type": "execute_result",
          "data": {
            "text/plain": [
              "[]"
            ]
          },
          "metadata": {},
          "execution_count": 9
        }
      ]
    },
    {
      "cell_type": "code",
      "source": [
        "df['manner_of_death'].value_counts()"
      ],
      "metadata": {
        "colab": {
          "base_uri": "https://localhost:8080/"
        },
        "id": "crHo-zI2aR7H",
        "outputId": "c5a0d672-6ab2-480f-eebc-54ec49af17fc"
      },
      "execution_count": null,
      "outputs": [
        {
          "output_type": "execute_result",
          "data": {
            "text/plain": [
              "shot                7463\n",
              "shot and Tasered     339\n",
              "Name: manner_of_death, dtype: int64"
            ]
          },
          "metadata": {},
          "execution_count": 10
        }
      ]
    },
    {
      "cell_type": "code",
      "source": [
        "df['age'].value_counts()"
      ],
      "metadata": {
        "colab": {
          "base_uri": "https://localhost:8080/"
        },
        "id": "b8zBtA8NbB3W",
        "outputId": "a89a1c80-ec66-42c1-a2a6-914734eeebae"
      },
      "execution_count": null,
      "outputs": [
        {
          "output_type": "execute_result",
          "data": {
            "text/plain": [
              "31.0    256\n",
              "27.0    252\n",
              "32.0    252\n",
              "34.0    250\n",
              "33.0    242\n",
              "       ... \n",
              "78.0      1\n",
              "89.0      1\n",
              "8.0       1\n",
              "92.0      1\n",
              "2.0       1\n",
              "Name: age, Length: 81, dtype: int64"
            ]
          },
          "metadata": {},
          "execution_count": 11
        }
      ]
    },
    {
      "cell_type": "code",
      "source": [
        "#Checking if age is less than 0 and greater than 100\n",
        "if len(df[df['age'] < 0]['age']) == 0:\n",
        "  print(\"No one is of age negative\")\n",
        "if len(df[df['age'] > 110]['age']) == 0:\n",
        "  print(\"No one is of age greater than 110\")"
      ],
      "metadata": {
        "colab": {
          "base_uri": "https://localhost:8080/"
        },
        "id": "A4BT1AQMbbt-",
        "outputId": "7a195df4-a485-4868-d882-ac20cff408e8"
      },
      "execution_count": null,
      "outputs": [
        {
          "output_type": "stream",
          "name": "stdout",
          "text": [
            "No one is of age negative\n",
            "No one is of age greater than 110\n"
          ]
        }
      ]
    },
    {
      "cell_type": "code",
      "source": [
        "df['gender'].value_counts()"
      ],
      "metadata": {
        "colab": {
          "base_uri": "https://localhost:8080/"
        },
        "id": "DxHO46oYbp8b",
        "outputId": "00d7eb9e-438f-42b5-96d6-3a402e574506"
      },
      "execution_count": null,
      "outputs": [
        {
          "output_type": "execute_result",
          "data": {
            "text/plain": [
              "M    7429\n",
              "F     352\n",
              "Name: gender, dtype: int64"
            ]
          },
          "metadata": {},
          "execution_count": 13
        }
      ]
    },
    {
      "cell_type": "code",
      "source": [
        "df['armed'].value_counts()"
      ],
      "metadata": {
        "colab": {
          "base_uri": "https://localhost:8080/"
        },
        "id": "swluY064Cy_t",
        "outputId": "9114816d-bc7e-416b-98ae-c973ebe1780b"
      },
      "execution_count": null,
      "outputs": [
        {
          "output_type": "execute_result",
          "data": {
            "text/plain": [
              "gun               4448\n",
              "knife             1115\n",
              "unarmed            458\n",
              "undetermined       321\n",
              "vehicle            279\n",
              "                  ... \n",
              "binoculars           1\n",
              "cordless drill       1\n",
              "bean-bag gun         1\n",
              "wrench               1\n",
              "stone                1\n",
              "Name: armed, Length: 106, dtype: int64"
            ]
          },
          "metadata": {},
          "execution_count": 14
        }
      ]
    },
    {
      "cell_type": "code",
      "source": [
        "df['race'].value_counts()"
      ],
      "metadata": {
        "colab": {
          "base_uri": "https://localhost:8080/"
        },
        "id": "qGy4TzwYcO_9",
        "outputId": "c08e7d81-f2f8-4656-d1d0-ecad042a08d8"
      },
      "execution_count": null,
      "outputs": [
        {
          "output_type": "execute_result",
          "data": {
            "text/plain": [
              "W    3204\n",
              "B    1695\n",
              "H    1135\n",
              "A     113\n",
              "N     100\n",
              "O      46\n",
              "Name: race, dtype: int64"
            ]
          },
          "metadata": {},
          "execution_count": 15
        }
      ]
    },
    {
      "cell_type": "code",
      "source": [
        "len(df['state'].value_counts())"
      ],
      "metadata": {
        "colab": {
          "base_uri": "https://localhost:8080/"
        },
        "id": "AxZFW112cXIr",
        "outputId": "4fad921a-cfe4-4604-b831-9d69af0c89ad"
      },
      "execution_count": null,
      "outputs": [
        {
          "output_type": "execute_result",
          "data": {
            "text/plain": [
              "51"
            ]
          },
          "metadata": {},
          "execution_count": 16
        }
      ]
    },
    {
      "cell_type": "code",
      "source": [
        "df['signs_of_mental_illness'].value_counts()"
      ],
      "metadata": {
        "colab": {
          "base_uri": "https://localhost:8080/"
        },
        "id": "nByqgGlDce6r",
        "outputId": "5351dc47-f9d4-41a0-b46c-bbe4a800c51b"
      },
      "execution_count": null,
      "outputs": [
        {
          "output_type": "execute_result",
          "data": {
            "text/plain": [
              "False    6151\n",
              "True     1651\n",
              "Name: signs_of_mental_illness, dtype: int64"
            ]
          },
          "metadata": {},
          "execution_count": 17
        }
      ]
    },
    {
      "cell_type": "code",
      "source": [
        "df['threat_level'].value_counts()"
      ],
      "metadata": {
        "colab": {
          "base_uri": "https://localhost:8080/"
        },
        "id": "DaRTKLpYdwFn",
        "outputId": "57ded373-52d0-445e-9c47-bb28b55f7cf0"
      },
      "execution_count": null,
      "outputs": [
        {
          "output_type": "execute_result",
          "data": {
            "text/plain": [
              "attack          4907\n",
              "other           2583\n",
              "undetermined     312\n",
              "Name: threat_level, dtype: int64"
            ]
          },
          "metadata": {},
          "execution_count": 18
        }
      ]
    },
    {
      "cell_type": "code",
      "source": [
        "df['is_geocoding_exact'].value_counts()"
      ],
      "metadata": {
        "colab": {
          "base_uri": "https://localhost:8080/"
        },
        "id": "IBGqZO0xo1AF",
        "outputId": "7bdde163-20ef-4af8-debd-e604231be71b"
      },
      "execution_count": null,
      "outputs": [
        {
          "output_type": "execute_result",
          "data": {
            "text/plain": [
              "True     7784\n",
              "False      18\n",
              "Name: is_geocoding_exact, dtype: int64"
            ]
          },
          "metadata": {},
          "execution_count": 19
        }
      ]
    },
    {
      "cell_type": "code",
      "source": [
        "#Till above, erraneous data has been verified and corrected\n",
        "#From here we will handle null values\n",
        "df.columns"
      ],
      "metadata": {
        "colab": {
          "base_uri": "https://localhost:8080/"
        },
        "id": "rEQp30pqpABY",
        "outputId": "03db98ba-a821-4d7b-d8a1-626de7f43add"
      },
      "execution_count": null,
      "outputs": [
        {
          "output_type": "execute_result",
          "data": {
            "text/plain": [
              "Index(['id', 'name', 'date', 'manner_of_death', 'armed', 'age', 'gender',\n",
              "       'race', 'city', 'state', 'signs_of_mental_illness', 'threat_level',\n",
              "       'flee', 'body_camera', 'longitude', 'latitude', 'is_geocoding_exact'],\n",
              "      dtype='object')"
            ]
          },
          "metadata": {},
          "execution_count": 20
        }
      ]
    },
    {
      "cell_type": "code",
      "source": [
        "#Removing name column as it won't serve any model\n",
        "df.drop(['name'], axis=1, inplace=True)\n",
        "df.columns\n"
      ],
      "metadata": {
        "colab": {
          "base_uri": "https://localhost:8080/"
        },
        "id": "4qbiflf0pTXo",
        "outputId": "74abc7f1-5664-46f3-f707-aa02a7379346"
      },
      "execution_count": null,
      "outputs": [
        {
          "output_type": "execute_result",
          "data": {
            "text/plain": [
              "Index(['id', 'date', 'manner_of_death', 'armed', 'age', 'gender', 'race',\n",
              "       'city', 'state', 'signs_of_mental_illness', 'threat_level', 'flee',\n",
              "       'body_camera', 'longitude', 'latitude', 'is_geocoding_exact'],\n",
              "      dtype='object')"
            ]
          },
          "metadata": {},
          "execution_count": 21
        }
      ]
    },
    {
      "cell_type": "code",
      "source": [
        "missing_values_array = list()\n",
        "for i in df:\n",
        "  if df[i].isna().sum() > 0:\n",
        "    missing_values_array.append(i)\n",
        "missing_values_array"
      ],
      "metadata": {
        "colab": {
          "base_uri": "https://localhost:8080/"
        },
        "id": "KWe5lslnpRdX",
        "outputId": "95204720-5a36-4b19-ffb6-52fc23f78a5e"
      },
      "execution_count": null,
      "outputs": [
        {
          "output_type": "execute_result",
          "data": {
            "text/plain": [
              "['armed', 'age', 'gender', 'race', 'flee', 'longitude', 'latitude']"
            ]
          },
          "metadata": {},
          "execution_count": 22
        }
      ]
    },
    {
      "cell_type": "code",
      "source": [
        "object_array = list()\n",
        "numerical_array = list()\n",
        "for i in missing_values_array:\n",
        "  if str(df[i].dtype) in [\"object\", \"bool\"]:\n",
        "    object_array.append(i)\n",
        "  elif str(df[i].dtype) in [\"int64\", \"float64\"]:\n",
        "    numerical_array.append(i)\n",
        "print(object_array)\n",
        "print(numerical_array)\n"
      ],
      "metadata": {
        "colab": {
          "base_uri": "https://localhost:8080/"
        },
        "id": "XiH7wcVZqD4k",
        "outputId": "59b2d447-e2e6-41d2-ca28-70e3e8093adc"
      },
      "execution_count": null,
      "outputs": [
        {
          "output_type": "stream",
          "name": "stdout",
          "text": [
            "['armed', 'gender', 'race', 'flee']\n",
            "['age', 'longitude', 'latitude']\n"
          ]
        }
      ]
    },
    {
      "cell_type": "code",
      "source": [
        "import numpy as np\n",
        "#Adding \"age\" also to categorical as they are unique \n",
        "#values and any null value replace like mean of that column is not correct option\n",
        "object_array.append(\"age\")\n",
        "for i in object_array:\n",
        "  d = dict(df[i].value_counts())\n",
        "  most_repeated = \"\"\n",
        "  count = 0\n",
        "  for j, k in d.items():\n",
        "    most_repeated = j\n",
        "    count += 1\n",
        "    if count == 1:\n",
        "      break\n",
        "  if most_repeated != \"\":\n",
        "    df[i].replace(np.nan, most_repeated, inplace=True)\n",
        "for i in object_array:\n",
        "  if df[i].isna().sum() > 0:\n",
        "    print(i)"
      ],
      "metadata": {
        "id": "g107do6RCnqP"
      },
      "execution_count": null,
      "outputs": []
    },
    {
      "cell_type": "code",
      "source": [
        "for i in numerical_array:\n",
        "  df[i].fillna(method=\"ffill\", inplace=True)"
      ],
      "metadata": {
        "id": "V4XkqwdFDtUS"
      },
      "execution_count": null,
      "outputs": []
    },
    {
      "cell_type": "code",
      "source": [
        "df.isna().sum().sum()"
      ],
      "metadata": {
        "colab": {
          "base_uri": "https://localhost:8080/"
        },
        "id": "PI2HoO_IGP_Y",
        "outputId": "6663d592-7c4a-4e7f-834d-f1763a88fa1f"
      },
      "execution_count": null,
      "outputs": [
        {
          "output_type": "execute_result",
          "data": {
            "text/plain": [
              "0"
            ]
          },
          "metadata": {},
          "execution_count": 26
        }
      ]
    },
    {
      "cell_type": "code",
      "source": [
        "df.head()"
      ],
      "metadata": {
        "colab": {
          "base_uri": "https://localhost:8080/",
          "height": 357
        },
        "id": "pYxWXZTOIcFa",
        "outputId": "7dca97c0-a37f-4962-bcff-a8fdc6ba371e"
      },
      "execution_count": null,
      "outputs": [
        {
          "output_type": "execute_result",
          "data": {
            "text/plain": [
              "   id        date   manner_of_death       armed   age gender race  \\\n",
              "0   3  2015-01-02              shot         gun  53.0      M    A   \n",
              "1   4  2015-01-02              shot         gun  47.0      M    W   \n",
              "2   5  2015-01-03  shot and Tasered     unarmed  23.0      M    H   \n",
              "3   8  2015-01-04              shot  toy weapon  32.0      M    W   \n",
              "4   9  2015-01-04              shot    nail gun  39.0      M    H   \n",
              "\n",
              "            city state  signs_of_mental_illness threat_level         flee  \\\n",
              "0        Shelton    WA                     True       attack  Not fleeing   \n",
              "1          Aloha    OR                    False       attack  Not fleeing   \n",
              "2        Wichita    KS                    False        other  Not fleeing   \n",
              "3  San Francisco    CA                     True       attack  Not fleeing   \n",
              "4          Evans    CO                    False       attack  Not fleeing   \n",
              "\n",
              "   body_camera  longitude  latitude  is_geocoding_exact  \n",
              "0        False   -123.122    47.247                True  \n",
              "1        False   -122.892    45.487                True  \n",
              "2        False    -97.281    37.695                True  \n",
              "3        False   -122.422    37.763                True  \n",
              "4        False   -104.692    40.384                True  "
            ],
            "text/html": [
              "\n",
              "  <div id=\"df-ea637c2a-9c7c-4e0e-9c96-458648cd1c84\">\n",
              "    <div class=\"colab-df-container\">\n",
              "      <div>\n",
              "<style scoped>\n",
              "    .dataframe tbody tr th:only-of-type {\n",
              "        vertical-align: middle;\n",
              "    }\n",
              "\n",
              "    .dataframe tbody tr th {\n",
              "        vertical-align: top;\n",
              "    }\n",
              "\n",
              "    .dataframe thead th {\n",
              "        text-align: right;\n",
              "    }\n",
              "</style>\n",
              "<table border=\"1\" class=\"dataframe\">\n",
              "  <thead>\n",
              "    <tr style=\"text-align: right;\">\n",
              "      <th></th>\n",
              "      <th>id</th>\n",
              "      <th>date</th>\n",
              "      <th>manner_of_death</th>\n",
              "      <th>armed</th>\n",
              "      <th>age</th>\n",
              "      <th>gender</th>\n",
              "      <th>race</th>\n",
              "      <th>city</th>\n",
              "      <th>state</th>\n",
              "      <th>signs_of_mental_illness</th>\n",
              "      <th>threat_level</th>\n",
              "      <th>flee</th>\n",
              "      <th>body_camera</th>\n",
              "      <th>longitude</th>\n",
              "      <th>latitude</th>\n",
              "      <th>is_geocoding_exact</th>\n",
              "    </tr>\n",
              "  </thead>\n",
              "  <tbody>\n",
              "    <tr>\n",
              "      <th>0</th>\n",
              "      <td>3</td>\n",
              "      <td>2015-01-02</td>\n",
              "      <td>shot</td>\n",
              "      <td>gun</td>\n",
              "      <td>53.0</td>\n",
              "      <td>M</td>\n",
              "      <td>A</td>\n",
              "      <td>Shelton</td>\n",
              "      <td>WA</td>\n",
              "      <td>True</td>\n",
              "      <td>attack</td>\n",
              "      <td>Not fleeing</td>\n",
              "      <td>False</td>\n",
              "      <td>-123.122</td>\n",
              "      <td>47.247</td>\n",
              "      <td>True</td>\n",
              "    </tr>\n",
              "    <tr>\n",
              "      <th>1</th>\n",
              "      <td>4</td>\n",
              "      <td>2015-01-02</td>\n",
              "      <td>shot</td>\n",
              "      <td>gun</td>\n",
              "      <td>47.0</td>\n",
              "      <td>M</td>\n",
              "      <td>W</td>\n",
              "      <td>Aloha</td>\n",
              "      <td>OR</td>\n",
              "      <td>False</td>\n",
              "      <td>attack</td>\n",
              "      <td>Not fleeing</td>\n",
              "      <td>False</td>\n",
              "      <td>-122.892</td>\n",
              "      <td>45.487</td>\n",
              "      <td>True</td>\n",
              "    </tr>\n",
              "    <tr>\n",
              "      <th>2</th>\n",
              "      <td>5</td>\n",
              "      <td>2015-01-03</td>\n",
              "      <td>shot and Tasered</td>\n",
              "      <td>unarmed</td>\n",
              "      <td>23.0</td>\n",
              "      <td>M</td>\n",
              "      <td>H</td>\n",
              "      <td>Wichita</td>\n",
              "      <td>KS</td>\n",
              "      <td>False</td>\n",
              "      <td>other</td>\n",
              "      <td>Not fleeing</td>\n",
              "      <td>False</td>\n",
              "      <td>-97.281</td>\n",
              "      <td>37.695</td>\n",
              "      <td>True</td>\n",
              "    </tr>\n",
              "    <tr>\n",
              "      <th>3</th>\n",
              "      <td>8</td>\n",
              "      <td>2015-01-04</td>\n",
              "      <td>shot</td>\n",
              "      <td>toy weapon</td>\n",
              "      <td>32.0</td>\n",
              "      <td>M</td>\n",
              "      <td>W</td>\n",
              "      <td>San Francisco</td>\n",
              "      <td>CA</td>\n",
              "      <td>True</td>\n",
              "      <td>attack</td>\n",
              "      <td>Not fleeing</td>\n",
              "      <td>False</td>\n",
              "      <td>-122.422</td>\n",
              "      <td>37.763</td>\n",
              "      <td>True</td>\n",
              "    </tr>\n",
              "    <tr>\n",
              "      <th>4</th>\n",
              "      <td>9</td>\n",
              "      <td>2015-01-04</td>\n",
              "      <td>shot</td>\n",
              "      <td>nail gun</td>\n",
              "      <td>39.0</td>\n",
              "      <td>M</td>\n",
              "      <td>H</td>\n",
              "      <td>Evans</td>\n",
              "      <td>CO</td>\n",
              "      <td>False</td>\n",
              "      <td>attack</td>\n",
              "      <td>Not fleeing</td>\n",
              "      <td>False</td>\n",
              "      <td>-104.692</td>\n",
              "      <td>40.384</td>\n",
              "      <td>True</td>\n",
              "    </tr>\n",
              "  </tbody>\n",
              "</table>\n",
              "</div>\n",
              "      <button class=\"colab-df-convert\" onclick=\"convertToInteractive('df-ea637c2a-9c7c-4e0e-9c96-458648cd1c84')\"\n",
              "              title=\"Convert this dataframe to an interactive table.\"\n",
              "              style=\"display:none;\">\n",
              "        \n",
              "  <svg xmlns=\"http://www.w3.org/2000/svg\" height=\"24px\"viewBox=\"0 0 24 24\"\n",
              "       width=\"24px\">\n",
              "    <path d=\"M0 0h24v24H0V0z\" fill=\"none\"/>\n",
              "    <path d=\"M18.56 5.44l.94 2.06.94-2.06 2.06-.94-2.06-.94-.94-2.06-.94 2.06-2.06.94zm-11 1L8.5 8.5l.94-2.06 2.06-.94-2.06-.94L8.5 2.5l-.94 2.06-2.06.94zm10 10l.94 2.06.94-2.06 2.06-.94-2.06-.94-.94-2.06-.94 2.06-2.06.94z\"/><path d=\"M17.41 7.96l-1.37-1.37c-.4-.4-.92-.59-1.43-.59-.52 0-1.04.2-1.43.59L10.3 9.45l-7.72 7.72c-.78.78-.78 2.05 0 2.83L4 21.41c.39.39.9.59 1.41.59.51 0 1.02-.2 1.41-.59l7.78-7.78 2.81-2.81c.8-.78.8-2.07 0-2.86zM5.41 20L4 18.59l7.72-7.72 1.47 1.35L5.41 20z\"/>\n",
              "  </svg>\n",
              "      </button>\n",
              "      \n",
              "  <style>\n",
              "    .colab-df-container {\n",
              "      display:flex;\n",
              "      flex-wrap:wrap;\n",
              "      gap: 12px;\n",
              "    }\n",
              "\n",
              "    .colab-df-convert {\n",
              "      background-color: #E8F0FE;\n",
              "      border: none;\n",
              "      border-radius: 50%;\n",
              "      cursor: pointer;\n",
              "      display: none;\n",
              "      fill: #1967D2;\n",
              "      height: 32px;\n",
              "      padding: 0 0 0 0;\n",
              "      width: 32px;\n",
              "    }\n",
              "\n",
              "    .colab-df-convert:hover {\n",
              "      background-color: #E2EBFA;\n",
              "      box-shadow: 0px 1px 2px rgba(60, 64, 67, 0.3), 0px 1px 3px 1px rgba(60, 64, 67, 0.15);\n",
              "      fill: #174EA6;\n",
              "    }\n",
              "\n",
              "    [theme=dark] .colab-df-convert {\n",
              "      background-color: #3B4455;\n",
              "      fill: #D2E3FC;\n",
              "    }\n",
              "\n",
              "    [theme=dark] .colab-df-convert:hover {\n",
              "      background-color: #434B5C;\n",
              "      box-shadow: 0px 1px 3px 1px rgba(0, 0, 0, 0.15);\n",
              "      filter: drop-shadow(0px 1px 2px rgba(0, 0, 0, 0.3));\n",
              "      fill: #FFFFFF;\n",
              "    }\n",
              "  </style>\n",
              "\n",
              "      <script>\n",
              "        const buttonEl =\n",
              "          document.querySelector('#df-ea637c2a-9c7c-4e0e-9c96-458648cd1c84 button.colab-df-convert');\n",
              "        buttonEl.style.display =\n",
              "          google.colab.kernel.accessAllowed ? 'block' : 'none';\n",
              "\n",
              "        async function convertToInteractive(key) {\n",
              "          const element = document.querySelector('#df-ea637c2a-9c7c-4e0e-9c96-458648cd1c84');\n",
              "          const dataTable =\n",
              "            await google.colab.kernel.invokeFunction('convertToInteractive',\n",
              "                                                     [key], {});\n",
              "          if (!dataTable) return;\n",
              "\n",
              "          const docLinkHtml = 'Like what you see? Visit the ' +\n",
              "            '<a target=\"_blank\" href=https://colab.research.google.com/notebooks/data_table.ipynb>data table notebook</a>'\n",
              "            + ' to learn more about interactive tables.';\n",
              "          element.innerHTML = '';\n",
              "          dataTable['output_type'] = 'display_data';\n",
              "          await google.colab.output.renderOutput(dataTable, element);\n",
              "          const docLink = document.createElement('div');\n",
              "          docLink.innerHTML = docLinkHtml;\n",
              "          element.appendChild(docLink);\n",
              "        }\n",
              "      </script>\n",
              "    </div>\n",
              "  </div>\n",
              "  "
            ]
          },
          "metadata": {},
          "execution_count": 27
        }
      ]
    },
    {
      "cell_type": "markdown",
      "source": [
        "Check In: 2"
      ],
      "metadata": {
        "id": "G7dYIu6JEhuU"
      }
    },
    {
      "cell_type": "code",
      "source": [
        "#Converting Threat level other and undetermined to same property other\n",
        "df[\"threat_level\"].replace(\"undetermined\", \"other\", inplace=True)\n",
        "\n",
        "#Converting then to 0 and 1\n",
        "df[\"threat_level\"].replace(\"attack\", 1, inplace=True)\n",
        "df[\"threat_level\"].replace(\"other\", 0, inplace=True)\n",
        "df[\"threat_level\"].value_counts()\n"
      ],
      "metadata": {
        "id": "_-zF_ZW-IoXu",
        "colab": {
          "base_uri": "https://localhost:8080/"
        },
        "outputId": "85bc7b42-4879-4a0c-ba80-5a063ac45044"
      },
      "execution_count": null,
      "outputs": [
        {
          "output_type": "execute_result",
          "data": {
            "text/plain": [
              "1    4907\n",
              "0    2895\n",
              "Name: threat_level, dtype: int64"
            ]
          },
          "metadata": {},
          "execution_count": 40
        }
      ]
    },
    {
      "cell_type": "code",
      "source": [
        "#Removing BodyCamera column as it done not provide any value to our analysis\n",
        "df.drop(columns=[\"body_camera\"], axis=True, inplace=True)"
      ],
      "metadata": {
        "id": "8wcsSe507rkB"
      },
      "execution_count": null,
      "outputs": []
    },
    {
      "cell_type": "code",
      "source": [
        "#Converting Date to Only Year to get information from that column\n",
        "for i, j in enumerate(df[\"date\"]):\n",
        "  df[\"date\"].iloc[i] = int(j[:4])"
      ],
      "metadata": {
        "colab": {
          "base_uri": "https://localhost:8080/"
        },
        "id": "Q80SK38UEeDb",
        "outputId": "ab1238dd-f886-4886-920a-dcab69c67393"
      },
      "execution_count": null,
      "outputs": [
        {
          "output_type": "stream",
          "name": "stderr",
          "text": [
            "/usr/local/lib/python3.7/dist-packages/pandas/core/indexing.py:1732: SettingWithCopyWarning: \n",
            "A value is trying to be set on a copy of a slice from a DataFrame\n",
            "\n",
            "See the caveats in the documentation: https://pandas.pydata.org/pandas-docs/stable/user_guide/indexing.html#returning-a-view-versus-a-copy\n",
            "  self._setitem_single_block(indexer, value, name)\n"
          ]
        },
        {
          "output_type": "execute_result",
          "data": {
            "text/plain": [
              "0    2015\n",
              "1    2015\n",
              "2    2015\n",
              "3    2015\n",
              "4    2015\n",
              "Name: date, dtype: object"
            ]
          },
          "metadata": {},
          "execution_count": 46
        }
      ]
    },
    {
      "cell_type": "code",
      "source": [
        "import matplotlib\n",
        "import numpy as np\n",
        "import matplotlib.pyplot as plt\n",
        "\n",
        "date_dict = dict(df[\"date\"].value_counts())\n",
        "X_date = [i for i, j in date_dict.items()]\n",
        "Y_date = [j for i, j in date_dict.items()]\n",
        "plt.bar(X_date, Y_date)\n",
        "plt.xlabel(\"Years\")\n",
        "plt.ylabel(\" No. of Killings\")\n",
        "plt.title(\"Year wise Killings\")\n",
        "plt.show()\n"
      ],
      "metadata": {
        "colab": {
          "base_uri": "https://localhost:8080/",
          "height": 295
        },
        "id": "9298U--UGjiJ",
        "outputId": "cad6b45d-34cc-466d-a243-c9c68840a024"
      },
      "execution_count": null,
      "outputs": [
        {
          "output_type": "display_data",
          "data": {
            "text/plain": [
              "<Figure size 432x288 with 1 Axes>"
            ],
            "image/png": "[encoded data removed]"
          },
          "metadata": {
            "needs_background": "light"
          }
        }
      ]
    },
    {
      "cell_type": "code",
      "source": [
        "race_dict = dict(df[\"race\"].value_counts())\n",
        "\n",
        "X_date = [i for i, j in race_dict.items()]\n",
        "Y_date = [j for i, j in race_dict.items()]\n",
        "plt.bar(X_date, Y_date)\n",
        "plt.xlabel(\"Race\")\n",
        "plt.ylabel(\" No. of Killings\")\n",
        "plt.title(\"Race wise Killings\")\n",
        "plt.show()\n"
      ],
      "metadata": {
        "colab": {
          "base_uri": "https://localhost:8080/",
          "height": 295
        },
        "id": "p0Q0cNl9GyHb",
        "outputId": "8d14cf22-0b39-47f4-f925-15a37e43abe3"
      },
      "execution_count": null,
      "outputs": [
        {
          "output_type": "display_data",
          "data": {
            "text/plain": [
              "<Figure size 432x288 with 1 Axes>"
            ],
            "image/png": "[encoded data removed]"
          },
          "metadata": {
            "needs_background": "light"
          }
        }
      ]
    },
    {
      "cell_type": "code",
      "source": [
        "gender_dict = dict(df[\"gender\"].value_counts())\n",
        "\n",
        "X_date = [i for i, j in gender_dict.items()]\n",
        "Y_date = [j for i, j in gender_dict.items()]\n",
        "plt.bar(X_date, Y_date)\n",
        "plt.xlabel(\"Gender\")\n",
        "plt.ylabel(\" No. of Killings\")\n",
        "plt.title(\"Gender wise Killings\")\n",
        "plt.show()\n"
      ],
      "metadata": {
        "colab": {
          "base_uri": "https://localhost:8080/",
          "height": 295
        },
        "id": "vo_0JylwIDQq",
        "outputId": "58eef3a5-7481-494c-cbcd-120486c1ff7f"
      },
      "execution_count": null,
      "outputs": [
        {
          "output_type": "display_data",
          "data": {
            "text/plain": [
              "<Figure size 432x288 with 1 Axes>"
            ],
            "image/png": "[encoded data removed]"
          },
          "metadata": {
            "needs_background": "light"
          }
        }
      ]
    },
    {
      "cell_type": "code",
      "source": [
        "#Removing columns Id, City, State, is_geocoding_exact, longitude, latitude as they do not provide much value to the model\n",
        "df[\"is_geocoding_exact\"].value_counts()\n",
        "df.drop([\"id\", \"is_geocoding_exact\", \"city\", \"state\", \"latitude\", \"longitude\"], axis=1, inplace=True)\n",
        "df.head()"
      ],
      "metadata": {
        "colab": {
          "base_uri": "https://localhost:8080/",
          "height": 206
        },
        "id": "X95L_G7eIUCe",
        "outputId": "7910e5b0-3e56-490c-8910-146e5f1b8154"
      },
      "execution_count": null,
      "outputs": [
        {
          "output_type": "execute_result",
          "data": {
            "text/plain": [
              "   date   manner_of_death       armed   age gender race  \\\n",
              "0  2015              shot         gun  53.0      M    A   \n",
              "1  2015              shot         gun  47.0      M    W   \n",
              "2  2015  shot and Tasered     unarmed  23.0      M    H   \n",
              "3  2015              shot  toy weapon  32.0      M    W   \n",
              "4  2015              shot    nail gun  39.0      M    H   \n",
              "\n",
              "   signs_of_mental_illness  threat_level         flee  longitude  latitude  \n",
              "0                     True             1  Not fleeing   -123.122    47.247  \n",
              "1                    False             1  Not fleeing   -122.892    45.487  \n",
              "2                    False             0  Not fleeing    -97.281    37.695  \n",
              "3                     True             1  Not fleeing   -122.422    37.763  \n",
              "4                    False             1  Not fleeing   -104.692    40.384  "
            ],
            "text/html": [
              "\n",
              "  <div id=\"df-b4e178f2-ce98-4237-b278-197e9fbc48b7\">\n",
              "    <div class=\"colab-df-container\">\n",
              "      <div>\n",
              "<style scoped>\n",
              "    .dataframe tbody tr th:only-of-type {\n",
              "        vertical-align: middle;\n",
              "    }\n",
              "\n",
              "    .dataframe tbody tr th {\n",
              "        vertical-align: top;\n",
              "    }\n",
              "\n",
              "    .dataframe thead th {\n",
              "        text-align: right;\n",
              "    }\n",
              "</style>\n",
              "<table border=\"1\" class=\"dataframe\">\n",
              "  <thead>\n",
              "    <tr style=\"text-align: right;\">\n",
              "      <th></th>\n",
              "      <th>date</th>\n",
              "      <th>manner_of_death</th>\n",
              "      <th>armed</th>\n",
              "      <th>age</th>\n",
              "      <th>gender</th>\n",
              "      <th>race</th>\n",
              "      <th>signs_of_mental_illness</th>\n",
              "      <th>threat_level</th>\n",
              "      <th>flee</th>\n",
              "      <th>longitude</th>\n",
              "      <th>latitude</th>\n",
              "    </tr>\n",
              "  </thead>\n",
              "  <tbody>\n",
              "    <tr>\n",
              "      <th>0</th>\n",
              "      <td>2015</td>\n",
              "      <td>shot</td>\n",
              "      <td>gun</td>\n",
              "      <td>53.0</td>\n",
              "      <td>M</td>\n",
              "      <td>A</td>\n",
              "      <td>True</td>\n",
              "      <td>1</td>\n",
              "      <td>Not fleeing</td>\n",
              "      <td>-123.122</td>\n",
              "      <td>47.247</td>\n",
              "    </tr>\n",
              "    <tr>\n",
              "      <th>1</th>\n",
              "      <td>2015</td>\n",
              "      <td>shot</td>\n",
              "      <td>gun</td>\n",
              "      <td>47.0</td>\n",
              "      <td>M</td>\n",
              "      <td>W</td>\n",
              "      <td>False</td>\n",
              "      <td>1</td>\n",
              "      <td>Not fleeing</td>\n",
              "      <td>-122.892</td>\n",
              "      <td>45.487</td>\n",
              "    </tr>\n",
              "    <tr>\n",
              "      <th>2</th>\n",
              "      <td>2015</td>\n",
              "      <td>shot and Tasered</td>\n",
              "      <td>unarmed</td>\n",
              "      <td>23.0</td>\n",
              "      <td>M</td>\n",
              "      <td>H</td>\n",
              "      <td>False</td>\n",
              "      <td>0</td>\n",
              "      <td>Not fleeing</td>\n",
              "      <td>-97.281</td>\n",
              "      <td>37.695</td>\n",
              "    </tr>\n",
              "    <tr>\n",
              "      <th>3</th>\n",
              "      <td>2015</td>\n",
              "      <td>shot</td>\n",
              "      <td>toy weapon</td>\n",
              "      <td>32.0</td>\n",
              "      <td>M</td>\n",
              "      <td>W</td>\n",
              "      <td>True</td>\n",
              "      <td>1</td>\n",
              "      <td>Not fleeing</td>\n",
              "      <td>-122.422</td>\n",
              "      <td>37.763</td>\n",
              "    </tr>\n",
              "    <tr>\n",
              "      <th>4</th>\n",
              "      <td>2015</td>\n",
              "      <td>shot</td>\n",
              "      <td>nail gun</td>\n",
              "      <td>39.0</td>\n",
              "      <td>M</td>\n",
              "      <td>H</td>\n",
              "      <td>False</td>\n",
              "      <td>1</td>\n",
              "      <td>Not fleeing</td>\n",
              "      <td>-104.692</td>\n",
              "      <td>40.384</td>\n",
              "    </tr>\n",
              "  </tbody>\n",
              "</table>\n",
              "</div>\n",
              "      <button class=\"colab-df-convert\" onclick=\"convertToInteractive('df-b4e178f2-ce98-4237-b278-197e9fbc48b7')\"\n",
              "              title=\"Convert this dataframe to an interactive table.\"\n",
              "              style=\"display:none;\">\n",
              "        \n",
              "  <svg xmlns=\"http://www.w3.org/2000/svg\" height=\"24px\"viewBox=\"0 0 24 24\"\n",
              "       width=\"24px\">\n",
              "    <path d=\"M0 0h24v24H0V0z\" fill=\"none\"/>\n",
              "    <path d=\"M18.56 5.44l.94 2.06.94-2.06 2.06-.94-2.06-.94-.94-2.06-.94 2.06-2.06.94zm-11 1L8.5 8.5l.94-2.06 2.06-.94-2.06-.94L8.5 2.5l-.94 2.06-2.06.94zm10 10l.94 2.06.94-2.06 2.06-.94-2.06-.94-.94-2.06-.94 2.06-2.06.94z\"/><path d=\"M17.41 7.96l-1.37-1.37c-.4-.4-.92-.59-1.43-.59-.52 0-1.04.2-1.43.59L10.3 9.45l-7.72 7.72c-.78.78-.78 2.05 0 2.83L4 21.41c.39.39.9.59 1.41.59.51 0 1.02-.2 1.41-.59l7.78-7.78 2.81-2.81c.8-.78.8-2.07 0-2.86zM5.41 20L4 18.59l7.72-7.72 1.47 1.35L5.41 20z\"/>\n",
              "  </svg>\n",
              "      </button>\n",
              "      \n",
              "  <style>\n",
              "    .colab-df-container {\n",
              "      display:flex;\n",
              "      flex-wrap:wrap;\n",
              "      gap: 12px;\n",
              "    }\n",
              "\n",
              "    .colab-df-convert {\n",
              "      background-color: #E8F0FE;\n",
              "      border: none;\n",
              "      border-radius: 50%;\n",
              "      cursor: pointer;\n",
              "      display: none;\n",
              "      fill: #1967D2;\n",
              "      height: 32px;\n",
              "      padding: 0 0 0 0;\n",
              "      width: 32px;\n",
              "    }\n",
              "\n",
              "    .colab-df-convert:hover {\n",
              "      background-color: #E2EBFA;\n",
              "      box-shadow: 0px 1px 2px rgba(60, 64, 67, 0.3), 0px 1px 3px 1px rgba(60, 64, 67, 0.15);\n",
              "      fill: #174EA6;\n",
              "    }\n",
              "\n",
              "    [theme=dark] .colab-df-convert {\n",
              "      background-color: #3B4455;\n",
              "      fill: #D2E3FC;\n",
              "    }\n",
              "\n",
              "    [theme=dark] .colab-df-convert:hover {\n",
              "      background-color: #434B5C;\n",
              "      box-shadow: 0px 1px 3px 1px rgba(0, 0, 0, 0.15);\n",
              "      filter: drop-shadow(0px 1px 2px rgba(0, 0, 0, 0.3));\n",
              "      fill: #FFFFFF;\n",
              "    }\n",
              "  </style>\n",
              "\n",
              "      <script>\n",
              "        const buttonEl =\n",
              "          document.querySelector('#df-b4e178f2-ce98-4237-b278-197e9fbc48b7 button.colab-df-convert');\n",
              "        buttonEl.style.display =\n",
              "          google.colab.kernel.accessAllowed ? 'block' : 'none';\n",
              "\n",
              "        async function convertToInteractive(key) {\n",
              "          const element = document.querySelector('#df-b4e178f2-ce98-4237-b278-197e9fbc48b7');\n",
              "          const dataTable =\n",
              "            await google.colab.kernel.invokeFunction('convertToInteractive',\n",
              "                                                     [key], {});\n",
              "          if (!dataTable) return;\n",
              "\n",
              "          const docLinkHtml = 'Like what you see? Visit the ' +\n",
              "            '<a target=\"_blank\" href=https://colab.research.google.com/notebooks/data_table.ipynb>data table notebook</a>'\n",
              "            + ' to learn more about interactive tables.';\n",
              "          element.innerHTML = '';\n",
              "          dataTable['output_type'] = 'display_data';\n",
              "          await google.colab.output.renderOutput(dataTable, element);\n",
              "          const docLink = document.createElement('div');\n",
              "          docLink.innerHTML = docLinkHtml;\n",
              "          element.appendChild(docLink);\n",
              "        }\n",
              "      </script>\n",
              "    </div>\n",
              "  </div>\n",
              "  "
            ]
          },
          "metadata": {},
          "execution_count": 66
        }
      ]
    },
    {
      "cell_type": "code",
      "source": [
        "X_age_group = [\"Old\", \"Teen\", \"Adult\", \"Kid\"]\n",
        "old = len(df[df[\"age\"] >= 60])\n",
        "kid = len(df[df[\"age\"] <= 10])\n",
        "adult = len(df[(df[\"age\"] > 20) & (df[\"age\"] < 60)])\n",
        "teen = len(df[(df[\"age\"] > 10) & (df[\"age\"] <= 20)])\n",
        "Y_age_numbers = [old, teen, adult, kid]\n",
        "plt.bar(X_age_group, Y_age_numbers)\n",
        "plt.xlabel(\"Age Group\")\n",
        "plt.ylabel(\"No. of Killings\")\n",
        "plt.title(\"Age group wise Killings\")\n",
        "plt.show()"
      ],
      "metadata": {
        "colab": {
          "base_uri": "https://localhost:8080/",
          "height": 295
        },
        "id": "VZeVf-SVJs6B",
        "outputId": "8d9e319a-8db0-46d7-d267-1a992aa47fbb"
      },
      "execution_count": null,
      "outputs": [
        {
          "output_type": "display_data",
          "data": {
            "text/plain": [
              "<Figure size 432x288 with 1 Axes>"
            ],
            "image/png": "[encoded data removed]"
          },
          "metadata": {
            "needs_background": "light"
          }
        }
      ]
    },
    {
      "cell_type": "code",
      "source": [
        "#Converting car, Foot, and Other in Fleeing to Fleeing\n",
        "df[\"flee\"].value_counts()\n",
        "df[\"flee\"].replace(\"Car\", \"Fleeing\", inplace=True)\n",
        "df[\"flee\"].replace(\"Foot\", \"Fleeing\", inplace=True)\n",
        "df[\"flee\"].replace(\"Other\", \"Fleeing\", inplace=True)\n",
        "df[\"flee\"].value_counts()\n",
        "\n",
        "#Encoding them with 0 and 1\n",
        "df[\"flee\"].replace(\"Fleeing\", 1, inplace=True)\n",
        "df[\"flee\"].replace(\"Not fleeing\", 0, inplace=True)\n",
        "df[\"flee\"].value_counts()"
      ],
      "metadata": {
        "colab": {
          "base_uri": "https://localhost:8080/"
        },
        "id": "rbg11JL6LFa2",
        "outputId": "69d0c9dd-9cef-42db-887d-bada1379df24"
      },
      "execution_count": null,
      "outputs": [
        {
          "output_type": "execute_result",
          "data": {
            "text/plain": [
              "0    5257\n",
              "1    2545\n",
              "Name: flee, dtype: int64"
            ]
          },
          "metadata": {},
          "execution_count": 82
        }
      ]
    },
    {
      "cell_type": "code",
      "source": [
        "df[\"threat_level\"].value_counts()"
      ],
      "metadata": {
        "colab": {
          "base_uri": "https://localhost:8080/"
        },
        "id": "ACRdtK2SLqSA",
        "outputId": "f4c7b57f-26bf-4e54-f020-66aeb7757cc8"
      },
      "execution_count": null,
      "outputs": [
        {
          "output_type": "execute_result",
          "data": {
            "text/plain": [
              "1    4907\n",
              "0    2895\n",
              "Name: threat_level, dtype: int64"
            ]
          },
          "metadata": {},
          "execution_count": 84
        }
      ]
    },
    {
      "cell_type": "code",
      "source": [
        "#Encoding signs_of_mental_illness column with 0 and 1\n",
        "df[\"signs_of_mental_illness\"].replace(True, 1, inplace=True)\n",
        "df[\"signs_of_mental_illness\"].replace(False, 0, inplace=True)\n",
        "df[\"signs_of_mental_illness\"].value_counts()"
      ],
      "metadata": {
        "colab": {
          "base_uri": "https://localhost:8080/"
        },
        "id": "emV6bfX1M80e",
        "outputId": "d9bf1d72-0a4e-4c1b-f3fd-516835d042ff"
      },
      "execution_count": null,
      "outputs": [
        {
          "output_type": "execute_result",
          "data": {
            "text/plain": [
              "0    6151\n",
              "1    1651\n",
              "Name: signs_of_mental_illness, dtype: int64"
            ]
          },
          "metadata": {},
          "execution_count": 87
        }
      ]
    },
    {
      "cell_type": "code",
      "source": [
        "#Removing date and gender as it will not give much inference to our analysis\n",
        "df.drop([\"date\", \"gender\"], axis=1, inplace=True)\n",
        "df.head()"
      ],
      "metadata": {
        "colab": {
          "base_uri": "https://localhost:8080/",
          "height": 206
        },
        "id": "4iy4me8gNDZS",
        "outputId": "7da4619a-833c-4b44-c9d9-b2687b9ecaec"
      },
      "execution_count": null,
      "outputs": [
        {
          "output_type": "execute_result",
          "data": {
            "text/plain": [
              "    manner_of_death       armed   age race  signs_of_mental_illness  \\\n",
              "0              shot         gun  53.0    A                        1   \n",
              "1              shot         gun  47.0    W                        0   \n",
              "2  shot and Tasered     unarmed  23.0    H                        0   \n",
              "3              shot  toy weapon  32.0    W                        1   \n",
              "4              shot    nail gun  39.0    H                        0   \n",
              "\n",
              "   threat_level  flee  \n",
              "0             1     0  \n",
              "1             1     0  \n",
              "2             0     0  \n",
              "3             1     0  \n",
              "4             1     0  "
            ],
            "text/html": [
              "\n",
              "  <div id=\"df-7f5f4a4b-7786-4c6a-859b-ee40dd029ecc\">\n",
              "    <div class=\"colab-df-container\">\n",
              "      <div>\n",
              "<style scoped>\n",
              "    .dataframe tbody tr th:only-of-type {\n",
              "        vertical-align: middle;\n",
              "    }\n",
              "\n",
              "    .dataframe tbody tr th {\n",
              "        vertical-align: top;\n",
              "    }\n",
              "\n",
              "    .dataframe thead th {\n",
              "        text-align: right;\n",
              "    }\n",
              "</style>\n",
              "<table border=\"1\" class=\"dataframe\">\n",
              "  <thead>\n",
              "    <tr style=\"text-align: right;\">\n",
              "      <th></th>\n",
              "      <th>manner_of_death</th>\n",
              "      <th>armed</th>\n",
              "      <th>age</th>\n",
              "      <th>race</th>\n",
              "      <th>signs_of_mental_illness</th>\n",
              "      <th>threat_level</th>\n",
              "      <th>flee</th>\n",
              "    </tr>\n",
              "  </thead>\n",
              "  <tbody>\n",
              "    <tr>\n",
              "      <th>0</th>\n",
              "      <td>shot</td>\n",
              "      <td>gun</td>\n",
              "      <td>53.0</td>\n",
              "      <td>A</td>\n",
              "      <td>1</td>\n",
              "      <td>1</td>\n",
              "      <td>0</td>\n",
              "    </tr>\n",
              "    <tr>\n",
              "      <th>1</th>\n",
              "      <td>shot</td>\n",
              "      <td>gun</td>\n",
              "      <td>47.0</td>\n",
              "      <td>W</td>\n",
              "      <td>0</td>\n",
              "      <td>1</td>\n",
              "      <td>0</td>\n",
              "    </tr>\n",
              "    <tr>\n",
              "      <th>2</th>\n",
              "      <td>shot and Tasered</td>\n",
              "      <td>unarmed</td>\n",
              "      <td>23.0</td>\n",
              "      <td>H</td>\n",
              "      <td>0</td>\n",
              "      <td>0</td>\n",
              "      <td>0</td>\n",
              "    </tr>\n",
              "    <tr>\n",
              "      <th>3</th>\n",
              "      <td>shot</td>\n",
              "      <td>toy weapon</td>\n",
              "      <td>32.0</td>\n",
              "      <td>W</td>\n",
              "      <td>1</td>\n",
              "      <td>1</td>\n",
              "      <td>0</td>\n",
              "    </tr>\n",
              "    <tr>\n",
              "      <th>4</th>\n",
              "      <td>shot</td>\n",
              "      <td>nail gun</td>\n",
              "      <td>39.0</td>\n",
              "      <td>H</td>\n",
              "      <td>0</td>\n",
              "      <td>1</td>\n",
              "      <td>0</td>\n",
              "    </tr>\n",
              "  </tbody>\n",
              "</table>\n",
              "</div>\n",
              "      <button class=\"colab-df-convert\" onclick=\"convertToInteractive('df-7f5f4a4b-7786-4c6a-859b-ee40dd029ecc')\"\n",
              "              title=\"Convert this dataframe to an interactive table.\"\n",
              "              style=\"display:none;\">\n",
              "        \n",
              "  <svg xmlns=\"http://www.w3.org/2000/svg\" height=\"24px\"viewBox=\"0 0 24 24\"\n",
              "       width=\"24px\">\n",
              "    <path d=\"M0 0h24v24H0V0z\" fill=\"none\"/>\n",
              "    <path d=\"M18.56 5.44l.94 2.06.94-2.06 2.06-.94-2.06-.94-.94-2.06-.94 2.06-2.06.94zm-11 1L8.5 8.5l.94-2.06 2.06-.94-2.06-.94L8.5 2.5l-.94 2.06-2.06.94zm10 10l.94 2.06.94-2.06 2.06-.94-2.06-.94-.94-2.06-.94 2.06-2.06.94z\"/><path d=\"M17.41 7.96l-1.37-1.37c-.4-.4-.92-.59-1.43-.59-.52 0-1.04.2-1.43.59L10.3 9.45l-7.72 7.72c-.78.78-.78 2.05 0 2.83L4 21.41c.39.39.9.59 1.41.59.51 0 1.02-.2 1.41-.59l7.78-7.78 2.81-2.81c.8-.78.8-2.07 0-2.86zM5.41 20L4 18.59l7.72-7.72 1.47 1.35L5.41 20z\"/>\n",
              "  </svg>\n",
              "      </button>\n",
              "      \n",
              "  <style>\n",
              "    .colab-df-container {\n",
              "      display:flex;\n",
              "      flex-wrap:wrap;\n",
              "      gap: 12px;\n",
              "    }\n",
              "\n",
              "    .colab-df-convert {\n",
              "      background-color: #E8F0FE;\n",
              "      border: none;\n",
              "      border-radius: 50%;\n",
              "      cursor: pointer;\n",
              "      display: none;\n",
              "      fill: #1967D2;\n",
              "      height: 32px;\n",
              "      padding: 0 0 0 0;\n",
              "      width: 32px;\n",
              "    }\n",
              "\n",
              "    .colab-df-convert:hover {\n",
              "      background-color: #E2EBFA;\n",
              "      box-shadow: 0px 1px 2px rgba(60, 64, 67, 0.3), 0px 1px 3px 1px rgba(60, 64, 67, 0.15);\n",
              "      fill: #174EA6;\n",
              "    }\n",
              "\n",
              "    [theme=dark] .colab-df-convert {\n",
              "      background-color: #3B4455;\n",
              "      fill: #D2E3FC;\n",
              "    }\n",
              "\n",
              "    [theme=dark] .colab-df-convert:hover {\n",
              "      background-color: #434B5C;\n",
              "      box-shadow: 0px 1px 3px 1px rgba(0, 0, 0, 0.15);\n",
              "      filter: drop-shadow(0px 1px 2px rgba(0, 0, 0, 0.3));\n",
              "      fill: #FFFFFF;\n",
              "    }\n",
              "  </style>\n",
              "\n",
              "      <script>\n",
              "        const buttonEl =\n",
              "          document.querySelector('#df-7f5f4a4b-7786-4c6a-859b-ee40dd029ecc button.colab-df-convert');\n",
              "        buttonEl.style.display =\n",
              "          google.colab.kernel.accessAllowed ? 'block' : 'none';\n",
              "\n",
              "        async function convertToInteractive(key) {\n",
              "          const element = document.querySelector('#df-7f5f4a4b-7786-4c6a-859b-ee40dd029ecc');\n",
              "          const dataTable =\n",
              "            await google.colab.kernel.invokeFunction('convertToInteractive',\n",
              "                                                     [key], {});\n",
              "          if (!dataTable) return;\n",
              "\n",
              "          const docLinkHtml = 'Like what you see? Visit the ' +\n",
              "            '<a target=\"_blank\" href=https://colab.research.google.com/notebooks/data_table.ipynb>data table notebook</a>'\n",
              "            + ' to learn more about interactive tables.';\n",
              "          element.innerHTML = '';\n",
              "          dataTable['output_type'] = 'display_data';\n",
              "          await google.colab.output.renderOutput(dataTable, element);\n",
              "          const docLink = document.createElement('div');\n",
              "          docLink.innerHTML = docLinkHtml;\n",
              "          element.appendChild(docLink);\n",
              "        }\n",
              "      </script>\n",
              "    </div>\n",
              "  </div>\n",
              "  "
            ]
          },
          "metadata": {},
          "execution_count": 89
        }
      ]
    },
    {
      "cell_type": "code",
      "source": [
        "df[\"manner_of_death\"].value_counts()"
      ],
      "metadata": {
        "colab": {
          "base_uri": "https://localhost:8080/"
        },
        "id": "kHYeh94UNV8R",
        "outputId": "6dd0719f-db01-47cd-f859-97fe373656f6"
      },
      "execution_count": null,
      "outputs": [
        {
          "output_type": "execute_result",
          "data": {
            "text/plain": [
              "shot                7463\n",
              "shot and Tasered     339\n",
              "Name: manner_of_death, dtype: int64"
            ]
          },
          "metadata": {},
          "execution_count": 90
        }
      ]
    },
    {
      "cell_type": "code",
      "source": [],
      "metadata": {
        "id": "Zu7z-5fUIjbC"
      },
      "execution_count": null,
      "outputs": []
    },
    {
      "cell_type": "code",
      "source": [],
      "metadata": {
        "id": "J4Po-2-vIR3F"
      },
      "execution_count": null,
      "outputs": []
    },
    {
      "cell_type": "markdown",
      "source": [
        "check IN-3"
      ],
      "metadata": {
        "id": "y7klMj47ITOx"
      }
    },
    {
      "cell_type": "code",
      "source": [
        "import pandas as pd\n",
        "import numpy as np\n",
        "import matplotlib.pyplot as plt\n",
        "import seaborn as sns \n",
        "sns.set(rc={'figure.figsize':(11.7,8.27)})\n",
        "import plotly.express as px\n",
        "import plotly.graph_objects as go\n",
        "import plotly.figure_factory as ff\n",
        "from plotly.colors import n_colors\n",
        "from plotly.subplots import make_subplots"
      ],
      "metadata": {
        "id": "7AhLo3zwE5iX"
      },
      "execution_count": 2,
      "outputs": []
    },
    {
      "cell_type": "code",
      "source": [
        "data = pd.read_csv(\"/content/drive/MyDrive/shootings.csv\")"
      ],
      "metadata": {
        "id": "i0t7ToYJN175"
      },
      "execution_count": 3,
      "outputs": []
    },
    {
      "cell_type": "code",
      "source": [
        "data.shape"
      ],
      "metadata": {
        "colab": {
          "base_uri": "https://localhost:8080/"
        },
        "id": "IK-RzNIsHCp4",
        "outputId": "36adc3ec-e4bd-4098-c3ee-c4492f2684e0"
      },
      "execution_count": 8,
      "outputs": [
        {
          "output_type": "execute_result",
          "data": {
            "text/plain": [
              "(4895, 15)"
            ]
          },
          "metadata": {},
          "execution_count": 8
        }
      ]
    },
    {
      "cell_type": "code",
      "source": [
        "data.head()"
      ],
      "metadata": {
        "colab": {
          "base_uri": "https://localhost:8080/",
          "height": 357
        },
        "id": "dmFXI5aqHGEU",
        "outputId": "5acb9f9d-04c2-467c-db48-7001d310c3e7"
      },
      "execution_count": 9,
      "outputs": [
        {
          "output_type": "execute_result",
          "data": {
            "text/plain": [
              "   id                name        date   manner_of_death       armed   age  \\\n",
              "0   3          Tim Elliot  2015-01-02              shot         gun  53.0   \n",
              "1   4    Lewis Lee Lembke  2015-01-02              shot         gun  47.0   \n",
              "2   5  John Paul Quintero  2015-01-03  shot and Tasered     unarmed  23.0   \n",
              "3   8     Matthew Hoffman  2015-01-04              shot  toy weapon  32.0   \n",
              "4   9   Michael Rodriguez  2015-01-04              shot    nail gun  39.0   \n",
              "\n",
              "  gender      race           city state  signs_of_mental_illness threat_level  \\\n",
              "0      M     Asian        Shelton    WA                     True       attack   \n",
              "1      M     White          Aloha    OR                    False       attack   \n",
              "2      M  Hispanic        Wichita    KS                    False        other   \n",
              "3      M     White  San Francisco    CA                     True       attack   \n",
              "4      M  Hispanic          Evans    CO                    False       attack   \n",
              "\n",
              "          flee  body_camera          arms_category  \n",
              "0  Not fleeing        False                   Guns  \n",
              "1  Not fleeing        False                   Guns  \n",
              "2  Not fleeing        False                Unarmed  \n",
              "3  Not fleeing        False  Other unusual objects  \n",
              "4  Not fleeing        False       Piercing objects  "
            ],
            "text/html": [
              "\n",
              "  <div id=\"df-eef1e01e-ee51-40ae-994e-cc0dae8bbd25\">\n",
              "    <div class=\"colab-df-container\">\n",
              "      <div>\n",
              "<style scoped>\n",
              "    .dataframe tbody tr th:only-of-type {\n",
              "        vertical-align: middle;\n",
              "    }\n",
              "\n",
              "    .dataframe tbody tr th {\n",
              "        vertical-align: top;\n",
              "    }\n",
              "\n",
              "    .dataframe thead th {\n",
              "        text-align: right;\n",
              "    }\n",
              "</style>\n",
              "<table border=\"1\" class=\"dataframe\">\n",
              "  <thead>\n",
              "    <tr style=\"text-align: right;\">\n",
              "      <th></th>\n",
              "      <th>id</th>\n",
              "      <th>name</th>\n",
              "      <th>date</th>\n",
              "      <th>manner_of_death</th>\n",
              "      <th>armed</th>\n",
              "      <th>age</th>\n",
              "      <th>gender</th>\n",
              "      <th>race</th>\n",
              "      <th>city</th>\n",
              "      <th>state</th>\n",
              "      <th>signs_of_mental_illness</th>\n",
              "      <th>threat_level</th>\n",
              "      <th>flee</th>\n",
              "      <th>body_camera</th>\n",
              "      <th>arms_category</th>\n",
              "    </tr>\n",
              "  </thead>\n",
              "  <tbody>\n",
              "    <tr>\n",
              "      <th>0</th>\n",
              "      <td>3</td>\n",
              "      <td>Tim Elliot</td>\n",
              "      <td>2015-01-02</td>\n",
              "      <td>shot</td>\n",
              "      <td>gun</td>\n",
              "      <td>53.0</td>\n",
              "      <td>M</td>\n",
              "      <td>Asian</td>\n",
              "      <td>Shelton</td>\n",
              "      <td>WA</td>\n",
              "      <td>True</td>\n",
              "      <td>attack</td>\n",
              "      <td>Not fleeing</td>\n",
              "      <td>False</td>\n",
              "      <td>Guns</td>\n",
              "    </tr>\n",
              "    <tr>\n",
              "      <th>1</th>\n",
              "      <td>4</td>\n",
              "      <td>Lewis Lee Lembke</td>\n",
              "      <td>2015-01-02</td>\n",
              "      <td>shot</td>\n",
              "      <td>gun</td>\n",
              "      <td>47.0</td>\n",
              "      <td>M</td>\n",
              "      <td>White</td>\n",
              "      <td>Aloha</td>\n",
              "      <td>OR</td>\n",
              "      <td>False</td>\n",
              "      <td>attack</td>\n",
              "      <td>Not fleeing</td>\n",
              "      <td>False</td>\n",
              "      <td>Guns</td>\n",
              "    </tr>\n",
              "    <tr>\n",
              "      <th>2</th>\n",
              "      <td>5</td>\n",
              "      <td>John Paul Quintero</td>\n",
              "      <td>2015-01-03</td>\n",
              "      <td>shot and Tasered</td>\n",
              "      <td>unarmed</td>\n",
              "      <td>23.0</td>\n",
              "      <td>M</td>\n",
              "      <td>Hispanic</td>\n",
              "      <td>Wichita</td>\n",
              "      <td>KS</td>\n",
              "      <td>False</td>\n",
              "      <td>other</td>\n",
              "      <td>Not fleeing</td>\n",
              "      <td>False</td>\n",
              "      <td>Unarmed</td>\n",
              "    </tr>\n",
              "    <tr>\n",
              "      <th>3</th>\n",
              "      <td>8</td>\n",
              "      <td>Matthew Hoffman</td>\n",
              "      <td>2015-01-04</td>\n",
              "      <td>shot</td>\n",
              "      <td>toy weapon</td>\n",
              "      <td>32.0</td>\n",
              "      <td>M</td>\n",
              "      <td>White</td>\n",
              "      <td>San Francisco</td>\n",
              "      <td>CA</td>\n",
              "      <td>True</td>\n",
              "      <td>attack</td>\n",
              "      <td>Not fleeing</td>\n",
              "      <td>False</td>\n",
              "      <td>Other unusual objects</td>\n",
              "    </tr>\n",
              "    <tr>\n",
              "      <th>4</th>\n",
              "      <td>9</td>\n",
              "      <td>Michael Rodriguez</td>\n",
              "      <td>2015-01-04</td>\n",
              "      <td>shot</td>\n",
              "      <td>nail gun</td>\n",
              "      <td>39.0</td>\n",
              "      <td>M</td>\n",
              "      <td>Hispanic</td>\n",
              "      <td>Evans</td>\n",
              "      <td>CO</td>\n",
              "      <td>False</td>\n",
              "      <td>attack</td>\n",
              "      <td>Not fleeing</td>\n",
              "      <td>False</td>\n",
              "      <td>Piercing objects</td>\n",
              "    </tr>\n",
              "  </tbody>\n",
              "</table>\n",
              "</div>\n",
              "      <button class=\"colab-df-convert\" onclick=\"convertToInteractive('df-eef1e01e-ee51-40ae-994e-cc0dae8bbd25')\"\n",
              "              title=\"Convert this dataframe to an interactive table.\"\n",
              "              style=\"display:none;\">\n",
              "        \n",
              "  <svg xmlns=\"http://www.w3.org/2000/svg\" height=\"24px\"viewBox=\"0 0 24 24\"\n",
              "       width=\"24px\">\n",
              "    <path d=\"M0 0h24v24H0V0z\" fill=\"none\"/>\n",
              "    <path d=\"M18.56 5.44l.94 2.06.94-2.06 2.06-.94-2.06-.94-.94-2.06-.94 2.06-2.06.94zm-11 1L8.5 8.5l.94-2.06 2.06-.94-2.06-.94L8.5 2.5l-.94 2.06-2.06.94zm10 10l.94 2.06.94-2.06 2.06-.94-2.06-.94-.94-2.06-.94 2.06-2.06.94z\"/><path d=\"M17.41 7.96l-1.37-1.37c-.4-.4-.92-.59-1.43-.59-.52 0-1.04.2-1.43.59L10.3 9.45l-7.72 7.72c-.78.78-.78 2.05 0 2.83L4 21.41c.39.39.9.59 1.41.59.51 0 1.02-.2 1.41-.59l7.78-7.78 2.81-2.81c.8-.78.8-2.07 0-2.86zM5.41 20L4 18.59l7.72-7.72 1.47 1.35L5.41 20z\"/>\n",
              "  </svg>\n",
              "      </button>\n",
              "      \n",
              "  <style>\n",
              "    .colab-df-container {\n",
              "      display:flex;\n",
              "      flex-wrap:wrap;\n",
              "      gap: 12px;\n",
              "    }\n",
              "\n",
              "    .colab-df-convert {\n",
              "      background-color: #E8F0FE;\n",
              "      border: none;\n",
              "      border-radius: 50%;\n",
              "      cursor: pointer;\n",
              "      display: none;\n",
              "      fill: #1967D2;\n",
              "      height: 32px;\n",
              "      padding: 0 0 0 0;\n",
              "      width: 32px;\n",
              "    }\n",
              "\n",
              "    .colab-df-convert:hover {\n",
              "      background-color: #E2EBFA;\n",
              "      box-shadow: 0px 1px 2px rgba(60, 64, 67, 0.3), 0px 1px 3px 1px rgba(60, 64, 67, 0.15);\n",
              "      fill: #174EA6;\n",
              "    }\n",
              "\n",
              "    [theme=dark] .colab-df-convert {\n",
              "      background-color: #3B4455;\n",
              "      fill: #D2E3FC;\n",
              "    }\n",
              "\n",
              "    [theme=dark] .colab-df-convert:hover {\n",
              "      background-color: #434B5C;\n",
              "      box-shadow: 0px 1px 3px 1px rgba(0, 0, 0, 0.15);\n",
              "      filter: drop-shadow(0px 1px 2px rgba(0, 0, 0, 0.3));\n",
              "      fill: #FFFFFF;\n",
              "    }\n",
              "  </style>\n",
              "\n",
              "      <script>\n",
              "        const buttonEl =\n",
              "          document.querySelector('#df-eef1e01e-ee51-40ae-994e-cc0dae8bbd25 button.colab-df-convert');\n",
              "        buttonEl.style.display =\n",
              "          google.colab.kernel.accessAllowed ? 'block' : 'none';\n",
              "\n",
              "        async function convertToInteractive(key) {\n",
              "          const element = document.querySelector('#df-eef1e01e-ee51-40ae-994e-cc0dae8bbd25');\n",
              "          const dataTable =\n",
              "            await google.colab.kernel.invokeFunction('convertToInteractive',\n",
              "                                                     [key], {});\n",
              "          if (!dataTable) return;\n",
              "\n",
              "          const docLinkHtml = 'Like what you see? Visit the ' +\n",
              "            '<a target=\"_blank\" href=https://colab.research.google.com/notebooks/data_table.ipynb>data table notebook</a>'\n",
              "            + ' to learn more about interactive tables.';\n",
              "          element.innerHTML = '';\n",
              "          dataTable['output_type'] = 'display_data';\n",
              "          await google.colab.output.renderOutput(dataTable, element);\n",
              "          const docLink = document.createElement('div');\n",
              "          docLink.innerHTML = docLinkHtml;\n",
              "          element.appendChild(docLink);\n",
              "        }\n",
              "      </script>\n",
              "    </div>\n",
              "  </div>\n",
              "  "
            ]
          },
          "metadata": {},
          "execution_count": 9
        }
      ]
    },
    {
      "cell_type": "code",
      "source": [
        "df1=data['manner_of_death'].value_counts().reset_index().rename(columns={'index':'manner_of_death','manner_of_death':'count'})\n",
        "\n"
      ],
      "metadata": {
        "id": "pW7QvvJbGmx_"
      },
      "execution_count": 11,
      "outputs": []
    },
    {
      "cell_type": "code",
      "source": [
        "fig = go.Figure(go.Bar(x=df1['manner_of_death'],y=df1['count'],marker_color='purple'))\n",
        "fig.update_layout(title_text='Frequency of reason of death',xaxis_title=\"manner of death\",yaxis_title=\"count\",height=500,width=500)\n",
        "fig.show()"
      ],
      "metadata": {
        "colab": {
          "base_uri": "https://localhost:8080/",
          "height": 517
        },
        "id": "8QxIuQAYHVvA",
        "outputId": "0498bdcc-7e91-42ea-8efe-89faec03946c"
      },
      "execution_count": 17,
      "outputs": [
        {
          "output_type": "display_data",
          "data": {
            "text/html": [
              "<html>\n",
              "<head><meta charset=\"utf-8\" /></head>\n",
              "<body>\n",
              "    <div>            <script src=\"https://cdnjs.cloudflare.com/ajax/libs/mathjax/2.7.5/MathJax.js?config=TeX-AMS-MML_SVG\"></script><script type=\"text/javascript\">if (window.MathJax) {MathJax.Hub.Config({SVG: {font: \"STIX-Web\"}});}</script>                <script type=\"text/javascript\">window.PlotlyConfig = {MathJaxConfig: 'local'};</script>\n",
              "        <script src=\"https://cdn.plot.ly/plotly-2.8.3.min.js\"></script>                <div id=\"7edbe9e9-757b-4e3c-ac19-77952f79b76f\" class=\"plotly-graph-div\" style=\"height:500px; width:500px;\"></div>            <script type=\"text/javascript\">                                    window.PLOTLYENV=window.PLOTLYENV || {};                                    if (document.getElementById(\"7edbe9e9-757b-4e3c-ac19-77952f79b76f\")) {                    Plotly.newPlot(                        \"7edbe9e9-757b-4e3c-ac19-77952f79b76f\",                        [{\"marker\":{\"color\":\"purple\"},\"x\":[\"shot\",\"shot and Tasered\"],\"y\":[4647,248],\"type\":\"bar\"}],                        {\"template\":{\"data\":{\"bar\":[{\"error_x\":{\"color\":\"#2a3f5f\"},\"error_y\":{\"color\":\"#2a3f5f\"},\"marker\":{\"line\":{\"color\":\"#E5ECF6\",\"width\":0.5},\"pattern\":{\"fillmode\":\"overlay\",\"size\":10,\"solidity\":0.2}},\"type\":\"bar\"}],\"barpolar\":[{\"marker\":{\"line\":{\"color\":\"#E5ECF6\",\"width\":0.5},\"pattern\":{\"fillmode\":\"overlay\",\"size\":10,\"solidity\":0.2}},\"type\":\"barpolar\"}],\"carpet\":[{\"aaxis\":{\"endlinecolor\":\"#2a3f5f\",\"gridcolor\":\"white\",\"linecolor\":\"white\",\"minorgridcolor\":\"white\",\"startlinecolor\":\"#2a3f5f\"},\"baxis\":{\"endlinecolor\":\"#2a3f5f\",\"gridcolor\":\"white\",\"linecolor\":\"white\",\"minorgridcolor\":\"white\",\"startlinecolor\":\"#2a3f5f\"},\"type\":\"carpet\"}],\"choropleth\":[{\"colorbar\":{\"outlinewidth\":0,\"ticks\":\"\"},\"type\":\"choropleth\"}],\"contour\":[{\"colorbar\":{\"outlinewidth\":0,\"ticks\":\"\"},\"colorscale\":[[0.0,\"#0d0887\"],[0.1111111111111111,\"#46039f\"],[0.2222222222222222,\"#7201a8\"],[0.3333333333333333,\"#9c179e\"],[0.4444444444444444,\"#bd3786\"],[0.5555555555555556,\"#d8576b\"],[0.6666666666666666,\"#ed7953\"],[0.7777777777777778,\"#fb9f3a\"],[0.8888888888888888,\"#fdca26\"],[1.0,\"#f0f921\"]],\"type\":\"contour\"}],\"contourcarpet\":[{\"colorbar\":{\"outlinewidth\":0,\"ticks\":\"\"},\"type\":\"contourcarpet\"}],\"heatmap\":[{\"colorbar\":{\"outlinewidth\":0,\"ticks\":\"\"},\"colorscale\":[[0.0,\"#0d0887\"],[0.1111111111111111,\"#46039f\"],[0.2222222222222222,\"#7201a8\"],[0.3333333333333333,\"#9c179e\"],[0.4444444444444444,\"#bd3786\"],[0.5555555555555556,\"#d8576b\"],[0.6666666666666666,\"#ed7953\"],[0.7777777777777778,\"#fb9f3a\"],[0.8888888888888888,\"#fdca26\"],[1.0,\"#f0f921\"]],\"type\":\"heatmap\"}],\"heatmapgl\":[{\"colorbar\":{\"outlinewidth\":0,\"ticks\":\"\"},\"colorscale\":[[0.0,\"#0d0887\"],[0.1111111111111111,\"#46039f\"],[0.2222222222222222,\"#7201a8\"],[0.3333333333333333,\"#9c179e\"],[0.4444444444444444,\"#bd3786\"],[0.5555555555555556,\"#d8576b\"],[0.6666666666666666,\"#ed7953\"],[0.7777777777777778,\"#fb9f3a\"],[0.8888888888888888,\"#fdca26\"],[1.0,\"#f0f921\"]],\"type\":\"heatmapgl\"}],\"histogram\":[{\"marker\":{\"pattern\":{\"fillmode\":\"overlay\",\"size\":10,\"solidity\":0.2}},\"type\":\"histogram\"}],\"histogram2d\":[{\"colorbar\":{\"outlinewidth\":0,\"ticks\":\"\"},\"colorscale\":[[0.0,\"#0d0887\"],[0.1111111111111111,\"#46039f\"],[0.2222222222222222,\"#7201a8\"],[0.3333333333333333,\"#9c179e\"],[0.4444444444444444,\"#bd3786\"],[0.5555555555555556,\"#d8576b\"],[0.6666666666666666,\"#ed7953\"],[0.7777777777777778,\"#fb9f3a\"],[0.8888888888888888,\"#fdca26\"],[1.0,\"#f0f921\"]],\"type\":\"histogram2d\"}],\"histogram2dcontour\":[{\"colorbar\":{\"outlinewidth\":0,\"ticks\":\"\"},\"colorscale\":[[0.0,\"#0d0887\"],[0.1111111111111111,\"#46039f\"],[0.2222222222222222,\"#7201a8\"],[0.3333333333333333,\"#9c179e\"],[0.4444444444444444,\"#bd3786\"],[0.5555555555555556,\"#d8576b\"],[0.6666666666666666,\"#ed7953\"],[0.7777777777777778,\"#fb9f3a\"],[0.8888888888888888,\"#fdca26\"],[1.0,\"#f0f921\"]],\"type\":\"histogram2dcontour\"}],\"mesh3d\":[{\"colorbar\":{\"outlinewidth\":0,\"ticks\":\"\"},\"type\":\"mesh3d\"}],\"parcoords\":[{\"line\":{\"colorbar\":{\"outlinewidth\":0,\"ticks\":\"\"}},\"type\":\"parcoords\"}],\"pie\":[{\"automargin\":true,\"type\":\"pie\"}],\"scatter\":[{\"marker\":{\"colorbar\":{\"outlinewidth\":0,\"ticks\":\"\"}},\"type\":\"scatter\"}],\"scatter3d\":[{\"line\":{\"colorbar\":{\"outlinewidth\":0,\"ticks\":\"\"}},\"marker\":{\"colorbar\":{\"outlinewidth\":0,\"ticks\":\"\"}},\"type\":\"scatter3d\"}],\"scattercarpet\":[{\"marker\":{\"colorbar\":{\"outlinewidth\":0,\"ticks\":\"\"}},\"type\":\"scattercarpet\"}],\"scattergeo\":[{\"marker\":{\"colorbar\":{\"outlinewidth\":0,\"ticks\":\"\"}},\"type\":\"scattergeo\"}],\"scattergl\":[{\"marker\":{\"colorbar\":{\"outlinewidth\":0,\"ticks\":\"\"}},\"type\":\"scattergl\"}],\"scattermapbox\":[{\"marker\":{\"colorbar\":{\"outlinewidth\":0,\"ticks\":\"\"}},\"type\":\"scattermapbox\"}],\"scatterpolar\":[{\"marker\":{\"colorbar\":{\"outlinewidth\":0,\"ticks\":\"\"}},\"type\":\"scatterpolar\"}],\"scatterpolargl\":[{\"marker\":{\"colorbar\":{\"outlinewidth\":0,\"ticks\":\"\"}},\"type\":\"scatterpolargl\"}],\"scatterternary\":[{\"marker\":{\"colorbar\":{\"outlinewidth\":0,\"ticks\":\"\"}},\"type\":\"scatterternary\"}],\"surface\":[{\"colorbar\":{\"outlinewidth\":0,\"ticks\":\"\"},\"colorscale\":[[0.0,\"#0d0887\"],[0.1111111111111111,\"#46039f\"],[0.2222222222222222,\"#7201a8\"],[0.3333333333333333,\"#9c179e\"],[0.4444444444444444,\"#bd3786\"],[0.5555555555555556,\"#d8576b\"],[0.6666666666666666,\"#ed7953\"],[0.7777777777777778,\"#fb9f3a\"],[0.8888888888888888,\"#fdca26\"],[1.0,\"#f0f921\"]],\"type\":\"surface\"}],\"table\":[{\"cells\":{\"fill\":{\"color\":\"#EBF0F8\"},\"line\":{\"color\":\"white\"}},\"header\":{\"fill\":{\"color\":\"#C8D4E3\"},\"line\":{\"color\":\"white\"}},\"type\":\"table\"}]},\"layout\":{\"annotationdefaults\":{\"arrowcolor\":\"#2a3f5f\",\"arrowhead\":0,\"arrowwidth\":1},\"autotypenumbers\":\"strict\",\"coloraxis\":{\"colorbar\":{\"outlinewidth\":0,\"ticks\":\"\"}},\"colorscale\":{\"diverging\":[[0,\"#8e0152\"],[0.1,\"#c51b7d\"],[0.2,\"#de77ae\"],[0.3,\"#f1b6da\"],[0.4,\"#fde0ef\"],[0.5,\"#f7f7f7\"],[0.6,\"#e6f5d0\"],[0.7,\"#b8e186\"],[0.8,\"#7fbc41\"],[0.9,\"#4d9221\"],[1,\"#276419\"]],\"sequential\":[[0.0,\"#0d0887\"],[0.1111111111111111,\"#46039f\"],[0.2222222222222222,\"#7201a8\"],[0.3333333333333333,\"#9c179e\"],[0.4444444444444444,\"#bd3786\"],[0.5555555555555556,\"#d8576b\"],[0.6666666666666666,\"#ed7953\"],[0.7777777777777778,\"#fb9f3a\"],[0.8888888888888888,\"#fdca26\"],[1.0,\"#f0f921\"]],\"sequentialminus\":[[0.0,\"#0d0887\"],[0.1111111111111111,\"#46039f\"],[0.2222222222222222,\"#7201a8\"],[0.3333333333333333,\"#9c179e\"],[0.4444444444444444,\"#bd3786\"],[0.5555555555555556,\"#d8576b\"],[0.6666666666666666,\"#ed7953\"],[0.7777777777777778,\"#fb9f3a\"],[0.8888888888888888,\"#fdca26\"],[1.0,\"#f0f921\"]]},\"colorway\":[\"#636efa\",\"#EF553B\",\"#00cc96\",\"#ab63fa\",\"#FFA15A\",\"#19d3f3\",\"#FF6692\",\"#B6E880\",\"#FF97FF\",\"#FECB52\"],\"font\":{\"color\":\"#2a3f5f\"},\"geo\":{\"bgcolor\":\"white\",\"lakecolor\":\"white\",\"landcolor\":\"#E5ECF6\",\"showlakes\":true,\"showland\":true,\"subunitcolor\":\"white\"},\"hoverlabel\":{\"align\":\"left\"},\"hovermode\":\"closest\",\"mapbox\":{\"style\":\"light\"},\"paper_bgcolor\":\"white\",\"plot_bgcolor\":\"#E5ECF6\",\"polar\":{\"angularaxis\":{\"gridcolor\":\"white\",\"linecolor\":\"white\",\"ticks\":\"\"},\"bgcolor\":\"#E5ECF6\",\"radialaxis\":{\"gridcolor\":\"white\",\"linecolor\":\"white\",\"ticks\":\"\"}},\"scene\":{\"xaxis\":{\"backgroundcolor\":\"#E5ECF6\",\"gridcolor\":\"white\",\"gridwidth\":2,\"linecolor\":\"white\",\"showbackground\":true,\"ticks\":\"\",\"zerolinecolor\":\"white\"},\"yaxis\":{\"backgroundcolor\":\"#E5ECF6\",\"gridcolor\":\"white\",\"gridwidth\":2,\"linecolor\":\"white\",\"showbackground\":true,\"ticks\":\"\",\"zerolinecolor\":\"white\"},\"zaxis\":{\"backgroundcolor\":\"#E5ECF6\",\"gridcolor\":\"white\",\"gridwidth\":2,\"linecolor\":\"white\",\"showbackground\":true,\"ticks\":\"\",\"zerolinecolor\":\"white\"}},\"shapedefaults\":{\"line\":{\"color\":\"#2a3f5f\"}},\"ternary\":{\"aaxis\":{\"gridcolor\":\"white\",\"linecolor\":\"white\",\"ticks\":\"\"},\"baxis\":{\"gridcolor\":\"white\",\"linecolor\":\"white\",\"ticks\":\"\"},\"bgcolor\":\"#E5ECF6\",\"caxis\":{\"gridcolor\":\"white\",\"linecolor\":\"white\",\"ticks\":\"\"}},\"title\":{\"x\":0.05},\"xaxis\":{\"automargin\":true,\"gridcolor\":\"white\",\"linecolor\":\"white\",\"ticks\":\"\",\"title\":{\"standoff\":15},\"zerolinecolor\":\"white\",\"zerolinewidth\":2},\"yaxis\":{\"automargin\":true,\"gridcolor\":\"white\",\"linecolor\":\"white\",\"ticks\":\"\",\"title\":{\"standoff\":15},\"zerolinecolor\":\"white\",\"zerolinewidth\":2}}},\"title\":{\"text\":\"Frequency of reason of death\"},\"xaxis\":{\"title\":{\"text\":\"manner of death\"}},\"yaxis\":{\"title\":{\"text\":\"count\"}},\"height\":500,\"width\":500},                        {\"responsive\": true}                    ).then(function(){\n",
              "                            \n",
              "var gd = document.getElementById('7edbe9e9-757b-4e3c-ac19-77952f79b76f');\n",
              "var x = new MutationObserver(function (mutations, observer) {{\n",
              "        var display = window.getComputedStyle(gd).display;\n",
              "        if (!display || display === 'none') {{\n",
              "            console.log([gd, 'removed!']);\n",
              "            Plotly.purge(gd);\n",
              "            observer.disconnect();\n",
              "        }}\n",
              "}});\n",
              "\n",
              "// Listen for the removal of the full notebook cells\n",
              "var notebookContainer = gd.closest('#notebook-container');\n",
              "if (notebookContainer) {{\n",
              "    x.observe(notebookContainer, {childList: true});\n",
              "}}\n",
              "\n",
              "// Listen for the clearing of the current output cell\n",
              "var outputEl = gd.closest('.output');\n",
              "if (outputEl) {{\n",
              "    x.observe(outputEl, {childList: true});\n",
              "}}\n",
              "\n",
              "                        })                };                            </script>        </div>\n",
              "</body>\n",
              "</html>"
            ]
          },
          "metadata": {}
        }
      ]
    },
    {
      "cell_type": "code",
      "source": [
        "df=data['armed'].value_counts().reset_index().rename(columns={'index':'weapons used','armed':'count'})\n",
        "fig = go.Figure(go.Bar(x=df['weapons used'],y=df['count'],marker_color='#7b6de3'))\n",
        "fig.update_layout(title_text='Frequency of different weapons used',xaxis_title=\"weapons used\",yaxis_title=\"count\",height=700,width=1000)\n",
        "fig.show()"
      ],
      "metadata": {
        "colab": {
          "base_uri": "https://localhost:8080/",
          "height": 717
        },
        "id": "6L87MbFxH-Uo",
        "outputId": "49bb2bab-fe27-457b-b523-549abe16c4dc"
      },
      "execution_count": 18,
      "outputs": [
        {
          "output_type": "display_data",
          "data": {
            "text/html": [
              "<html>\n",
              "<head><meta charset=\"utf-8\" /></head>\n",
              "<body>\n",
              "    <div>            <script src=\"https://cdnjs.cloudflare.com/ajax/libs/mathjax/2.7.5/MathJax.js?config=TeX-AMS-MML_SVG\"></script><script type=\"text/javascript\">if (window.MathJax) {MathJax.Hub.Config({SVG: {font: \"STIX-Web\"}});}</script>                <script type=\"text/javascript\">window.PlotlyConfig = {MathJaxConfig: 'local'};</script>\n",
              "        <script src=\"https://cdn.plot.ly/plotly-2.8.3.min.js\"></script>                <div id=\"0ac05a24-109f-46ab-8fe3-ccfc52b2b94d\" class=\"plotly-graph-div\" style=\"height:700px; width:1000px;\"></div>            <script type=\"text/javascript\">                                    window.PLOTLYENV=window.PLOTLYENV || {};                                    if (document.getElementById(\"0ac05a24-109f-46ab-8fe3-ccfc52b2b94d\")) {                    Plotly.newPlot(                        \"0ac05a24-109f-46ab-8fe3-ccfc52b2b94d\",                        [{\"marker\":{\"color\":\"#7b6de3\"},\"x\":[\"gun\",\"knife\",\"unknown\",\"unarmed\",\"toy weapon\",\"vehicle\",\"machete\",\"Taser\",\"sword\",\"ax\",\"baseball bat\",\"gun and knife\",\"hammer\",\"screwdriver\",\"metal pipe\",\"hatchet\",\"box cutter\",\"sharp object\",\"gun and vehicle\",\"gun and car\",\"scissors\",\"crossbow\",\"rock\",\"meat cleaver\",\"shovel\",\"blunt object\",\"pipe\",\"BB gun\",\"piece of wood\",\"chair\",\"pick-axe\",\"baton\",\"vehicle and gun\",\"crowbar\",\"straight edge razor\",\"metal pole\",\"samurai sword\",\"guns and explosives\",\"metal stick\",\"chain\",\"incendiary device\",\"brick\",\"hatchet and gun\",\"pitchfork\",\"lawn mower blade\",\"metal object\",\"pellet gun\",\"pole\",\"garden tool\",\"pole and knife\",\"glass shard\",\"ice pick\",\"gun and sword\",\"vehicle and machete\",\"chainsaw\",\"fireworks\",\"bow and arrow\",\"baseball bat and knife\",\"air pistol\",\"wasp spray\",\"BB gun and vehicle\",\"grenade\",\"barstool\",\"wrench\",\"walking stick\",\"pen\",\"flashlight\",\"baseball bat and bottle\",\"beer bottle\",\"nail gun\",\"flagpole\",\"cordless drill\",\"metal hand tool\",\"carjack\",\"contractor's level\",\"stapler\",\"bean-bag gun\",\"baseball bat and fireplace poker\",\"hand torch\",\"chain saw\",\"spear\",\"bayonet\",\"motorcycle\",\"pepper spray\",\"metal rake\",\"oar\",\"machete and gun\",\"air conditioner\",\"car, knife and mace\"],\"y\":[2755,708,418,348,171,120,39,24,22,21,16,15,14,12,12,11,11,11,10,9,7,6,6,5,5,5,5,5,5,4,4,4,4,4,4,3,3,3,3,3,2,2,2,2,2,2,2,2,2,2,2,1,1,1,1,1,1,1,1,1,1,1,1,1,1,1,1,1,1,1,1,1,1,1,1,1,1,1,1,1,1,1,1,1,1,1,1,1,1],\"type\":\"bar\"}],                        {\"template\":{\"data\":{\"bar\":[{\"error_x\":{\"color\":\"#2a3f5f\"},\"error_y\":{\"color\":\"#2a3f5f\"},\"marker\":{\"line\":{\"color\":\"#E5ECF6\",\"width\":0.5},\"pattern\":{\"fillmode\":\"overlay\",\"size\":10,\"solidity\":0.2}},\"type\":\"bar\"}],\"barpolar\":[{\"marker\":{\"line\":{\"color\":\"#E5ECF6\",\"width\":0.5},\"pattern\":{\"fillmode\":\"overlay\",\"size\":10,\"solidity\":0.2}},\"type\":\"barpolar\"}],\"carpet\":[{\"aaxis\":{\"endlinecolor\":\"#2a3f5f\",\"gridcolor\":\"white\",\"linecolor\":\"white\",\"minorgridcolor\":\"white\",\"startlinecolor\":\"#2a3f5f\"},\"baxis\":{\"endlinecolor\":\"#2a3f5f\",\"gridcolor\":\"white\",\"linecolor\":\"white\",\"minorgridcolor\":\"white\",\"startlinecolor\":\"#2a3f5f\"},\"type\":\"carpet\"}],\"choropleth\":[{\"colorbar\":{\"outlinewidth\":0,\"ticks\":\"\"},\"type\":\"choropleth\"}],\"contour\":[{\"colorbar\":{\"outlinewidth\":0,\"ticks\":\"\"},\"colorscale\":[[0.0,\"#0d0887\"],[0.1111111111111111,\"#46039f\"],[0.2222222222222222,\"#7201a8\"],[0.3333333333333333,\"#9c179e\"],[0.4444444444444444,\"#bd3786\"],[0.5555555555555556,\"#d8576b\"],[0.6666666666666666,\"#ed7953\"],[0.7777777777777778,\"#fb9f3a\"],[0.8888888888888888,\"#fdca26\"],[1.0,\"#f0f921\"]],\"type\":\"contour\"}],\"contourcarpet\":[{\"colorbar\":{\"outlinewidth\":0,\"ticks\":\"\"},\"type\":\"contourcarpet\"}],\"heatmap\":[{\"colorbar\":{\"outlinewidth\":0,\"ticks\":\"\"},\"colorscale\":[[0.0,\"#0d0887\"],[0.1111111111111111,\"#46039f\"],[0.2222222222222222,\"#7201a8\"],[0.3333333333333333,\"#9c179e\"],[0.4444444444444444,\"#bd3786\"],[0.5555555555555556,\"#d8576b\"],[0.6666666666666666,\"#ed7953\"],[0.7777777777777778,\"#fb9f3a\"],[0.8888888888888888,\"#fdca26\"],[1.0,\"#f0f921\"]],\"type\":\"heatmap\"}],\"heatmapgl\":[{\"colorbar\":{\"outlinewidth\":0,\"ticks\":\"\"},\"colorscale\":[[0.0,\"#0d0887\"],[0.1111111111111111,\"#46039f\"],[0.2222222222222222,\"#7201a8\"],[0.3333333333333333,\"#9c179e\"],[0.4444444444444444,\"#bd3786\"],[0.5555555555555556,\"#d8576b\"],[0.6666666666666666,\"#ed7953\"],[0.7777777777777778,\"#fb9f3a\"],[0.8888888888888888,\"#fdca26\"],[1.0,\"#f0f921\"]],\"type\":\"heatmapgl\"}],\"histogram\":[{\"marker\":{\"pattern\":{\"fillmode\":\"overlay\",\"size\":10,\"solidity\":0.2}},\"type\":\"histogram\"}],\"histogram2d\":[{\"colorbar\":{\"outlinewidth\":0,\"ticks\":\"\"},\"colorscale\":[[0.0,\"#0d0887\"],[0.1111111111111111,\"#46039f\"],[0.2222222222222222,\"#7201a8\"],[0.3333333333333333,\"#9c179e\"],[0.4444444444444444,\"#bd3786\"],[0.5555555555555556,\"#d8576b\"],[0.6666666666666666,\"#ed7953\"],[0.7777777777777778,\"#fb9f3a\"],[0.8888888888888888,\"#fdca26\"],[1.0,\"#f0f921\"]],\"type\":\"histogram2d\"}],\"histogram2dcontour\":[{\"colorbar\":{\"outlinewidth\":0,\"ticks\":\"\"},\"colorscale\":[[0.0,\"#0d0887\"],[0.1111111111111111,\"#46039f\"],[0.2222222222222222,\"#7201a8\"],[0.3333333333333333,\"#9c179e\"],[0.4444444444444444,\"#bd3786\"],[0.5555555555555556,\"#d8576b\"],[0.6666666666666666,\"#ed7953\"],[0.7777777777777778,\"#fb9f3a\"],[0.8888888888888888,\"#fdca26\"],[1.0,\"#f0f921\"]],\"type\":\"histogram2dcontour\"}],\"mesh3d\":[{\"colorbar\":{\"outlinewidth\":0,\"ticks\":\"\"},\"type\":\"mesh3d\"}],\"parcoords\":[{\"line\":{\"colorbar\":{\"outlinewidth\":0,\"ticks\":\"\"}},\"type\":\"parcoords\"}],\"pie\":[{\"automargin\":true,\"type\":\"pie\"}],\"scatter\":[{\"marker\":{\"colorbar\":{\"outlinewidth\":0,\"ticks\":\"\"}},\"type\":\"scatter\"}],\"scatter3d\":[{\"line\":{\"colorbar\":{\"outlinewidth\":0,\"ticks\":\"\"}},\"marker\":{\"colorbar\":{\"outlinewidth\":0,\"ticks\":\"\"}},\"type\":\"scatter3d\"}],\"scattercarpet\":[{\"marker\":{\"colorbar\":{\"outlinewidth\":0,\"ticks\":\"\"}},\"type\":\"scattercarpet\"}],\"scattergeo\":[{\"marker\":{\"colorbar\":{\"outlinewidth\":0,\"ticks\":\"\"}},\"type\":\"scattergeo\"}],\"scattergl\":[{\"marker\":{\"colorbar\":{\"outlinewidth\":0,\"ticks\":\"\"}},\"type\":\"scattergl\"}],\"scattermapbox\":[{\"marker\":{\"colorbar\":{\"outlinewidth\":0,\"ticks\":\"\"}},\"type\":\"scattermapbox\"}],\"scatterpolar\":[{\"marker\":{\"colorbar\":{\"outlinewidth\":0,\"ticks\":\"\"}},\"type\":\"scatterpolar\"}],\"scatterpolargl\":[{\"marker\":{\"colorbar\":{\"outlinewidth\":0,\"ticks\":\"\"}},\"type\":\"scatterpolargl\"}],\"scatterternary\":[{\"marker\":{\"colorbar\":{\"outlinewidth\":0,\"ticks\":\"\"}},\"type\":\"scatterternary\"}],\"surface\":[{\"colorbar\":{\"outlinewidth\":0,\"ticks\":\"\"},\"colorscale\":[[0.0,\"#0d0887\"],[0.1111111111111111,\"#46039f\"],[0.2222222222222222,\"#7201a8\"],[0.3333333333333333,\"#9c179e\"],[0.4444444444444444,\"#bd3786\"],[0.5555555555555556,\"#d8576b\"],[0.6666666666666666,\"#ed7953\"],[0.7777777777777778,\"#fb9f3a\"],[0.8888888888888888,\"#fdca26\"],[1.0,\"#f0f921\"]],\"type\":\"surface\"}],\"table\":[{\"cells\":{\"fill\":{\"color\":\"#EBF0F8\"},\"line\":{\"color\":\"white\"}},\"header\":{\"fill\":{\"color\":\"#C8D4E3\"},\"line\":{\"color\":\"white\"}},\"type\":\"table\"}]},\"layout\":{\"annotationdefaults\":{\"arrowcolor\":\"#2a3f5f\",\"arrowhead\":0,\"arrowwidth\":1},\"autotypenumbers\":\"strict\",\"coloraxis\":{\"colorbar\":{\"outlinewidth\":0,\"ticks\":\"\"}},\"colorscale\":{\"diverging\":[[0,\"#8e0152\"],[0.1,\"#c51b7d\"],[0.2,\"#de77ae\"],[0.3,\"#f1b6da\"],[0.4,\"#fde0ef\"],[0.5,\"#f7f7f7\"],[0.6,\"#e6f5d0\"],[0.7,\"#b8e186\"],[0.8,\"#7fbc41\"],[0.9,\"#4d9221\"],[1,\"#276419\"]],\"sequential\":[[0.0,\"#0d0887\"],[0.1111111111111111,\"#46039f\"],[0.2222222222222222,\"#7201a8\"],[0.3333333333333333,\"#9c179e\"],[0.4444444444444444,\"#bd3786\"],[0.5555555555555556,\"#d8576b\"],[0.6666666666666666,\"#ed7953\"],[0.7777777777777778,\"#fb9f3a\"],[0.8888888888888888,\"#fdca26\"],[1.0,\"#f0f921\"]],\"sequentialminus\":[[0.0,\"#0d0887\"],[0.1111111111111111,\"#46039f\"],[0.2222222222222222,\"#7201a8\"],[0.3333333333333333,\"#9c179e\"],[0.4444444444444444,\"#bd3786\"],[0.5555555555555556,\"#d8576b\"],[0.6666666666666666,\"#ed7953\"],[0.7777777777777778,\"#fb9f3a\"],[0.8888888888888888,\"#fdca26\"],[1.0,\"#f0f921\"]]},\"colorway\":[\"#636efa\",\"#EF553B\",\"#00cc96\",\"#ab63fa\",\"#FFA15A\",\"#19d3f3\",\"#FF6692\",\"#B6E880\",\"#FF97FF\",\"#FECB52\"],\"font\":{\"color\":\"#2a3f5f\"},\"geo\":{\"bgcolor\":\"white\",\"lakecolor\":\"white\",\"landcolor\":\"#E5ECF6\",\"showlakes\":true,\"showland\":true,\"subunitcolor\":\"white\"},\"hoverlabel\":{\"align\":\"left\"},\"hovermode\":\"closest\",\"mapbox\":{\"style\":\"light\"},\"paper_bgcolor\":\"white\",\"plot_bgcolor\":\"#E5ECF6\",\"polar\":{\"angularaxis\":{\"gridcolor\":\"white\",\"linecolor\":\"white\",\"ticks\":\"\"},\"bgcolor\":\"#E5ECF6\",\"radialaxis\":{\"gridcolor\":\"white\",\"linecolor\":\"white\",\"ticks\":\"\"}},\"scene\":{\"xaxis\":{\"backgroundcolor\":\"#E5ECF6\",\"gridcolor\":\"white\",\"gridwidth\":2,\"linecolor\":\"white\",\"showbackground\":true,\"ticks\":\"\",\"zerolinecolor\":\"white\"},\"yaxis\":{\"backgroundcolor\":\"#E5ECF6\",\"gridcolor\":\"white\",\"gridwidth\":2,\"linecolor\":\"white\",\"showbackground\":true,\"ticks\":\"\",\"zerolinecolor\":\"white\"},\"zaxis\":{\"backgroundcolor\":\"#E5ECF6\",\"gridcolor\":\"white\",\"gridwidth\":2,\"linecolor\":\"white\",\"showbackground\":true,\"ticks\":\"\",\"zerolinecolor\":\"white\"}},\"shapedefaults\":{\"line\":{\"color\":\"#2a3f5f\"}},\"ternary\":{\"aaxis\":{\"gridcolor\":\"white\",\"linecolor\":\"white\",\"ticks\":\"\"},\"baxis\":{\"gridcolor\":\"white\",\"linecolor\":\"white\",\"ticks\":\"\"},\"bgcolor\":\"#E5ECF6\",\"caxis\":{\"gridcolor\":\"white\",\"linecolor\":\"white\",\"ticks\":\"\"}},\"title\":{\"x\":0.05},\"xaxis\":{\"automargin\":true,\"gridcolor\":\"white\",\"linecolor\":\"white\",\"ticks\":\"\",\"title\":{\"standoff\":15},\"zerolinecolor\":\"white\",\"zerolinewidth\":2},\"yaxis\":{\"automargin\":true,\"gridcolor\":\"white\",\"linecolor\":\"white\",\"ticks\":\"\",\"title\":{\"standoff\":15},\"zerolinecolor\":\"white\",\"zerolinewidth\":2}}},\"title\":{\"text\":\"Frequency of different weapons used\"},\"xaxis\":{\"title\":{\"text\":\"weapons used\"}},\"yaxis\":{\"title\":{\"text\":\"count\"}},\"height\":700,\"width\":1000},                        {\"responsive\": true}                    ).then(function(){\n",
              "                            \n",
              "var gd = document.getElementById('0ac05a24-109f-46ab-8fe3-ccfc52b2b94d');\n",
              "var x = new MutationObserver(function (mutations, observer) {{\n",
              "        var display = window.getComputedStyle(gd).display;\n",
              "        if (!display || display === 'none') {{\n",
              "            console.log([gd, 'removed!']);\n",
              "            Plotly.purge(gd);\n",
              "            observer.disconnect();\n",
              "        }}\n",
              "}});\n",
              "\n",
              "// Listen for the removal of the full notebook cells\n",
              "var notebookContainer = gd.closest('#notebook-container');\n",
              "if (notebookContainer) {{\n",
              "    x.observe(notebookContainer, {childList: true});\n",
              "}}\n",
              "\n",
              "// Listen for the clearing of the current output cell\n",
              "var outputEl = gd.closest('.output');\n",
              "if (outputEl) {{\n",
              "    x.observe(outputEl, {childList: true});\n",
              "}}\n",
              "\n",
              "                        })                };                            </script>        </div>\n",
              "</body>\n",
              "</html>"
            ]
          },
          "metadata": {}
        }
      ]
    },
    {
      "cell_type": "code",
      "source": [
        "df=data['gender'].value_counts().reset_index().rename(columns={'index':'gender','gender':'count'})\n",
        "fig = go.Figure(go.Bar(x=df['gender'],y=df['count'],marker_color='#148edb'))\n",
        "fig.update_layout(title_text='gender ratio',xaxis_title=\"gender\",yaxis_title=\"count\",height=500,width=500)\n",
        "fig.show()"
      ],
      "metadata": {
        "colab": {
          "base_uri": "https://localhost:8080/",
          "height": 517
        },
        "id": "OWzbozTeJ07P",
        "outputId": "f2f101ef-15d8-4dbb-870f-6eeb5d3d1c86"
      },
      "execution_count": 19,
      "outputs": [
        {
          "output_type": "display_data",
          "data": {
            "text/html": [
              "<html>\n",
              "<head><meta charset=\"utf-8\" /></head>\n",
              "<body>\n",
              "    <div>            <script src=\"https://cdnjs.cloudflare.com/ajax/libs/mathjax/2.7.5/MathJax.js?config=TeX-AMS-MML_SVG\"></script><script type=\"text/javascript\">if (window.MathJax) {MathJax.Hub.Config({SVG: {font: \"STIX-Web\"}});}</script>                <script type=\"text/javascript\">window.PlotlyConfig = {MathJaxConfig: 'local'};</script>\n",
              "        <script src=\"https://cdn.plot.ly/plotly-2.8.3.min.js\"></script>                <div id=\"452410f0-8528-4cbf-9f15-34b776eb4bea\" class=\"plotly-graph-div\" style=\"height:500px; width:500px;\"></div>            <script type=\"text/javascript\">                                    window.PLOTLYENV=window.PLOTLYENV || {};                                    if (document.getElementById(\"452410f0-8528-4cbf-9f15-34b776eb4bea\")) {                    Plotly.newPlot(                        \"452410f0-8528-4cbf-9f15-34b776eb4bea\",                        [{\"marker\":{\"color\":\"#148edb\"},\"x\":[\"M\",\"F\"],\"y\":[4673,222],\"type\":\"bar\"}],                        {\"template\":{\"data\":{\"bar\":[{\"error_x\":{\"color\":\"#2a3f5f\"},\"error_y\":{\"color\":\"#2a3f5f\"},\"marker\":{\"line\":{\"color\":\"#E5ECF6\",\"width\":0.5},\"pattern\":{\"fillmode\":\"overlay\",\"size\":10,\"solidity\":0.2}},\"type\":\"bar\"}],\"barpolar\":[{\"marker\":{\"line\":{\"color\":\"#E5ECF6\",\"width\":0.5},\"pattern\":{\"fillmode\":\"overlay\",\"size\":10,\"solidity\":0.2}},\"type\":\"barpolar\"}],\"carpet\":[{\"aaxis\":{\"endlinecolor\":\"#2a3f5f\",\"gridcolor\":\"white\",\"linecolor\":\"white\",\"minorgridcolor\":\"white\",\"startlinecolor\":\"#2a3f5f\"},\"baxis\":{\"endlinecolor\":\"#2a3f5f\",\"gridcolor\":\"white\",\"linecolor\":\"white\",\"minorgridcolor\":\"white\",\"startlinecolor\":\"#2a3f5f\"},\"type\":\"carpet\"}],\"choropleth\":[{\"colorbar\":{\"outlinewidth\":0,\"ticks\":\"\"},\"type\":\"choropleth\"}],\"contour\":[{\"colorbar\":{\"outlinewidth\":0,\"ticks\":\"\"},\"colorscale\":[[0.0,\"#0d0887\"],[0.1111111111111111,\"#46039f\"],[0.2222222222222222,\"#7201a8\"],[0.3333333333333333,\"#9c179e\"],[0.4444444444444444,\"#bd3786\"],[0.5555555555555556,\"#d8576b\"],[0.6666666666666666,\"#ed7953\"],[0.7777777777777778,\"#fb9f3a\"],[0.8888888888888888,\"#fdca26\"],[1.0,\"#f0f921\"]],\"type\":\"contour\"}],\"contourcarpet\":[{\"colorbar\":{\"outlinewidth\":0,\"ticks\":\"\"},\"type\":\"contourcarpet\"}],\"heatmap\":[{\"colorbar\":{\"outlinewidth\":0,\"ticks\":\"\"},\"colorscale\":[[0.0,\"#0d0887\"],[0.1111111111111111,\"#46039f\"],[0.2222222222222222,\"#7201a8\"],[0.3333333333333333,\"#9c179e\"],[0.4444444444444444,\"#bd3786\"],[0.5555555555555556,\"#d8576b\"],[0.6666666666666666,\"#ed7953\"],[0.7777777777777778,\"#fb9f3a\"],[0.8888888888888888,\"#fdca26\"],[1.0,\"#f0f921\"]],\"type\":\"heatmap\"}],\"heatmapgl\":[{\"colorbar\":{\"outlinewidth\":0,\"ticks\":\"\"},\"colorscale\":[[0.0,\"#0d0887\"],[0.1111111111111111,\"#46039f\"],[0.2222222222222222,\"#7201a8\"],[0.3333333333333333,\"#9c179e\"],[0.4444444444444444,\"#bd3786\"],[0.5555555555555556,\"#d8576b\"],[0.6666666666666666,\"#ed7953\"],[0.7777777777777778,\"#fb9f3a\"],[0.8888888888888888,\"#fdca26\"],[1.0,\"#f0f921\"]],\"type\":\"heatmapgl\"}],\"histogram\":[{\"marker\":{\"pattern\":{\"fillmode\":\"overlay\",\"size\":10,\"solidity\":0.2}},\"type\":\"histogram\"}],\"histogram2d\":[{\"colorbar\":{\"outlinewidth\":0,\"ticks\":\"\"},\"colorscale\":[[0.0,\"#0d0887\"],[0.1111111111111111,\"#46039f\"],[0.2222222222222222,\"#7201a8\"],[0.3333333333333333,\"#9c179e\"],[0.4444444444444444,\"#bd3786\"],[0.5555555555555556,\"#d8576b\"],[0.6666666666666666,\"#ed7953\"],[0.7777777777777778,\"#fb9f3a\"],[0.8888888888888888,\"#fdca26\"],[1.0,\"#f0f921\"]],\"type\":\"histogram2d\"}],\"histogram2dcontour\":[{\"colorbar\":{\"outlinewidth\":0,\"ticks\":\"\"},\"colorscale\":[[0.0,\"#0d0887\"],[0.1111111111111111,\"#46039f\"],[0.2222222222222222,\"#7201a8\"],[0.3333333333333333,\"#9c179e\"],[0.4444444444444444,\"#bd3786\"],[0.5555555555555556,\"#d8576b\"],[0.6666666666666666,\"#ed7953\"],[0.7777777777777778,\"#fb9f3a\"],[0.8888888888888888,\"#fdca26\"],[1.0,\"#f0f921\"]],\"type\":\"histogram2dcontour\"}],\"mesh3d\":[{\"colorbar\":{\"outlinewidth\":0,\"ticks\":\"\"},\"type\":\"mesh3d\"}],\"parcoords\":[{\"line\":{\"colorbar\":{\"outlinewidth\":0,\"ticks\":\"\"}},\"type\":\"parcoords\"}],\"pie\":[{\"automargin\":true,\"type\":\"pie\"}],\"scatter\":[{\"marker\":{\"colorbar\":{\"outlinewidth\":0,\"ticks\":\"\"}},\"type\":\"scatter\"}],\"scatter3d\":[{\"line\":{\"colorbar\":{\"outlinewidth\":0,\"ticks\":\"\"}},\"marker\":{\"colorbar\":{\"outlinewidth\":0,\"ticks\":\"\"}},\"type\":\"scatter3d\"}],\"scattercarpet\":[{\"marker\":{\"colorbar\":{\"outlinewidth\":0,\"ticks\":\"\"}},\"type\":\"scattercarpet\"}],\"scattergeo\":[{\"marker\":{\"colorbar\":{\"outlinewidth\":0,\"ticks\":\"\"}},\"type\":\"scattergeo\"}],\"scattergl\":[{\"marker\":{\"colorbar\":{\"outlinewidth\":0,\"ticks\":\"\"}},\"type\":\"scattergl\"}],\"scattermapbox\":[{\"marker\":{\"colorbar\":{\"outlinewidth\":0,\"ticks\":\"\"}},\"type\":\"scattermapbox\"}],\"scatterpolar\":[{\"marker\":{\"colorbar\":{\"outlinewidth\":0,\"ticks\":\"\"}},\"type\":\"scatterpolar\"}],\"scatterpolargl\":[{\"marker\":{\"colorbar\":{\"outlinewidth\":0,\"ticks\":\"\"}},\"type\":\"scatterpolargl\"}],\"scatterternary\":[{\"marker\":{\"colorbar\":{\"outlinewidth\":0,\"ticks\":\"\"}},\"type\":\"scatterternary\"}],\"surface\":[{\"colorbar\":{\"outlinewidth\":0,\"ticks\":\"\"},\"colorscale\":[[0.0,\"#0d0887\"],[0.1111111111111111,\"#46039f\"],[0.2222222222222222,\"#7201a8\"],[0.3333333333333333,\"#9c179e\"],[0.4444444444444444,\"#bd3786\"],[0.5555555555555556,\"#d8576b\"],[0.6666666666666666,\"#ed7953\"],[0.7777777777777778,\"#fb9f3a\"],[0.8888888888888888,\"#fdca26\"],[1.0,\"#f0f921\"]],\"type\":\"surface\"}],\"table\":[{\"cells\":{\"fill\":{\"color\":\"#EBF0F8\"},\"line\":{\"color\":\"white\"}},\"header\":{\"fill\":{\"color\":\"#C8D4E3\"},\"line\":{\"color\":\"white\"}},\"type\":\"table\"}]},\"layout\":{\"annotationdefaults\":{\"arrowcolor\":\"#2a3f5f\",\"arrowhead\":0,\"arrowwidth\":1},\"autotypenumbers\":\"strict\",\"coloraxis\":{\"colorbar\":{\"outlinewidth\":0,\"ticks\":\"\"}},\"colorscale\":{\"diverging\":[[0,\"#8e0152\"],[0.1,\"#c51b7d\"],[0.2,\"#de77ae\"],[0.3,\"#f1b6da\"],[0.4,\"#fde0ef\"],[0.5,\"#f7f7f7\"],[0.6,\"#e6f5d0\"],[0.7,\"#b8e186\"],[0.8,\"#7fbc41\"],[0.9,\"#4d9221\"],[1,\"#276419\"]],\"sequential\":[[0.0,\"#0d0887\"],[0.1111111111111111,\"#46039f\"],[0.2222222222222222,\"#7201a8\"],[0.3333333333333333,\"#9c179e\"],[0.4444444444444444,\"#bd3786\"],[0.5555555555555556,\"#d8576b\"],[0.6666666666666666,\"#ed7953\"],[0.7777777777777778,\"#fb9f3a\"],[0.8888888888888888,\"#fdca26\"],[1.0,\"#f0f921\"]],\"sequentialminus\":[[0.0,\"#0d0887\"],[0.1111111111111111,\"#46039f\"],[0.2222222222222222,\"#7201a8\"],[0.3333333333333333,\"#9c179e\"],[0.4444444444444444,\"#bd3786\"],[0.5555555555555556,\"#d8576b\"],[0.6666666666666666,\"#ed7953\"],[0.7777777777777778,\"#fb9f3a\"],[0.8888888888888888,\"#fdca26\"],[1.0,\"#f0f921\"]]},\"colorway\":[\"#636efa\",\"#EF553B\",\"#00cc96\",\"#ab63fa\",\"#FFA15A\",\"#19d3f3\",\"#FF6692\",\"#B6E880\",\"#FF97FF\",\"#FECB52\"],\"font\":{\"color\":\"#2a3f5f\"},\"geo\":{\"bgcolor\":\"white\",\"lakecolor\":\"white\",\"landcolor\":\"#E5ECF6\",\"showlakes\":true,\"showland\":true,\"subunitcolor\":\"white\"},\"hoverlabel\":{\"align\":\"left\"},\"hovermode\":\"closest\",\"mapbox\":{\"style\":\"light\"},\"paper_bgcolor\":\"white\",\"plot_bgcolor\":\"#E5ECF6\",\"polar\":{\"angularaxis\":{\"gridcolor\":\"white\",\"linecolor\":\"white\",\"ticks\":\"\"},\"bgcolor\":\"#E5ECF6\",\"radialaxis\":{\"gridcolor\":\"white\",\"linecolor\":\"white\",\"ticks\":\"\"}},\"scene\":{\"xaxis\":{\"backgroundcolor\":\"#E5ECF6\",\"gridcolor\":\"white\",\"gridwidth\":2,\"linecolor\":\"white\",\"showbackground\":true,\"ticks\":\"\",\"zerolinecolor\":\"white\"},\"yaxis\":{\"backgroundcolor\":\"#E5ECF6\",\"gridcolor\":\"white\",\"gridwidth\":2,\"linecolor\":\"white\",\"showbackground\":true,\"ticks\":\"\",\"zerolinecolor\":\"white\"},\"zaxis\":{\"backgroundcolor\":\"#E5ECF6\",\"gridcolor\":\"white\",\"gridwidth\":2,\"linecolor\":\"white\",\"showbackground\":true,\"ticks\":\"\",\"zerolinecolor\":\"white\"}},\"shapedefaults\":{\"line\":{\"color\":\"#2a3f5f\"}},\"ternary\":{\"aaxis\":{\"gridcolor\":\"white\",\"linecolor\":\"white\",\"ticks\":\"\"},\"baxis\":{\"gridcolor\":\"white\",\"linecolor\":\"white\",\"ticks\":\"\"},\"bgcolor\":\"#E5ECF6\",\"caxis\":{\"gridcolor\":\"white\",\"linecolor\":\"white\",\"ticks\":\"\"}},\"title\":{\"x\":0.05},\"xaxis\":{\"automargin\":true,\"gridcolor\":\"white\",\"linecolor\":\"white\",\"ticks\":\"\",\"title\":{\"standoff\":15},\"zerolinecolor\":\"white\",\"zerolinewidth\":2},\"yaxis\":{\"automargin\":true,\"gridcolor\":\"white\",\"linecolor\":\"white\",\"ticks\":\"\",\"title\":{\"standoff\":15},\"zerolinecolor\":\"white\",\"zerolinewidth\":2}}},\"title\":{\"text\":\"gender ratio\"},\"xaxis\":{\"title\":{\"text\":\"gender\"}},\"yaxis\":{\"title\":{\"text\":\"count\"}},\"height\":500,\"width\":500},                        {\"responsive\": true}                    ).then(function(){\n",
              "                            \n",
              "var gd = document.getElementById('452410f0-8528-4cbf-9f15-34b776eb4bea');\n",
              "var x = new MutationObserver(function (mutations, observer) {{\n",
              "        var display = window.getComputedStyle(gd).display;\n",
              "        if (!display || display === 'none') {{\n",
              "            console.log([gd, 'removed!']);\n",
              "            Plotly.purge(gd);\n",
              "            observer.disconnect();\n",
              "        }}\n",
              "}});\n",
              "\n",
              "// Listen for the removal of the full notebook cells\n",
              "var notebookContainer = gd.closest('#notebook-container');\n",
              "if (notebookContainer) {{\n",
              "    x.observe(notebookContainer, {childList: true});\n",
              "}}\n",
              "\n",
              "// Listen for the clearing of the current output cell\n",
              "var outputEl = gd.closest('.output');\n",
              "if (outputEl) {{\n",
              "    x.observe(outputEl, {childList: true});\n",
              "}}\n",
              "\n",
              "                        })                };                            </script>        </div>\n",
              "</body>\n",
              "</html>"
            ]
          },
          "metadata": {}
        }
      ]
    },
    {
      "cell_type": "code",
      "source": [
        "df=data.groupby('date')['manner_of_death'].count().reset_index()\n",
        "df['date']=pd.to_datetime(df['date'])\n",
        "df['year-month'] = df['date'].apply(lambda x: str(x.year) + '-' + str(x.month))\n",
        "df_ym=df.groupby('year-month')[['manner_of_death']].sum().reset_index()\n",
        "df_ym['year-month']=pd.to_datetime(df_ym['year-month'])\n",
        "df_ym=df_ym.sort_values('year-month')"
      ],
      "metadata": {
        "id": "DSEa5HzQNvRN"
      },
      "execution_count": 20,
      "outputs": []
    },
    {
      "cell_type": "code",
      "source": [
        "df"
      ],
      "metadata": {
        "colab": {
          "base_uri": "https://localhost:8080/",
          "height": 424
        },
        "id": "XN8vcvonN3g1",
        "outputId": "043548de-9c4f-4d08-dcd9-b7c525b439e7"
      },
      "execution_count": 21,
      "outputs": [
        {
          "output_type": "execute_result",
          "data": {
            "text/plain": [
              "           date  manner_of_death year-month\n",
              "0    2015-01-02                2     2015-1\n",
              "1    2015-01-03                1     2015-1\n",
              "2    2015-01-04                3     2015-1\n",
              "3    2015-01-05                1     2015-1\n",
              "4    2015-01-06                4     2015-1\n",
              "...         ...              ...        ...\n",
              "1787 2020-06-09                1     2020-6\n",
              "1788 2020-06-11                3     2020-6\n",
              "1789 2020-06-12                2     2020-6\n",
              "1790 2020-06-13                2     2020-6\n",
              "1791 2020-06-15                1     2020-6\n",
              "\n",
              "[1792 rows x 3 columns]"
            ],
            "text/html": [
              "\n",
              "  <div id=\"df-4ec004e0-e64f-4105-8c9f-4e2ff202cb29\">\n",
              "    <div class=\"colab-df-container\">\n",
              "      <div>\n",
              "<style scoped>\n",
              "    .dataframe tbody tr th:only-of-type {\n",
              "        vertical-align: middle;\n",
              "    }\n",
              "\n",
              "    .dataframe tbody tr th {\n",
              "        vertical-align: top;\n",
              "    }\n",
              "\n",
              "    .dataframe thead th {\n",
              "        text-align: right;\n",
              "    }\n",
              "</style>\n",
              "<table border=\"1\" class=\"dataframe\">\n",
              "  <thead>\n",
              "    <tr style=\"text-align: right;\">\n",
              "      <th></th>\n",
              "      <th>date</th>\n",
              "      <th>manner_of_death</th>\n",
              "      <th>year-month</th>\n",
              "    </tr>\n",
              "  </thead>\n",
              "  <tbody>\n",
              "    <tr>\n",
              "      <th>0</th>\n",
              "      <td>2015-01-02</td>\n",
              "      <td>2</td>\n",
              "      <td>2015-1</td>\n",
              "    </tr>\n",
              "    <tr>\n",
              "      <th>1</th>\n",
              "      <td>2015-01-03</td>\n",
              "      <td>1</td>\n",
              "      <td>2015-1</td>\n",
              "    </tr>\n",
              "    <tr>\n",
              "      <th>2</th>\n",
              "      <td>2015-01-04</td>\n",
              "      <td>3</td>\n",
              "      <td>2015-1</td>\n",
              "    </tr>\n",
              "    <tr>\n",
              "      <th>3</th>\n",
              "      <td>2015-01-05</td>\n",
              "      <td>1</td>\n",
              "      <td>2015-1</td>\n",
              "    </tr>\n",
              "    <tr>\n",
              "      <th>4</th>\n",
              "      <td>2015-01-06</td>\n",
              "      <td>4</td>\n",
              "      <td>2015-1</td>\n",
              "    </tr>\n",
              "    <tr>\n",
              "      <th>...</th>\n",
              "      <td>...</td>\n",
              "      <td>...</td>\n",
              "      <td>...</td>\n",
              "    </tr>\n",
              "    <tr>\n",
              "      <th>1787</th>\n",
              "      <td>2020-06-09</td>\n",
              "      <td>1</td>\n",
              "      <td>2020-6</td>\n",
              "    </tr>\n",
              "    <tr>\n",
              "      <th>1788</th>\n",
              "      <td>2020-06-11</td>\n",
              "      <td>3</td>\n",
              "      <td>2020-6</td>\n",
              "    </tr>\n",
              "    <tr>\n",
              "      <th>1789</th>\n",
              "      <td>2020-06-12</td>\n",
              "      <td>2</td>\n",
              "      <td>2020-6</td>\n",
              "    </tr>\n",
              "    <tr>\n",
              "      <th>1790</th>\n",
              "      <td>2020-06-13</td>\n",
              "      <td>2</td>\n",
              "      <td>2020-6</td>\n",
              "    </tr>\n",
              "    <tr>\n",
              "      <th>1791</th>\n",
              "      <td>2020-06-15</td>\n",
              "      <td>1</td>\n",
              "      <td>2020-6</td>\n",
              "    </tr>\n",
              "  </tbody>\n",
              "</table>\n",
              "<p>1792 rows × 3 columns</p>\n",
              "</div>\n",
              "      <button class=\"colab-df-convert\" onclick=\"convertToInteractive('df-4ec004e0-e64f-4105-8c9f-4e2ff202cb29')\"\n",
              "              title=\"Convert this dataframe to an interactive table.\"\n",
              "              style=\"display:none;\">\n",
              "        \n",
              "  <svg xmlns=\"http://www.w3.org/2000/svg\" height=\"24px\"viewBox=\"0 0 24 24\"\n",
              "       width=\"24px\">\n",
              "    <path d=\"M0 0h24v24H0V0z\" fill=\"none\"/>\n",
              "    <path d=\"M18.56 5.44l.94 2.06.94-2.06 2.06-.94-2.06-.94-.94-2.06-.94 2.06-2.06.94zm-11 1L8.5 8.5l.94-2.06 2.06-.94-2.06-.94L8.5 2.5l-.94 2.06-2.06.94zm10 10l.94 2.06.94-2.06 2.06-.94-2.06-.94-.94-2.06-.94 2.06-2.06.94z\"/><path d=\"M17.41 7.96l-1.37-1.37c-.4-.4-.92-.59-1.43-.59-.52 0-1.04.2-1.43.59L10.3 9.45l-7.72 7.72c-.78.78-.78 2.05 0 2.83L4 21.41c.39.39.9.59 1.41.59.51 0 1.02-.2 1.41-.59l7.78-7.78 2.81-2.81c.8-.78.8-2.07 0-2.86zM5.41 20L4 18.59l7.72-7.72 1.47 1.35L5.41 20z\"/>\n",
              "  </svg>\n",
              "      </button>\n",
              "      \n",
              "  <style>\n",
              "    .colab-df-container {\n",
              "      display:flex;\n",
              "      flex-wrap:wrap;\n",
              "      gap: 12px;\n",
              "    }\n",
              "\n",
              "    .colab-df-convert {\n",
              "      background-color: #E8F0FE;\n",
              "      border: none;\n",
              "      border-radius: 50%;\n",
              "      cursor: pointer;\n",
              "      display: none;\n",
              "      fill: #1967D2;\n",
              "      height: 32px;\n",
              "      padding: 0 0 0 0;\n",
              "      width: 32px;\n",
              "    }\n",
              "\n",
              "    .colab-df-convert:hover {\n",
              "      background-color: #E2EBFA;\n",
              "      box-shadow: 0px 1px 2px rgba(60, 64, 67, 0.3), 0px 1px 3px 1px rgba(60, 64, 67, 0.15);\n",
              "      fill: #174EA6;\n",
              "    }\n",
              "\n",
              "    [theme=dark] .colab-df-convert {\n",
              "      background-color: #3B4455;\n",
              "      fill: #D2E3FC;\n",
              "    }\n",
              "\n",
              "    [theme=dark] .colab-df-convert:hover {\n",
              "      background-color: #434B5C;\n",
              "      box-shadow: 0px 1px 3px 1px rgba(0, 0, 0, 0.15);\n",
              "      filter: drop-shadow(0px 1px 2px rgba(0, 0, 0, 0.3));\n",
              "      fill: #FFFFFF;\n",
              "    }\n",
              "  </style>\n",
              "\n",
              "      <script>\n",
              "        const buttonEl =\n",
              "          document.querySelector('#df-4ec004e0-e64f-4105-8c9f-4e2ff202cb29 button.colab-df-convert');\n",
              "        buttonEl.style.display =\n",
              "          google.colab.kernel.accessAllowed ? 'block' : 'none';\n",
              "\n",
              "        async function convertToInteractive(key) {\n",
              "          const element = document.querySelector('#df-4ec004e0-e64f-4105-8c9f-4e2ff202cb29');\n",
              "          const dataTable =\n",
              "            await google.colab.kernel.invokeFunction('convertToInteractive',\n",
              "                                                     [key], {});\n",
              "          if (!dataTable) return;\n",
              "\n",
              "          const docLinkHtml = 'Like what you see? Visit the ' +\n",
              "            '<a target=\"_blank\" href=https://colab.research.google.com/notebooks/data_table.ipynb>data table notebook</a>'\n",
              "            + ' to learn more about interactive tables.';\n",
              "          element.innerHTML = '';\n",
              "          dataTable['output_type'] = 'display_data';\n",
              "          await google.colab.output.renderOutput(dataTable, element);\n",
              "          const docLink = document.createElement('div');\n",
              "          docLink.innerHTML = docLinkHtml;\n",
              "          element.appendChild(docLink);\n",
              "        }\n",
              "      </script>\n",
              "    </div>\n",
              "  </div>\n",
              "  "
            ]
          },
          "metadata": {},
          "execution_count": 21
        }
      ]
    },
    {
      "cell_type": "code",
      "source": [
        "df=data['race'].value_counts().reset_index().rename(columns={'index':'race','race':'count'})\n",
        "fig = go.Figure(go.Bar(x=df['race'],y=df['count'],marker={'color': df['count'],'colorscale': 'Viridis'},))\n",
        "fig.update_layout(title_text='frequency of different race',xaxis_title=\"race\",yaxis_title=\"count\",height=500,width=500)\n",
        "fig.show()"
      ],
      "metadata": {
        "colab": {
          "base_uri": "https://localhost:8080/",
          "height": 517
        },
        "id": "6XsGG4fzN5jk",
        "outputId": "c5feaea8-cd9b-4d07-8518-a646ea3095ea"
      },
      "execution_count": 23,
      "outputs": [
        {
          "output_type": "display_data",
          "data": {
            "text/html": [
              "<html>\n",
              "<head><meta charset=\"utf-8\" /></head>\n",
              "<body>\n",
              "    <div>            <script src=\"https://cdnjs.cloudflare.com/ajax/libs/mathjax/2.7.5/MathJax.js?config=TeX-AMS-MML_SVG\"></script><script type=\"text/javascript\">if (window.MathJax) {MathJax.Hub.Config({SVG: {font: \"STIX-Web\"}});}</script>                <script type=\"text/javascript\">window.PlotlyConfig = {MathJaxConfig: 'local'};</script>\n",
              "        <script src=\"https://cdn.plot.ly/plotly-2.8.3.min.js\"></script>                <div id=\"c598fe5d-7d9d-48c0-8da9-f5485cd5746c\" class=\"plotly-graph-div\" style=\"height:500px; width:500px;\"></div>            <script type=\"text/javascript\">                                    window.PLOTLYENV=window.PLOTLYENV || {};                                    if (document.getElementById(\"c598fe5d-7d9d-48c0-8da9-f5485cd5746c\")) {                    Plotly.newPlot(                        \"c598fe5d-7d9d-48c0-8da9-f5485cd5746c\",                        [{\"marker\":{\"color\":[2476,1298,902,93,78,48],\"colorscale\":[[0.0,\"#440154\"],[0.1111111111111111,\"#482878\"],[0.2222222222222222,\"#3e4989\"],[0.3333333333333333,\"#31688e\"],[0.4444444444444444,\"#26828e\"],[0.5555555555555556,\"#1f9e89\"],[0.6666666666666666,\"#35b779\"],[0.7777777777777778,\"#6ece58\"],[0.8888888888888888,\"#b5de2b\"],[1.0,\"#fde725\"]]},\"x\":[\"White\",\"Black\",\"Hispanic\",\"Asian\",\"Native\",\"Other\"],\"y\":[2476,1298,902,93,78,48],\"type\":\"bar\"}],                        {\"template\":{\"data\":{\"bar\":[{\"error_x\":{\"color\":\"#2a3f5f\"},\"error_y\":{\"color\":\"#2a3f5f\"},\"marker\":{\"line\":{\"color\":\"#E5ECF6\",\"width\":0.5},\"pattern\":{\"fillmode\":\"overlay\",\"size\":10,\"solidity\":0.2}},\"type\":\"bar\"}],\"barpolar\":[{\"marker\":{\"line\":{\"color\":\"#E5ECF6\",\"width\":0.5},\"pattern\":{\"fillmode\":\"overlay\",\"size\":10,\"solidity\":0.2}},\"type\":\"barpolar\"}],\"carpet\":[{\"aaxis\":{\"endlinecolor\":\"#2a3f5f\",\"gridcolor\":\"white\",\"linecolor\":\"white\",\"minorgridcolor\":\"white\",\"startlinecolor\":\"#2a3f5f\"},\"baxis\":{\"endlinecolor\":\"#2a3f5f\",\"gridcolor\":\"white\",\"linecolor\":\"white\",\"minorgridcolor\":\"white\",\"startlinecolor\":\"#2a3f5f\"},\"type\":\"carpet\"}],\"choropleth\":[{\"colorbar\":{\"outlinewidth\":0,\"ticks\":\"\"},\"type\":\"choropleth\"}],\"contour\":[{\"colorbar\":{\"outlinewidth\":0,\"ticks\":\"\"},\"colorscale\":[[0.0,\"#0d0887\"],[0.1111111111111111,\"#46039f\"],[0.2222222222222222,\"#7201a8\"],[0.3333333333333333,\"#9c179e\"],[0.4444444444444444,\"#bd3786\"],[0.5555555555555556,\"#d8576b\"],[0.6666666666666666,\"#ed7953\"],[0.7777777777777778,\"#fb9f3a\"],[0.8888888888888888,\"#fdca26\"],[1.0,\"#f0f921\"]],\"type\":\"contour\"}],\"contourcarpet\":[{\"colorbar\":{\"outlinewidth\":0,\"ticks\":\"\"},\"type\":\"contourcarpet\"}],\"heatmap\":[{\"colorbar\":{\"outlinewidth\":0,\"ticks\":\"\"},\"colorscale\":[[0.0,\"#0d0887\"],[0.1111111111111111,\"#46039f\"],[0.2222222222222222,\"#7201a8\"],[0.3333333333333333,\"#9c179e\"],[0.4444444444444444,\"#bd3786\"],[0.5555555555555556,\"#d8576b\"],[0.6666666666666666,\"#ed7953\"],[0.7777777777777778,\"#fb9f3a\"],[0.8888888888888888,\"#fdca26\"],[1.0,\"#f0f921\"]],\"type\":\"heatmap\"}],\"heatmapgl\":[{\"colorbar\":{\"outlinewidth\":0,\"ticks\":\"\"},\"colorscale\":[[0.0,\"#0d0887\"],[0.1111111111111111,\"#46039f\"],[0.2222222222222222,\"#7201a8\"],[0.3333333333333333,\"#9c179e\"],[0.4444444444444444,\"#bd3786\"],[0.5555555555555556,\"#d8576b\"],[0.6666666666666666,\"#ed7953\"],[0.7777777777777778,\"#fb9f3a\"],[0.8888888888888888,\"#fdca26\"],[1.0,\"#f0f921\"]],\"type\":\"heatmapgl\"}],\"histogram\":[{\"marker\":{\"pattern\":{\"fillmode\":\"overlay\",\"size\":10,\"solidity\":0.2}},\"type\":\"histogram\"}],\"histogram2d\":[{\"colorbar\":{\"outlinewidth\":0,\"ticks\":\"\"},\"colorscale\":[[0.0,\"#0d0887\"],[0.1111111111111111,\"#46039f\"],[0.2222222222222222,\"#7201a8\"],[0.3333333333333333,\"#9c179e\"],[0.4444444444444444,\"#bd3786\"],[0.5555555555555556,\"#d8576b\"],[0.6666666666666666,\"#ed7953\"],[0.7777777777777778,\"#fb9f3a\"],[0.8888888888888888,\"#fdca26\"],[1.0,\"#f0f921\"]],\"type\":\"histogram2d\"}],\"histogram2dcontour\":[{\"colorbar\":{\"outlinewidth\":0,\"ticks\":\"\"},\"colorscale\":[[0.0,\"#0d0887\"],[0.1111111111111111,\"#46039f\"],[0.2222222222222222,\"#7201a8\"],[0.3333333333333333,\"#9c179e\"],[0.4444444444444444,\"#bd3786\"],[0.5555555555555556,\"#d8576b\"],[0.6666666666666666,\"#ed7953\"],[0.7777777777777778,\"#fb9f3a\"],[0.8888888888888888,\"#fdca26\"],[1.0,\"#f0f921\"]],\"type\":\"histogram2dcontour\"}],\"mesh3d\":[{\"colorbar\":{\"outlinewidth\":0,\"ticks\":\"\"},\"type\":\"mesh3d\"}],\"parcoords\":[{\"line\":{\"colorbar\":{\"outlinewidth\":0,\"ticks\":\"\"}},\"type\":\"parcoords\"}],\"pie\":[{\"automargin\":true,\"type\":\"pie\"}],\"scatter\":[{\"marker\":{\"colorbar\":{\"outlinewidth\":0,\"ticks\":\"\"}},\"type\":\"scatter\"}],\"scatter3d\":[{\"line\":{\"colorbar\":{\"outlinewidth\":0,\"ticks\":\"\"}},\"marker\":{\"colorbar\":{\"outlinewidth\":0,\"ticks\":\"\"}},\"type\":\"scatter3d\"}],\"scattercarpet\":[{\"marker\":{\"colorbar\":{\"outlinewidth\":0,\"ticks\":\"\"}},\"type\":\"scattercarpet\"}],\"scattergeo\":[{\"marker\":{\"colorbar\":{\"outlinewidth\":0,\"ticks\":\"\"}},\"type\":\"scattergeo\"}],\"scattergl\":[{\"marker\":{\"colorbar\":{\"outlinewidth\":0,\"ticks\":\"\"}},\"type\":\"scattergl\"}],\"scattermapbox\":[{\"marker\":{\"colorbar\":{\"outlinewidth\":0,\"ticks\":\"\"}},\"type\":\"scattermapbox\"}],\"scatterpolar\":[{\"marker\":{\"colorbar\":{\"outlinewidth\":0,\"ticks\":\"\"}},\"type\":\"scatterpolar\"}],\"scatterpolargl\":[{\"marker\":{\"colorbar\":{\"outlinewidth\":0,\"ticks\":\"\"}},\"type\":\"scatterpolargl\"}],\"scatterternary\":[{\"marker\":{\"colorbar\":{\"outlinewidth\":0,\"ticks\":\"\"}},\"type\":\"scatterternary\"}],\"surface\":[{\"colorbar\":{\"outlinewidth\":0,\"ticks\":\"\"},\"colorscale\":[[0.0,\"#0d0887\"],[0.1111111111111111,\"#46039f\"],[0.2222222222222222,\"#7201a8\"],[0.3333333333333333,\"#9c179e\"],[0.4444444444444444,\"#bd3786\"],[0.5555555555555556,\"#d8576b\"],[0.6666666666666666,\"#ed7953\"],[0.7777777777777778,\"#fb9f3a\"],[0.8888888888888888,\"#fdca26\"],[1.0,\"#f0f921\"]],\"type\":\"surface\"}],\"table\":[{\"cells\":{\"fill\":{\"color\":\"#EBF0F8\"},\"line\":{\"color\":\"white\"}},\"header\":{\"fill\":{\"color\":\"#C8D4E3\"},\"line\":{\"color\":\"white\"}},\"type\":\"table\"}]},\"layout\":{\"annotationdefaults\":{\"arrowcolor\":\"#2a3f5f\",\"arrowhead\":0,\"arrowwidth\":1},\"autotypenumbers\":\"strict\",\"coloraxis\":{\"colorbar\":{\"outlinewidth\":0,\"ticks\":\"\"}},\"colorscale\":{\"diverging\":[[0,\"#8e0152\"],[0.1,\"#c51b7d\"],[0.2,\"#de77ae\"],[0.3,\"#f1b6da\"],[0.4,\"#fde0ef\"],[0.5,\"#f7f7f7\"],[0.6,\"#e6f5d0\"],[0.7,\"#b8e186\"],[0.8,\"#7fbc41\"],[0.9,\"#4d9221\"],[1,\"#276419\"]],\"sequential\":[[0.0,\"#0d0887\"],[0.1111111111111111,\"#46039f\"],[0.2222222222222222,\"#7201a8\"],[0.3333333333333333,\"#9c179e\"],[0.4444444444444444,\"#bd3786\"],[0.5555555555555556,\"#d8576b\"],[0.6666666666666666,\"#ed7953\"],[0.7777777777777778,\"#fb9f3a\"],[0.8888888888888888,\"#fdca26\"],[1.0,\"#f0f921\"]],\"sequentialminus\":[[0.0,\"#0d0887\"],[0.1111111111111111,\"#46039f\"],[0.2222222222222222,\"#7201a8\"],[0.3333333333333333,\"#9c179e\"],[0.4444444444444444,\"#bd3786\"],[0.5555555555555556,\"#d8576b\"],[0.6666666666666666,\"#ed7953\"],[0.7777777777777778,\"#fb9f3a\"],[0.8888888888888888,\"#fdca26\"],[1.0,\"#f0f921\"]]},\"colorway\":[\"#636efa\",\"#EF553B\",\"#00cc96\",\"#ab63fa\",\"#FFA15A\",\"#19d3f3\",\"#FF6692\",\"#B6E880\",\"#FF97FF\",\"#FECB52\"],\"font\":{\"color\":\"#2a3f5f\"},\"geo\":{\"bgcolor\":\"white\",\"lakecolor\":\"white\",\"landcolor\":\"#E5ECF6\",\"showlakes\":true,\"showland\":true,\"subunitcolor\":\"white\"},\"hoverlabel\":{\"align\":\"left\"},\"hovermode\":\"closest\",\"mapbox\":{\"style\":\"light\"},\"paper_bgcolor\":\"white\",\"plot_bgcolor\":\"#E5ECF6\",\"polar\":{\"angularaxis\":{\"gridcolor\":\"white\",\"linecolor\":\"white\",\"ticks\":\"\"},\"bgcolor\":\"#E5ECF6\",\"radialaxis\":{\"gridcolor\":\"white\",\"linecolor\":\"white\",\"ticks\":\"\"}},\"scene\":{\"xaxis\":{\"backgroundcolor\":\"#E5ECF6\",\"gridcolor\":\"white\",\"gridwidth\":2,\"linecolor\":\"white\",\"showbackground\":true,\"ticks\":\"\",\"zerolinecolor\":\"white\"},\"yaxis\":{\"backgroundcolor\":\"#E5ECF6\",\"gridcolor\":\"white\",\"gridwidth\":2,\"linecolor\":\"white\",\"showbackground\":true,\"ticks\":\"\",\"zerolinecolor\":\"white\"},\"zaxis\":{\"backgroundcolor\":\"#E5ECF6\",\"gridcolor\":\"white\",\"gridwidth\":2,\"linecolor\":\"white\",\"showbackground\":true,\"ticks\":\"\",\"zerolinecolor\":\"white\"}},\"shapedefaults\":{\"line\":{\"color\":\"#2a3f5f\"}},\"ternary\":{\"aaxis\":{\"gridcolor\":\"white\",\"linecolor\":\"white\",\"ticks\":\"\"},\"baxis\":{\"gridcolor\":\"white\",\"linecolor\":\"white\",\"ticks\":\"\"},\"bgcolor\":\"#E5ECF6\",\"caxis\":{\"gridcolor\":\"white\",\"linecolor\":\"white\",\"ticks\":\"\"}},\"title\":{\"x\":0.05},\"xaxis\":{\"automargin\":true,\"gridcolor\":\"white\",\"linecolor\":\"white\",\"ticks\":\"\",\"title\":{\"standoff\":15},\"zerolinecolor\":\"white\",\"zerolinewidth\":2},\"yaxis\":{\"automargin\":true,\"gridcolor\":\"white\",\"linecolor\":\"white\",\"ticks\":\"\",\"title\":{\"standoff\":15},\"zerolinecolor\":\"white\",\"zerolinewidth\":2}}},\"title\":{\"text\":\"frequency of different race\"},\"xaxis\":{\"title\":{\"text\":\"race\"}},\"yaxis\":{\"title\":{\"text\":\"count\"}},\"height\":500,\"width\":500},                        {\"responsive\": true}                    ).then(function(){\n",
              "                            \n",
              "var gd = document.getElementById('c598fe5d-7d9d-48c0-8da9-f5485cd5746c');\n",
              "var x = new MutationObserver(function (mutations, observer) {{\n",
              "        var display = window.getComputedStyle(gd).display;\n",
              "        if (!display || display === 'none') {{\n",
              "            console.log([gd, 'removed!']);\n",
              "            Plotly.purge(gd);\n",
              "            observer.disconnect();\n",
              "        }}\n",
              "}});\n",
              "\n",
              "// Listen for the removal of the full notebook cells\n",
              "var notebookContainer = gd.closest('#notebook-container');\n",
              "if (notebookContainer) {{\n",
              "    x.observe(notebookContainer, {childList: true});\n",
              "}}\n",
              "\n",
              "// Listen for the clearing of the current output cell\n",
              "var outputEl = gd.closest('.output');\n",
              "if (outputEl) {{\n",
              "    x.observe(outputEl, {childList: true});\n",
              "}}\n",
              "\n",
              "                        })                };                            </script>        </div>\n",
              "</body>\n",
              "</html>"
            ]
          },
          "metadata": {}
        }
      ]
    },
    {
      "cell_type": "code",
      "source": [
        "fig = go.Figure(go.Bar(x=df_ym['year-month'],y=df_ym['manner_of_death'],marker={'color': df_ym['manner_of_death'],'colorscale': 'Viridis'},text=df_ym['manner_of_death'],textposition = \"outside\",))\n",
        "fig.update_layout(title_text='No of deaths (2015-2020)',yaxis_title=\"no. of deaths\")\n",
        "fig.show()"
      ],
      "metadata": {
        "colab": {
          "base_uri": "https://localhost:8080/",
          "height": 542
        },
        "id": "XiiOJjXhe7UM",
        "outputId": "396d2f64-9d66-4318-a3fc-f8d7df845eb1"
      },
      "execution_count": 24,
      "outputs": [
        {
          "output_type": "display_data",
          "data": {
            "text/html": [
              "<html>\n",
              "<head><meta charset=\"utf-8\" /></head>\n",
              "<body>\n",
              "    <div>            <script src=\"https://cdnjs.cloudflare.com/ajax/libs/mathjax/2.7.5/MathJax.js?config=TeX-AMS-MML_SVG\"></script><script type=\"text/javascript\">if (window.MathJax) {MathJax.Hub.Config({SVG: {font: \"STIX-Web\"}});}</script>                <script type=\"text/javascript\">window.PlotlyConfig = {MathJaxConfig: 'local'};</script>\n",
              "        <script src=\"https://cdn.plot.ly/plotly-2.8.3.min.js\"></script>                <div id=\"35e69324-9251-4ce2-81a8-303ed21a1634\" class=\"plotly-graph-div\" style=\"height:525px; width:100%;\"></div>            <script type=\"text/javascript\">                                    window.PLOTLYENV=window.PLOTLYENV || {};                                    if (document.getElementById(\"35e69324-9251-4ce2-81a8-303ed21a1634\")) {                    Plotly.newPlot(                        \"35e69324-9251-4ce2-81a8-303ed21a1634\",                        [{\"marker\":{\"color\":[75,77,91,83,69,63,100,91,80,78,76,82,80,85,90,73,69,87,71,77,73,71,68,60,91,97,74,65,68,80,91,78,66,81,76,39,96,74,99,88,70,70,82,68,50,64,63,64,81,68,76,63,64,77,69,57,59,73,71,100,82,61,73,58,78,22],\"colorscale\":[[0.0,\"#440154\"],[0.1111111111111111,\"#482878\"],[0.2222222222222222,\"#3e4989\"],[0.3333333333333333,\"#31688e\"],[0.4444444444444444,\"#26828e\"],[0.5555555555555556,\"#1f9e89\"],[0.6666666666666666,\"#35b779\"],[0.7777777777777778,\"#6ece58\"],[0.8888888888888888,\"#b5de2b\"],[1.0,\"#fde725\"]]},\"text\":[75.0,77.0,91.0,83.0,69.0,63.0,100.0,91.0,80.0,78.0,76.0,82.0,80.0,85.0,90.0,73.0,69.0,87.0,71.0,77.0,73.0,71.0,68.0,60.0,91.0,97.0,74.0,65.0,68.0,80.0,91.0,78.0,66.0,81.0,76.0,39.0,96.0,74.0,99.0,88.0,70.0,70.0,82.0,68.0,50.0,64.0,63.0,64.0,81.0,68.0,76.0,63.0,64.0,77.0,69.0,57.0,59.0,73.0,71.0,100.0,82.0,61.0,73.0,58.0,78.0,22.0],\"textposition\":\"outside\",\"x\":[\"2015-01-01T00:00:00\",\"2015-02-01T00:00:00\",\"2015-03-01T00:00:00\",\"2015-04-01T00:00:00\",\"2015-05-01T00:00:00\",\"2015-06-01T00:00:00\",\"2015-07-01T00:00:00\",\"2015-08-01T00:00:00\",\"2015-09-01T00:00:00\",\"2015-10-01T00:00:00\",\"2015-11-01T00:00:00\",\"2015-12-01T00:00:00\",\"2016-01-01T00:00:00\",\"2016-02-01T00:00:00\",\"2016-03-01T00:00:00\",\"2016-04-01T00:00:00\",\"2016-05-01T00:00:00\",\"2016-06-01T00:00:00\",\"2016-07-01T00:00:00\",\"2016-08-01T00:00:00\",\"2016-09-01T00:00:00\",\"2016-10-01T00:00:00\",\"2016-11-01T00:00:00\",\"2016-12-01T00:00:00\",\"2017-01-01T00:00:00\",\"2017-02-01T00:00:00\",\"2017-03-01T00:00:00\",\"2017-04-01T00:00:00\",\"2017-05-01T00:00:00\",\"2017-06-01T00:00:00\",\"2017-07-01T00:00:00\",\"2017-08-01T00:00:00\",\"2017-09-01T00:00:00\",\"2017-10-01T00:00:00\",\"2017-11-01T00:00:00\",\"2017-12-01T00:00:00\",\"2018-01-01T00:00:00\",\"2018-02-01T00:00:00\",\"2018-03-01T00:00:00\",\"2018-04-01T00:00:00\",\"2018-05-01T00:00:00\",\"2018-06-01T00:00:00\",\"2018-07-01T00:00:00\",\"2018-08-01T00:00:00\",\"2018-09-01T00:00:00\",\"2018-10-01T00:00:00\",\"2018-11-01T00:00:00\",\"2018-12-01T00:00:00\",\"2019-01-01T00:00:00\",\"2019-02-01T00:00:00\",\"2019-03-01T00:00:00\",\"2019-04-01T00:00:00\",\"2019-05-01T00:00:00\",\"2019-06-01T00:00:00\",\"2019-07-01T00:00:00\",\"2019-08-01T00:00:00\",\"2019-09-01T00:00:00\",\"2019-10-01T00:00:00\",\"2019-11-01T00:00:00\",\"2019-12-01T00:00:00\",\"2020-01-01T00:00:00\",\"2020-02-01T00:00:00\",\"2020-03-01T00:00:00\",\"2020-04-01T00:00:00\",\"2020-05-01T00:00:00\",\"2020-06-01T00:00:00\"],\"y\":[75,77,91,83,69,63,100,91,80,78,76,82,80,85,90,73,69,87,71,77,73,71,68,60,91,97,74,65,68,80,91,78,66,81,76,39,96,74,99,88,70,70,82,68,50,64,63,64,81,68,76,63,64,77,69,57,59,73,71,100,82,61,73,58,78,22],\"type\":\"bar\"}],                        {\"template\":{\"data\":{\"bar\":[{\"error_x\":{\"color\":\"#2a3f5f\"},\"error_y\":{\"color\":\"#2a3f5f\"},\"marker\":{\"line\":{\"color\":\"#E5ECF6\",\"width\":0.5},\"pattern\":{\"fillmode\":\"overlay\",\"size\":10,\"solidity\":0.2}},\"type\":\"bar\"}],\"barpolar\":[{\"marker\":{\"line\":{\"color\":\"#E5ECF6\",\"width\":0.5},\"pattern\":{\"fillmode\":\"overlay\",\"size\":10,\"solidity\":0.2}},\"type\":\"barpolar\"}],\"carpet\":[{\"aaxis\":{\"endlinecolor\":\"#2a3f5f\",\"gridcolor\":\"white\",\"linecolor\":\"white\",\"minorgridcolor\":\"white\",\"startlinecolor\":\"#2a3f5f\"},\"baxis\":{\"endlinecolor\":\"#2a3f5f\",\"gridcolor\":\"white\",\"linecolor\":\"white\",\"minorgridcolor\":\"white\",\"startlinecolor\":\"#2a3f5f\"},\"type\":\"carpet\"}],\"choropleth\":[{\"colorbar\":{\"outlinewidth\":0,\"ticks\":\"\"},\"type\":\"choropleth\"}],\"contour\":[{\"colorbar\":{\"outlinewidth\":0,\"ticks\":\"\"},\"colorscale\":[[0.0,\"#0d0887\"],[0.1111111111111111,\"#46039f\"],[0.2222222222222222,\"#7201a8\"],[0.3333333333333333,\"#9c179e\"],[0.4444444444444444,\"#bd3786\"],[0.5555555555555556,\"#d8576b\"],[0.6666666666666666,\"#ed7953\"],[0.7777777777777778,\"#fb9f3a\"],[0.8888888888888888,\"#fdca26\"],[1.0,\"#f0f921\"]],\"type\":\"contour\"}],\"contourcarpet\":[{\"colorbar\":{\"outlinewidth\":0,\"ticks\":\"\"},\"type\":\"contourcarpet\"}],\"heatmap\":[{\"colorbar\":{\"outlinewidth\":0,\"ticks\":\"\"},\"colorscale\":[[0.0,\"#0d0887\"],[0.1111111111111111,\"#46039f\"],[0.2222222222222222,\"#7201a8\"],[0.3333333333333333,\"#9c179e\"],[0.4444444444444444,\"#bd3786\"],[0.5555555555555556,\"#d8576b\"],[0.6666666666666666,\"#ed7953\"],[0.7777777777777778,\"#fb9f3a\"],[0.8888888888888888,\"#fdca26\"],[1.0,\"#f0f921\"]],\"type\":\"heatmap\"}],\"heatmapgl\":[{\"colorbar\":{\"outlinewidth\":0,\"ticks\":\"\"},\"colorscale\":[[0.0,\"#0d0887\"],[0.1111111111111111,\"#46039f\"],[0.2222222222222222,\"#7201a8\"],[0.3333333333333333,\"#9c179e\"],[0.4444444444444444,\"#bd3786\"],[0.5555555555555556,\"#d8576b\"],[0.6666666666666666,\"#ed7953\"],[0.7777777777777778,\"#fb9f3a\"],[0.8888888888888888,\"#fdca26\"],[1.0,\"#f0f921\"]],\"type\":\"heatmapgl\"}],\"histogram\":[{\"marker\":{\"pattern\":{\"fillmode\":\"overlay\",\"size\":10,\"solidity\":0.2}},\"type\":\"histogram\"}],\"histogram2d\":[{\"colorbar\":{\"outlinewidth\":0,\"ticks\":\"\"},\"colorscale\":[[0.0,\"#0d0887\"],[0.1111111111111111,\"#46039f\"],[0.2222222222222222,\"#7201a8\"],[0.3333333333333333,\"#9c179e\"],[0.4444444444444444,\"#bd3786\"],[0.5555555555555556,\"#d8576b\"],[0.6666666666666666,\"#ed7953\"],[0.7777777777777778,\"#fb9f3a\"],[0.8888888888888888,\"#fdca26\"],[1.0,\"#f0f921\"]],\"type\":\"histogram2d\"}],\"histogram2dcontour\":[{\"colorbar\":{\"outlinewidth\":0,\"ticks\":\"\"},\"colorscale\":[[0.0,\"#0d0887\"],[0.1111111111111111,\"#46039f\"],[0.2222222222222222,\"#7201a8\"],[0.3333333333333333,\"#9c179e\"],[0.4444444444444444,\"#bd3786\"],[0.5555555555555556,\"#d8576b\"],[0.6666666666666666,\"#ed7953\"],[0.7777777777777778,\"#fb9f3a\"],[0.8888888888888888,\"#fdca26\"],[1.0,\"#f0f921\"]],\"type\":\"histogram2dcontour\"}],\"mesh3d\":[{\"colorbar\":{\"outlinewidth\":0,\"ticks\":\"\"},\"type\":\"mesh3d\"}],\"parcoords\":[{\"line\":{\"colorbar\":{\"outlinewidth\":0,\"ticks\":\"\"}},\"type\":\"parcoords\"}],\"pie\":[{\"automargin\":true,\"type\":\"pie\"}],\"scatter\":[{\"marker\":{\"colorbar\":{\"outlinewidth\":0,\"ticks\":\"\"}},\"type\":\"scatter\"}],\"scatter3d\":[{\"line\":{\"colorbar\":{\"outlinewidth\":0,\"ticks\":\"\"}},\"marker\":{\"colorbar\":{\"outlinewidth\":0,\"ticks\":\"\"}},\"type\":\"scatter3d\"}],\"scattercarpet\":[{\"marker\":{\"colorbar\":{\"outlinewidth\":0,\"ticks\":\"\"}},\"type\":\"scattercarpet\"}],\"scattergeo\":[{\"marker\":{\"colorbar\":{\"outlinewidth\":0,\"ticks\":\"\"}},\"type\":\"scattergeo\"}],\"scattergl\":[{\"marker\":{\"colorbar\":{\"outlinewidth\":0,\"ticks\":\"\"}},\"type\":\"scattergl\"}],\"scattermapbox\":[{\"marker\":{\"colorbar\":{\"outlinewidth\":0,\"ticks\":\"\"}},\"type\":\"scattermapbox\"}],\"scatterpolar\":[{\"marker\":{\"colorbar\":{\"outlinewidth\":0,\"ticks\":\"\"}},\"type\":\"scatterpolar\"}],\"scatterpolargl\":[{\"marker\":{\"colorbar\":{\"outlinewidth\":0,\"ticks\":\"\"}},\"type\":\"scatterpolargl\"}],\"scatterternary\":[{\"marker\":{\"colorbar\":{\"outlinewidth\":0,\"ticks\":\"\"}},\"type\":\"scatterternary\"}],\"surface\":[{\"colorbar\":{\"outlinewidth\":0,\"ticks\":\"\"},\"colorscale\":[[0.0,\"#0d0887\"],[0.1111111111111111,\"#46039f\"],[0.2222222222222222,\"#7201a8\"],[0.3333333333333333,\"#9c179e\"],[0.4444444444444444,\"#bd3786\"],[0.5555555555555556,\"#d8576b\"],[0.6666666666666666,\"#ed7953\"],[0.7777777777777778,\"#fb9f3a\"],[0.8888888888888888,\"#fdca26\"],[1.0,\"#f0f921\"]],\"type\":\"surface\"}],\"table\":[{\"cells\":{\"fill\":{\"color\":\"#EBF0F8\"},\"line\":{\"color\":\"white\"}},\"header\":{\"fill\":{\"color\":\"#C8D4E3\"},\"line\":{\"color\":\"white\"}},\"type\":\"table\"}]},\"layout\":{\"annotationdefaults\":{\"arrowcolor\":\"#2a3f5f\",\"arrowhead\":0,\"arrowwidth\":1},\"autotypenumbers\":\"strict\",\"coloraxis\":{\"colorbar\":{\"outlinewidth\":0,\"ticks\":\"\"}},\"colorscale\":{\"diverging\":[[0,\"#8e0152\"],[0.1,\"#c51b7d\"],[0.2,\"#de77ae\"],[0.3,\"#f1b6da\"],[0.4,\"#fde0ef\"],[0.5,\"#f7f7f7\"],[0.6,\"#e6f5d0\"],[0.7,\"#b8e186\"],[0.8,\"#7fbc41\"],[0.9,\"#4d9221\"],[1,\"#276419\"]],\"sequential\":[[0.0,\"#0d0887\"],[0.1111111111111111,\"#46039f\"],[0.2222222222222222,\"#7201a8\"],[0.3333333333333333,\"#9c179e\"],[0.4444444444444444,\"#bd3786\"],[0.5555555555555556,\"#d8576b\"],[0.6666666666666666,\"#ed7953\"],[0.7777777777777778,\"#fb9f3a\"],[0.8888888888888888,\"#fdca26\"],[1.0,\"#f0f921\"]],\"sequentialminus\":[[0.0,\"#0d0887\"],[0.1111111111111111,\"#46039f\"],[0.2222222222222222,\"#7201a8\"],[0.3333333333333333,\"#9c179e\"],[0.4444444444444444,\"#bd3786\"],[0.5555555555555556,\"#d8576b\"],[0.6666666666666666,\"#ed7953\"],[0.7777777777777778,\"#fb9f3a\"],[0.8888888888888888,\"#fdca26\"],[1.0,\"#f0f921\"]]},\"colorway\":[\"#636efa\",\"#EF553B\",\"#00cc96\",\"#ab63fa\",\"#FFA15A\",\"#19d3f3\",\"#FF6692\",\"#B6E880\",\"#FF97FF\",\"#FECB52\"],\"font\":{\"color\":\"#2a3f5f\"},\"geo\":{\"bgcolor\":\"white\",\"lakecolor\":\"white\",\"landcolor\":\"#E5ECF6\",\"showlakes\":true,\"showland\":true,\"subunitcolor\":\"white\"},\"hoverlabel\":{\"align\":\"left\"},\"hovermode\":\"closest\",\"mapbox\":{\"style\":\"light\"},\"paper_bgcolor\":\"white\",\"plot_bgcolor\":\"#E5ECF6\",\"polar\":{\"angularaxis\":{\"gridcolor\":\"white\",\"linecolor\":\"white\",\"ticks\":\"\"},\"bgcolor\":\"#E5ECF6\",\"radialaxis\":{\"gridcolor\":\"white\",\"linecolor\":\"white\",\"ticks\":\"\"}},\"scene\":{\"xaxis\":{\"backgroundcolor\":\"#E5ECF6\",\"gridcolor\":\"white\",\"gridwidth\":2,\"linecolor\":\"white\",\"showbackground\":true,\"ticks\":\"\",\"zerolinecolor\":\"white\"},\"yaxis\":{\"backgroundcolor\":\"#E5ECF6\",\"gridcolor\":\"white\",\"gridwidth\":2,\"linecolor\":\"white\",\"showbackground\":true,\"ticks\":\"\",\"zerolinecolor\":\"white\"},\"zaxis\":{\"backgroundcolor\":\"#E5ECF6\",\"gridcolor\":\"white\",\"gridwidth\":2,\"linecolor\":\"white\",\"showbackground\":true,\"ticks\":\"\",\"zerolinecolor\":\"white\"}},\"shapedefaults\":{\"line\":{\"color\":\"#2a3f5f\"}},\"ternary\":{\"aaxis\":{\"gridcolor\":\"white\",\"linecolor\":\"white\",\"ticks\":\"\"},\"baxis\":{\"gridcolor\":\"white\",\"linecolor\":\"white\",\"ticks\":\"\"},\"bgcolor\":\"#E5ECF6\",\"caxis\":{\"gridcolor\":\"white\",\"linecolor\":\"white\",\"ticks\":\"\"}},\"title\":{\"x\":0.05},\"xaxis\":{\"automargin\":true,\"gridcolor\":\"white\",\"linecolor\":\"white\",\"ticks\":\"\",\"title\":{\"standoff\":15},\"zerolinecolor\":\"white\",\"zerolinewidth\":2},\"yaxis\":{\"automargin\":true,\"gridcolor\":\"white\",\"linecolor\":\"white\",\"ticks\":\"\",\"title\":{\"standoff\":15},\"zerolinecolor\":\"white\",\"zerolinewidth\":2}}},\"title\":{\"text\":\"No of deaths (2015-2020)\"},\"yaxis\":{\"title\":{\"text\":\"no. of deaths\"}}},                        {\"responsive\": true}                    ).then(function(){\n",
              "                            \n",
              "var gd = document.getElementById('35e69324-9251-4ce2-81a8-303ed21a1634');\n",
              "var x = new MutationObserver(function (mutations, observer) {{\n",
              "        var display = window.getComputedStyle(gd).display;\n",
              "        if (!display || display === 'none') {{\n",
              "            console.log([gd, 'removed!']);\n",
              "            Plotly.purge(gd);\n",
              "            observer.disconnect();\n",
              "        }}\n",
              "}});\n",
              "\n",
              "// Listen for the removal of the full notebook cells\n",
              "var notebookContainer = gd.closest('#notebook-container');\n",
              "if (notebookContainer) {{\n",
              "    x.observe(notebookContainer, {childList: true});\n",
              "}}\n",
              "\n",
              "// Listen for the clearing of the current output cell\n",
              "var outputEl = gd.closest('.output');\n",
              "if (outputEl) {{\n",
              "    x.observe(outputEl, {childList: true});\n",
              "}}\n",
              "\n",
              "                        })                };                            </script>        </div>\n",
              "</body>\n",
              "</html>"
            ]
          },
          "metadata": {}
        }
      ]
    },
    {
      "cell_type": "code",
      "source": [
        "fig = go.Figure(go.Box(y=data['age'],name=\"Age\"))\n",
        "fig.update_layout(title=\"Distribution of Age\")\n",
        "fig.show()"
      ],
      "metadata": {
        "colab": {
          "base_uri": "https://localhost:8080/",
          "height": 542
        },
        "id": "WooZ78rTfRFS",
        "outputId": "ed1574c8-5c4d-4704-ce39-c53501eb3aa1"
      },
      "execution_count": 25,
      "outputs": [
        {
          "output_type": "display_data",
          "data": {
            "text/html": [
              "<html>\n",
              "<head><meta charset=\"utf-8\" /></head>\n",
              "<body>\n",
              "    <div>            <script src=\"https://cdnjs.cloudflare.com/ajax/libs/mathjax/2.7.5/MathJax.js?config=TeX-AMS-MML_SVG\"></script><script type=\"text/javascript\">if (window.MathJax) {MathJax.Hub.Config({SVG: {font: \"STIX-Web\"}});}</script>                <script type=\"text/javascript\">window.PlotlyConfig = {MathJaxConfig: 'local'};</script>\n",
              "        <script src=\"https://cdn.plot.ly/plotly-2.8.3.min.js\"></script>                <div id=\"49136a44-f90d-4313-aaf8-ecc1aa479f38\" class=\"plotly-graph-div\" style=\"height:525px; width:100%;\"></div>            <script type=\"text/javascript\">                                    window.PLOTLYENV=window.PLOTLYENV || {};                                    if (document.getElementById(\"49136a44-f90d-4313-aaf8-ecc1aa479f38\")) {                    Plotly.newPlot(                        \"49136a44-f90d-4313-aaf8-ecc1aa479f38\",                        [{\"name\":\"Age\",\"y\":[53.0,47.0,23.0,32.0,39.0,18.0,22.0,35.0,34.0,47.0,25.0,31.0,41.0,30.0,37.0,28.0,42.0,36.0,49.0,71.0,33.0,39.0,23.0,29.0,34.0,43.0,24.0,29.0,34.0,75.0,68.0,34.0,27.0,39.0,24.0,36.0,33.0,41.0,48.0,21.0,24.0,27.0,32.0,67.0,49.0,42.0,36.0,36.0,19.0,54.0,25.0,17.0,29.0,56.0,61.0,45.0,26.0,40.0,26.0,17.0,68.0,24.0,34.0,39.0,26.0,29.0,33.0,45.0,26.0,35.0,31.0,42.0,48.0,31.0,54.0,59.0,42.0,17.0,23.0,38.0,29.0,45.0,28.0,37.0,28.0,28.0,51.0,36.0,59.0,25.0,26.0,74.0,33.0,27.0,57.0,46.0,41.0,61.0,45.0,49.0,45.0,35.0,23.0,46.0,23.0,21.0,35.0,27.0,37.0,16.0,51.0,34.0,34.0,25.0,56.0,26.0,24.0,43.0,31.0,32.0,30.0,50.0,20.0,31.0,38.0,77.0,37.11793090137039,41.0,51.0,50.0,47.0,37.0,41.0,16.0,42.0,39.0,30.0,27.0,43.0,42.0,21.0,49.0,34.0,31.0,27.0,24.0,34.0,28.0,28.0,40.0,37.0,17.0,35.0,49.0,43.0,20.0,25.0,25.0,26.0,28.0,45.0,36.0,34.0,19.0,37.0,48.0,29.0,43.0,40.0,35.0,27.0,58.0,46.0,30.0,64.0,31.0,23.0,37.0,37.0,31.0,39.0,31.0,54.0,53.0,25.0,35.0,41.0,59.0,36.0,32.0,53.0,26.0,29.0,27.0,28.0,52.0,49.0,24.0,24.0,20.0,22.0,49.0,64.0,47.0,39.0,18.0,31.0,16.0,20.0,36.0,63.0,34.0,24.0,21.0,44.0,60.0,42.0,37.0,36.0,21.0,24.0,29.0,57.0,38.0,23.0,27.0,28.0,63.0,53.0,35.0,26.0,42.0,41.0,56.0,39.0,23.0,40.0,29.0,26.0,49.0,36.0,21.0,27.0,37.0,36.0,32.0,44.0,27.0,63.0,38.0,17.0,31.0,34.0,50.0,51.0,56.0,23.0,25.0,31.0,32.0,60.0,42.0,39.0,28.0,22.0,29.0,31.0,28.0,21.0,38.0,66.0,36.0,83.0,32.0,27.0,26.0,31.0,22.0,41.0,41.0,51.0,72.0,52.0,47.0,18.0,29.0,23.0,43.0,45.0,40.0,44.0,25.0,37.0,59.0,35.0,35.0,18.0,51.0,30.0,31.0,39.0,26.0,51.0,19.0,46.0,49.0,63.0,20.0,25.0,24.0,58.0,29.0,76.0,45.0,20.0,58.0,21.0,27.0,26.0,33.0,27.0,25.0,53.0,53.0,42.0,22.0,52.0,36.0,30.0,34.0,44.0,53.0,36.0,29.0,32.0,46.0,18.0,38.0,21.0,35.0,58.0,48.0,31.0,47.0,34.0,30.0,28.0,28.0,40.0,46.0,37.0,53.0,41.0,42.0,45.0,34.0,18.0,27.0,54.0,35.0,17.0,29.0,38.0,26.0,52.0,39.0,22.0,29.0,43.0,24.0,32.0,40.0,47.0,40.0,25.0,31.0,36.0,51.0,24.0,62.0,39.0,24.0,57.0,20.0,33.0,60.0,32.0,40.0,18.0,36.0,35.0,55.0,19.0,39.0,47.0,23.0,26.0,26.0,18.0,33.0,56.0,46.0,36.0,50.0,45.0,53.0,45.0,42.0,27.0,30.0,36.0,58.0,30.0,69.0,30.0,45.0,22.0,28.0,19.0,40.0,46.0,28.0,22.0,17.0,46.0,35.0,35.0,28.0,15.0,22.0,28.0,31.0,40.0,48.0,58.0,44.0,21.0,50.0,23.0,24.0,49.0,60.0,35.0,29.0,20.0,34.0,22.0,49.0,32.0,26.0,41.0,61.0,49.0,28.0,35.0,29.0,51.0,52.0,24.0,32.0,45.0,60.0,23.0,46.0,33.0,40.0,27.0,42.0,37.0,23.0,36.0,19.0,35.0,43.0,25.0,20.0,42.0,29.0,42.0,31.0,18.0,33.0,59.0,47.0,39.0,37.0,35.0,28.0,59.0,62.0,50.0,68.0,27.0,17.0,21.0,38.0,54.0,20.0,25.0,31.0,35.0,60.0,24.0,27.0,36.0,20.0,24.0,23.0,41.0,20.0,43.0,29.0,35.0,30.0,24.0,23.0,29.0,25.0,27.0,50.0,19.0,24.0,23.0,22.0,46.0,65.0,43.0,35.0,47.0,24.0,35.0,25.0,27.0,26.0,34.0,32.0,47.0,44.0,31.0,44.0,30.0,60.0,50.0,36.0,59.0,33.0,19.0,56.0,45.0,22.0,34.0,53.0,48.0,25.0,30.0,47.0,33.0,34.0,29.0,63.0,49.0,18.0,71.0,35.0,55.0,31.0,18.0,51.0,39.0,20.0,29.0,40.0,42.0,22.0,19.0,24.0,30.0,53.0,25.0,28.0,24.0,59.0,46.0,15.0,41.0,22.0,24.0,34.0,48.0,24.0,27.0,27.0,27.0,49.0,30.0,38.0,26.0,30.0,53.0,23.0,34.0,30.0,43.0,29.0,47.0,35.0,40.0,18.0,24.0,29.0,44.0,17.0,19.0,50.0,57.0,30.0,38.0,31.0,29.0,26.0,64.0,39.0,57.0,36.0,36.0,21.0,53.0,30.0,34.0,53.0,45.0,22.0,22.0,46.0,27.0,30.0,54.0,29.0,42.0,41.0,28.0,61.0,23.0,25.0,37.11793090137039,29.0,20.0,40.0,45.0,33.0,76.0,47.0,45.0,40.0,37.0,27.0,36.0,23.0,49.0,21.0,32.0,35.0,28.0,59.0,28.0,45.0,45.0,19.0,25.0,37.0,33.0,59.0,31.0,29.0,32.0,41.0,31.0,44.0,23.0,45.0,39.0,67.0,29.0,25.0,28.0,21.0,32.0,51.0,39.0,27.0,31.0,50.0,37.11793090137039,32.0,47.0,46.0,57.0,23.0,56.0,24.0,27.0,23.0,26.0,34.0,21.0,32.0,33.0,55.0,48.0,35.0,19.0,45.0,28.0,42.0,17.0,30.0,21.0,45.0,33.0,46.0,23.0,37.0,43.0,40.0,59.0,31.0,46.0,37.0,28.0,28.0,55.0,29.0,26.0,27.0,31.0,51.0,50.0,27.0,18.0,46.0,19.0,49.0,31.0,38.0,40.0,35.0,34.0,44.0,23.0,43.0,37.11793090137039,31.0,27.0,46.0,18.0,57.0,15.0,25.0,50.0,31.0,35.0,27.0,20.0,27.0,33.0,27.0,22.0,28.0,31.0,28.0,53.0,30.0,39.0,40.0,30.0,21.0,35.0,21.0,47.0,38.0,36.0,53.0,34.0,34.0,30.0,28.0,47.0,49.0,36.0,45.0,21.0,18.0,25.0,29.0,57.0,34.0,35.0,37.11793090137039,18.0,62.0,29.0,25.0,30.0,24.0,52.0,33.0,56.0,49.0,20.0,62.0,62.0,6.0,30.0,57.0,18.0,47.0,48.0,20.0,30.0,36.0,51.0,55.0,48.0,20.0,25.0,26.0,45.0,35.0,34.0,36.0,22.0,63.0,31.0,25.0,57.0,32.0,42.0,52.0,25.0,25.0,31.0,39.0,16.0,24.0,32.0,25.0,28.0,28.0,21.0,30.0,58.0,47.0,41.0,25.0,44.0,34.0,27.0,34.0,29.0,39.0,24.0,47.0,45.0,28.0,50.0,49.0,45.0,24.0,32.0,23.0,52.0,37.0,26.0,58.0,50.0,22.0,53.0,69.0,23.0,29.0,25.0,18.0,31.0,23.0,18.0,35.0,27.0,28.0,26.0,32.0,36.0,66.0,21.0,47.0,24.0,60.0,61.0,38.0,51.0,35.0,46.0,48.0,36.0,33.0,66.0,34.0,55.0,54.0,36.0,25.0,24.0,28.0,36.0,20.0,49.0,51.0,21.0,30.0,32.0,33.0,56.0,48.0,39.0,19.0,45.0,33.0,52.0,51.0,37.11793090137039,25.0,24.0,22.0,32.0,58.0,24.0,26.0,30.0,31.0,34.0,48.0,37.11793090137039,21.0,39.0,25.0,30.0,56.0,29.0,19.0,35.0,36.0,24.0,23.0,31.0,41.0,55.0,19.0,38.0,36.0,34.0,52.0,28.0,50.0,37.11793090137039,55.0,23.0,30.0,54.0,37.0,37.0,30.0,27.0,22.0,29.0,39.0,33.0,52.0,28.0,54.0,38.0,32.0,34.0,26.0,50.0,37.0,45.0,56.0,45.0,32.0,12.0,49.0,58.0,29.0,60.0,40.0,39.0,26.0,24.0,34.0,27.0,44.0,25.0,55.0,19.0,52.0,31.0,26.0,24.0,38.0,33.0,28.0,27.0,39.0,29.0,36.0,55.0,28.0,40.0,33.0,37.0,39.0,43.0,38.0,55.0,52.0,32.0,31.0,27.0,40.0,31.0,30.0,26.0,32.0,33.0,19.0,33.0,29.0,41.0,29.0,38.0,64.0,42.0,46.0,42.0,37.0,25.0,36.0,21.0,30.0,53.0,31.0,22.0,24.0,36.0,47.0,54.0,43.0,38.0,30.0,51.0,55.0,16.0,23.0,36.0,33.0,17.0,22.0,22.0,29.0,41.0,67.0,36.0,52.0,56.0,35.0,45.0,30.0,29.0,53.0,32.0,22.0,24.0,19.0,29.0,50.0,29.0,26.0,39.0,52.0,51.0,48.0,30.0,37.0,30.0,35.0,32.0,25.0,35.0,31.0,30.0,23.0,41.0,45.0,46.0,36.0,31.0,32.0,38.0,33.0,45.0,38.0,22.0,48.0,36.0,26.0,39.0,16.0,58.0,27.0,26.0,21.0,37.0,56.0,19.0,38.0,18.0,35.0,23.0,41.0,44.0,24.0,39.0,22.0,37.0,36.0,41.0,27.0,30.0,34.0,22.0,51.0,42.0,41.0,49.0,45.0,45.0,42.0,41.0,27.0,37.0,22.0,21.0,50.0,23.0,25.0,51.0,46.0,23.0,43.0,37.0,20.0,45.0,16.0,30.0,26.0,24.0,38.0,28.0,29.0,34.0,38.0,43.0,23.0,33.0,40.0,38.0,53.0,29.0,30.0,60.0,25.0,24.0,21.0,23.0,61.0,54.0,62.0,16.0,25.0,28.0,76.0,25.0,33.0,51.0,34.0,30.0,44.0,24.0,29.0,48.0,19.0,22.0,39.0,36.0,55.0,46.0,34.0,27.0,33.0,18.0,33.0,51.0,50.0,46.0,33.0,25.0,52.0,18.0,43.0,34.0,31.0,65.0,37.0,30.0,36.0,25.0,69.0,48.0,50.0,52.0,44.0,60.0,40.0,20.0,45.0,44.0,40.0,25.0,43.0,27.0,19.0,39.0,30.0,28.0,22.0,16.0,40.0,38.0,20.0,35.0,52.0,26.0,54.0,38.0,52.0,26.0,53.0,35.0,22.0,31.0,32.0,37.0,28.0,18.0,41.0,15.0,38.0,41.0,52.0,48.0,29.0,51.0,21.0,24.0,18.0,30.0,33.0,60.0,28.0,26.0,24.0,44.0,34.0,21.0,36.0,37.0,53.0,24.0,45.0,48.0,42.0,33.0,55.0,28.0,25.0,28.0,52.0,59.0,52.0,39.0,40.0,36.0,38.0,26.0,37.11793090137039,29.0,37.0,29.0,21.0,33.0,23.0,26.0,29.0,33.0,28.0,35.0,33.0,24.0,37.11793090137039,28.0,19.0,43.0,59.0,34.0,35.0,23.0,36.0,46.0,44.0,20.0,30.0,29.0,35.0,36.0,22.0,31.0,63.0,38.0,31.0,27.0,35.0,22.0,28.0,26.0,22.0,31.0,43.0,24.0,29.0,43.0,21.0,19.0,25.0,59.0,50.0,58.0,25.0,32.0,53.0,38.0,70.0,33.0,36.0,21.0,51.0,43.0,18.0,33.0,34.0,31.0,35.0,31.0,31.0,23.0,25.0,25.0,21.0,49.0,63.0,43.0,34.0,38.0,52.0,68.0,29.0,32.0,50.0,31.0,27.0,31.0,29.0,23.0,61.0,33.0,18.0,80.0,43.0,50.0,47.0,54.0,22.0,43.0,38.0,36.0,30.0,59.0,21.0,34.0,17.0,37.0,25.0,23.0,20.0,19.0,50.0,24.0,25.0,20.0,37.0,44.0,22.0,31.0,25.0,37.11793090137039,36.0,50.0,42.0,42.0,26.0,19.0,59.0,36.0,51.0,27.0,22.0,30.0,28.0,63.0,32.0,26.0,25.0,27.0,61.0,30.0,37.11793090137039,37.0,41.0,25.0,24.0,44.0,63.0,58.0,30.0,35.0,50.0,40.0,37.11793090137039,19.0,34.0,18.0,21.0,29.0,49.0,24.0,37.0,32.0,65.0,37.0,33.0,63.0,30.0,40.0,38.0,50.0,41.0,41.0,39.0,44.0,23.0,32.0,56.0,33.0,63.0,31.0,57.0,26.0,39.0,42.0,29.0,43.0,56.0,31.0,50.0,36.0,50.0,49.0,31.0,34.0,36.0,29.0,32.0,18.0,50.0,36.0,17.0,19.0,24.0,24.0,20.0,33.0,41.0,47.0,18.0,31.0,27.0,36.0,40.0,59.0,32.0,38.0,18.0,23.0,43.0,67.0,32.0,22.0,31.0,43.0,34.0,51.0,31.0,54.0,69.0,58.0,26.0,59.0,25.0,20.0,57.0,56.0,64.0,34.0,69.0,45.0,14.0,44.0,59.0,33.0,54.0,22.0,49.0,23.0,38.0,53.0,36.0,29.0,42.0,36.0,32.0,53.0,30.0,25.0,18.0,55.0,27.0,37.0,29.0,40.0,36.0,38.0,29.0,59.0,47.0,22.0,31.0,29.0,54.0,71.0,36.0,34.0,49.0,36.0,43.0,53.0,31.0,32.0,41.0,26.0,82.0,37.0,24.0,35.0,56.0,22.0,59.0,36.0,21.0,38.0,60.0,18.0,23.0,37.11793090137039,38.0,22.0,38.0,25.0,25.0,36.0,37.11793090137039,44.0,36.0,35.0,25.0,31.0,70.0,25.0,55.0,35.0,25.0,32.0,38.0,32.0,64.0,55.0,69.0,37.0,31.0,25.0,25.0,13.0,32.0,69.0,34.0,29.0,29.0,40.0,42.0,25.0,45.0,55.0,22.0,61.0,46.0,30.0,56.0,35.0,22.0,23.0,43.0,43.0,49.0,23.0,41.0,33.0,30.0,25.0,52.0,32.0,46.0,48.0,38.0,26.0,32.0,28.0,53.0,38.0,18.0,32.0,37.0,18.0,20.0,28.0,18.0,16.0,36.0,57.0,49.0,31.0,26.0,51.0,28.0,35.0,57.0,36.0,42.0,37.11793090137039,49.0,21.0,53.0,62.0,41.0,40.0,27.0,19.0,26.0,44.0,30.0,31.0,33.0,22.0,38.0,46.0,23.0,24.0,26.0,26.0,32.0,50.0,17.0,39.0,28.0,66.0,42.0,34.0,38.0,28.0,29.0,23.0,58.0,21.0,45.0,38.0,40.0,19.0,46.0,25.0,25.0,37.0,25.0,36.0,32.0,33.0,24.0,37.0,38.0,45.0,31.0,34.0,23.0,39.0,55.0,31.0,76.0,59.0,40.0,23.0,26.0,35.0,49.0,36.0,56.0,34.0,43.0,31.0,17.0,32.0,33.0,43.0,31.0,23.0,26.0,45.0,19.0,36.0,41.0,53.0,24.0,37.11793090137039,37.11793090137039,40.0,29.0,22.0,21.0,25.0,37.0,37.0,56.0,25.0,26.0,35.0,25.0,29.0,21.0,15.0,24.0,18.0,19.0,27.0,45.0,36.0,34.0,23.0,43.0,19.0,37.0,23.0,26.0,20.0,59.0,33.0,48.0,50.0,18.0,23.0,41.0,41.0,55.0,29.0,31.0,25.0,38.0,37.11793090137039,83.0,22.0,33.0,36.0,26.0,29.0,55.0,47.0,52.0,49.0,37.0,37.0,36.0,31.0,30.0,37.11793090137039,35.0,35.0,36.0,39.0,30.0,44.0,24.0,53.0,73.0,31.0,28.0,18.0,32.0,60.0,48.0,33.0,44.0,20.0,37.0,72.0,52.0,46.0,25.0,38.0,27.0,24.0,19.0,31.0,18.0,53.0,48.0,29.0,30.0,61.0,71.0,41.0,36.0,28.0,21.0,46.0,32.0,33.0,42.0,17.0,35.0,23.0,21.0,44.0,53.0,63.0,18.0,51.0,64.0,45.0,20.0,41.0,23.0,32.0,25.0,42.0,41.0,31.0,50.0,38.0,44.0,38.0,21.0,32.0,23.0,41.0,41.0,38.0,54.0,20.0,26.0,29.0,47.0,28.0,48.0,34.0,37.0,33.0,36.0,43.0,32.0,29.0,39.0,40.0,21.0,50.0,19.0,28.0,16.0,49.0,44.0,25.0,39.0,44.0,50.0,57.0,57.0,33.0,21.0,52.0,27.0,60.0,25.0,34.0,22.0,26.0,27.0,29.0,30.0,32.0,18.0,37.0,54.0,50.0,28.0,59.0,24.0,34.0,25.0,25.0,17.0,48.0,45.0,18.0,50.0,36.0,45.0,42.0,37.11793090137039,23.0,31.0,26.0,57.0,18.0,27.0,41.0,33.0,22.0,38.0,26.0,45.0,68.0,56.0,23.0,45.0,41.0,33.0,22.0,50.0,52.0,35.0,18.0,34.0,51.0,18.0,29.0,34.0,25.0,17.0,26.0,33.0,25.0,31.0,25.0,18.0,45.0,25.0,23.0,55.0,37.0,33.0,27.0,32.0,31.0,26.0,32.0,53.0,19.0,53.0,35.0,64.0,24.0,33.0,55.0,17.0,48.0,21.0,22.0,30.0,34.0,35.0,32.0,22.0,46.0,27.0,18.0,33.0,26.0,27.0,26.0,51.0,63.0,38.0,25.0,39.0,41.0,26.0,30.0,33.0,38.0,24.0,47.0,62.0,30.0,33.0,23.0,39.0,41.0,46.0,36.0,66.0,27.0,40.0,25.0,20.0,43.0,40.0,33.0,34.0,27.0,25.0,37.0,32.0,25.0,38.0,50.0,26.0,70.0,38.0,41.0,91.0,25.0,29.0,24.0,40.0,51.0,30.0,28.0,33.0,23.0,23.0,20.0,56.0,36.0,18.0,43.0,16.0,29.0,25.0,34.0,32.0,58.0,36.0,32.0,25.0,59.0,25.0,25.0,42.0,36.0,59.0,21.0,19.0,45.0,42.0,27.0,45.0,51.0,42.0,24.0,39.0,18.0,26.0,35.0,53.0,54.0,36.0,56.0,51.0,45.0,28.0,36.0,73.0,26.0,41.0,59.0,28.0,45.0,27.0,46.0,34.0,30.0,46.0,47.0,32.0,65.0,19.0,22.0,39.0,38.0,68.0,49.0,37.0,33.0,25.0,36.0,30.0,39.0,28.0,28.0,25.0,57.0,33.0,24.0,33.0,56.0,56.0,16.0,47.0,33.0,32.0,21.0,64.0,19.0,26.0,25.0,17.0,55.0,25.0,43.0,39.0,24.0,70.0,79.0,16.0,35.0,15.0,23.0,53.0,20.0,27.0,53.0,32.0,57.0,26.0,53.0,32.0,25.0,15.0,59.0,35.0,33.0,32.0,49.0,46.0,25.0,20.0,48.0,24.0,18.0,67.0,26.0,54.0,15.0,27.0,26.0,62.0,24.0,32.0,29.0,16.0,25.0,40.0,39.0,34.0,36.0,24.0,50.0,50.0,37.11793090137039,30.0,35.0,46.0,51.0,37.0,41.0,41.0,48.0,27.0,29.0,47.0,34.0,48.0,41.0,25.0,24.0,38.0,28.0,47.0,65.0,58.0,33.0,43.0,24.0,37.0,31.0,65.0,59.0,74.0,21.0,24.0,37.11793090137039,23.0,59.0,33.0,34.0,30.0,22.0,37.0,20.0,18.0,24.0,17.0,27.0,51.0,29.0,34.0,18.0,17.0,55.0,44.0,27.0,66.0,45.0,47.0,34.0,37.0,54.0,21.0,21.0,35.0,75.0,33.0,45.0,48.0,58.0,30.0,44.0,82.0,29.0,25.0,53.0,60.0,19.0,63.0,50.0,35.0,45.0,24.0,36.0,35.0,33.0,66.0,54.0,20.0,40.0,41.0,30.0,32.0,24.0,37.0,28.0,48.0,30.0,64.0,21.0,28.0,36.0,40.0,32.0,50.0,28.0,33.0,37.0,17.0,20.0,34.0,37.0,24.0,47.0,20.0,56.0,24.0,47.0,36.0,35.0,37.0,45.0,41.0,23.0,37.0,23.0,33.0,23.0,37.0,19.0,39.0,53.0,51.0,25.0,45.0,28.0,36.0,32.0,39.0,46.0,53.0,42.0,34.0,29.0,53.0,45.0,24.0,51.0,35.0,27.0,33.0,16.0,30.0,22.0,23.0,50.0,28.0,34.0,24.0,54.0,26.0,39.0,34.0,27.0,48.0,47.0,54.0,33.0,40.0,58.0,55.0,47.0,42.0,29.0,40.0,23.0,23.0,25.0,52.0,43.0,37.0,32.0,70.0,24.0,24.0,38.0,52.0,27.0,22.0,42.0,49.0,59.0,41.0,34.0,31.0,23.0,28.0,33.0,16.0,35.0,26.0,62.0,25.0,25.0,31.0,35.0,46.0,39.0,26.0,37.0,32.0,31.0,48.0,29.0,32.0,28.0,43.0,39.0,37.0,39.0,42.0,33.0,25.0,29.0,45.0,27.0,28.0,57.0,15.0,33.0,35.0,47.0,31.0,36.0,54.0,24.0,35.0,32.0,28.0,45.0,29.0,36.0,23.0,17.0,20.0,33.0,49.0,31.0,35.0,24.0,54.0,41.0,50.0,46.0,45.0,20.0,37.0,34.0,54.0,65.0,28.0,26.0,25.0,32.0,44.0,32.0,42.0,66.0,22.0,51.0,64.0,30.0,71.0,30.0,48.0,56.0,26.0,28.0,19.0,24.0,44.0,28.0,47.0,18.0,26.0,33.0,34.0,62.0,24.0,55.0,22.0,46.0,27.0,32.0,22.0,54.0,32.0,45.0,36.0,37.0,47.0,30.0,31.0,44.0,52.0,16.0,29.0,42.0,31.0,41.0,45.0,50.0,26.0,22.0,76.0,58.0,32.0,19.0,25.0,48.0,39.0,31.0,50.0,15.0,48.0,32.0,21.0,37.0,21.0,40.0,33.0,25.0,55.0,53.0,27.0,35.0,25.0,31.0,70.0,40.0,25.0,38.0,26.0,27.0,37.11793090137039,28.0,40.0,44.0,39.0,24.0,32.0,31.0,50.0,31.0,50.0,45.0,44.0,48.0,39.0,30.0,44.0,28.0,24.0,27.0,34.0,41.0,26.0,38.0,33.0,22.0,40.0,34.0,48.0,37.0,67.0,35.0,29.0,28.0,40.0,31.0,51.0,47.0,52.0,28.0,35.0,25.0,37.11793090137039,34.0,58.0,24.0,22.0,46.0,61.0,43.0,44.0,35.0,29.0,57.0,42.0,44.0,20.0,32.0,34.0,18.0,31.0,24.0,35.0,34.0,26.0,55.0,38.0,23.0,30.0,44.0,37.0,27.0,43.0,25.0,30.0,35.0,31.0,35.0,37.0,25.0,34.0,33.0,33.0,32.0,34.0,46.0,40.0,27.0,17.0,46.0,50.0,41.0,23.0,33.0,25.0,27.0,39.0,22.0,37.0,27.0,28.0,56.0,71.0,53.0,39.0,56.0,24.0,35.0,30.0,31.0,20.0,35.0,31.0,49.0,54.0,48.0,32.0,35.0,30.0,32.0,31.0,14.0,25.0,32.0,35.0,27.0,23.0,55.0,43.0,62.0,25.0,37.11793090137039,50.0,19.0,41.0,55.0,19.0,67.0,24.0,44.0,29.0,48.0,22.0,37.11793090137039,59.0,68.0,25.0,23.0,46.0,25.0,30.0,56.0,24.0,18.0,27.0,26.0,15.0,26.0,32.0,17.0,32.0,43.0,26.0,51.0,39.0,43.0,31.0,22.0,40.0,64.0,30.0,59.0,24.0,32.0,37.0,33.0,42.0,37.0,33.0,62.0,46.0,69.0,24.0,42.0,49.0,35.0,19.0,40.0,34.0,22.0,16.0,69.0,24.0,28.0,51.0,20.0,34.0,27.0,48.0,33.0,6.0,26.0,40.0,46.0,20.0,28.0,30.0,36.0,25.0,28.0,38.0,30.0,31.0,36.0,65.0,42.0,65.0,30.0,49.0,66.0,28.0,27.0,31.0,46.0,28.0,35.0,24.0,17.0,39.0,21.0,21.0,57.0,27.0,62.0,40.0,38.0,27.0,54.0,27.0,51.0,25.0,46.0,20.0,32.0,27.0,21.0,60.0,44.0,23.0,31.0,43.0,39.0,54.0,22.0,37.0,42.0,22.0,42.0,32.0,30.0,53.0,27.0,72.0,29.0,34.0,26.0,22.0,16.0,31.0,58.0,23.0,44.0,46.0,61.0,17.0,46.0,35.0,36.0,28.0,37.0,47.0,35.0,40.0,24.0,18.0,38.0,54.0,27.0,62.0,66.0,47.0,19.0,27.0,23.0,42.0,43.0,42.0,45.0,21.0,43.0,45.0,33.0,38.0,33.0,46.0,52.0,46.0,40.0,20.0,39.0,35.0,31.0,32.0,56.0,37.0,32.0,28.0,26.0,27.0,37.11793090137039,43.0,49.0,16.0,35.0,19.0,59.0,29.0,37.0,22.0,40.0,35.0,39.0,36.0,78.0,25.0,41.0,63.0,48.0,42.0,39.0,84.0,33.0,52.0,48.0,30.0,29.0,27.0,41.0,57.0,27.0,58.0,59.0,39.0,28.0,28.0,23.0,55.0,33.0,23.0,45.0,37.0,21.0,27.0,39.0,37.0,22.0,26.0,27.0,37.0,58.0,62.0,25.0,36.0,37.11793090137039,27.0,37.0,25.0,40.0,22.0,29.0,20.0,33.0,48.0,47.0,40.0,29.0,29.0,44.0,36.0,48.0,49.0,38.0,41.0,37.11793090137039,28.0,33.0,44.0,65.0,35.0,25.0,40.0,36.0,55.0,19.0,70.0,37.0,53.0,84.0,46.0,29.0,27.0,32.0,27.0,38.0,20.0,45.0,32.0,48.0,57.0,34.0,16.0,47.0,61.0,32.0,31.0,46.0,27.0,31.0,26.0,31.0,27.0,49.0,26.0,28.0,62.0,50.0,23.0,40.0,50.0,50.0,27.0,35.0,32.0,56.0,20.0,56.0,39.0,47.0,25.0,21.0,18.0,36.0,35.0,29.0,20.0,30.0,40.0,48.0,23.0,42.0,20.0,25.0,28.0,34.0,41.0,24.0,29.0,33.0,44.0,31.0,26.0,51.0,64.0,29.0,61.0,44.0,39.0,35.0,39.0,60.0,42.0,27.0,21.0,33.0,60.0,24.0,41.0,41.0,34.0,23.0,38.0,58.0,49.0,27.0,34.0,34.0,44.0,30.0,81.0,40.0,27.0,26.0,18.0,59.0,56.0,22.0,34.0,23.0,36.0,48.0,33.0,24.0,25.0,20.0,45.0,29.0,34.0,23.0,29.0,44.0,30.0,28.0,71.0,25.0,61.0,39.0,50.0,37.11793090137039,23.0,39.0,45.0,34.0,31.0,55.0,39.0,32.0,44.0,24.0,36.0,41.0,25.0,39.0,40.0,32.0,45.0,31.0,32.0,48.0,49.0,48.0,18.0,48.0,25.0,27.0,37.0,44.0,27.0,41.0,42.0,36.0,37.0,56.0,36.0,46.0,26.0,41.0,38.0,42.0,47.0,26.0,64.0,49.0,44.0,48.0,27.0,67.0,24.0,26.0,28.0,21.0,24.0,21.0,73.0,39.0,32.0,38.0,32.0,26.0,55.0,50.0,49.0,48.0,65.0,37.0,45.0,33.0,46.0,33.0,33.0,51.0,52.0,24.0,55.0,28.0,36.0,24.0,20.0,54.0,53.0,36.0,24.0,34.0,59.0,34.0,29.0,24.0,77.0,30.0,36.0,36.0,58.0,47.0,49.0,31.0,25.0,37.11793090137039,30.0,33.0,29.0,31.0,51.0,42.0,67.0,23.0,34.0,51.0,19.0,29.0,23.0,46.0,42.0,21.0,55.0,37.11793090137039,43.0,32.0,34.0,40.0,55.0,20.0,24.0,43.0,56.0,47.0,33.0,20.0,28.0,50.0,36.0,47.0,36.0,49.0,34.0,41.0,29.0,34.0,34.0,22.0,26.0,32.0,44.0,21.0,29.0,18.0,33.0,28.0,37.11793090137039,40.0,40.0,37.0,47.0,33.0,44.0,65.0,20.0,17.0,55.0,33.0,44.0,37.0,32.0,31.0,20.0,30.0,25.0,47.0,48.0,32.0,18.0,29.0,30.0,39.0,36.0,36.0,54.0,27.0,45.0,19.0,36.0,33.0,56.0,33.0,60.0,26.0,52.0,40.0,33.0,41.0,32.0,34.0,26.0,62.0,33.0,55.0,38.0,43.0,38.0,27.0,52.0,37.0,34.0,41.0,40.0,53.0,21.0,34.0,22.0,25.0,16.0,37.0,68.0,25.0,34.0,23.0,25.0,57.0,27.0,51.0,30.0,33.0,37.11793090137039,19.0,22.0,37.0,19.0,33.0,38.0,45.0,39.0,21.0,56.0,27.0,50.0,16.0,18.0,38.0,32.0,33.0,71.0,30.0,39.0,19.0,44.0,54.0,29.0,37.11793090137039,56.0,64.0,25.0,18.0,36.0,24.0,30.0,53.0,60.0,32.0,25.0,44.0,32.0,33.0,37.11793090137039,35.0,23.0,27.0,53.0,35.0,41.0,18.0,34.0,49.0,31.0,29.0,33.0,38.0,43.0,29.0,68.0,62.0,39.0,59.0,24.0,70.0,42.0,26.0,24.0,48.0,54.0,48.0,37.0,40.0,28.0,43.0,35.0,21.0,40.0,32.0,48.0,31.0,37.11793090137039,58.0,30.0,21.0,15.0,30.0,28.0,21.0,33.0,37.11793090137039,36.0,38.0,34.0,23.0,44.0,20.0,41.0,18.0,29.0,37.0,41.0,25.0,20.0,34.0,37.0,18.0,72.0,17.0,45.0,49.0,64.0,36.0,61.0,24.0,70.0,40.0,21.0,27.0,23.0,33.0,45.0,19.0,28.0,63.0,37.11793090137039,39.0,57.0,32.0,38.0,46.0,31.0,40.0,31.0,50.0,29.0,25.0,31.0,23.0,54.0,44.0,43.0,37.0,55.0,40.0,26.0,29.0,29.0,42.0,20.0,34.0,41.0,29.0,19.0,32.0,23.0,41.0,37.0,24.0,54.0,58.0,40.0,27.0,40.0,23.0,33.0,26.0,36.0,38.0,25.0,31.0,48.0,43.0,36.0,39.0,22.0,24.0,36.0,25.0,30.0,76.0,39.0,49.0,21.0,31.0,22.0,27.0,26.0,84.0,17.0,17.0,22.0,41.0,58.0,29.0,19.0,18.0,61.0,18.0,23.0,38.0,19.0,63.0,21.0,25.0,35.0,50.0,34.0,37.11793090137039,26.0,61.0,18.0,37.0,27.0,24.0,37.0,28.0,44.0,30.0,30.0,34.0,27.0,28.0,42.0,32.0,24.0,17.0,26.0,35.0,25.0,33.0,25.0,29.0,18.0,19.0,39.0,61.0,36.0,72.0,48.0,34.0,36.0,33.0,30.0,61.0,41.0,52.0,26.0,37.11793090137039,39.0,36.0,47.0,37.11793090137039,25.0,63.0,24.0,38.0,22.0,59.0,29.0,18.0,29.0,25.0,48.0,60.0,27.0,65.0,41.0,33.0,33.0,22.0,52.0,42.0,48.0,24.0,21.0,20.0,59.0,46.0,23.0,32.0,19.0,64.0,35.0,41.0,42.0,35.0,33.0,32.0,37.0,37.0,65.0,30.0,43.0,18.0,27.0,41.0,41.0,33.0,53.0,42.0,46.0,51.0,16.0,41.0,24.0,23.0,50.0,41.0,23.0,33.0,25.0,30.0,58.0,47.0,22.0,27.0,29.0,43.0,18.0,19.0,37.0,42.0,35.0,50.0,60.0,35.0,47.0,37.11793090137039,31.0,24.0,27.0,27.0,23.0,57.0,56.0,36.0,37.11793090137039,37.11793090137039,24.0,34.0,17.0,21.0,35.0,34.0,56.0,35.0,46.0,42.0,49.0,44.0,45.0,36.0,45.0,34.0,26.0,28.0,35.0,20.0,33.0,39.0,63.0,27.0,33.0,27.0,31.0,33.0,39.0,27.0,32.0,29.0,28.0,50.0,55.0,42.0,36.0,38.0,38.0,35.0,42.0,70.0,29.0,26.0,20.0,30.0,19.0,48.0,58.0,38.0,28.0,34.0,45.0,18.0,25.0,38.0,33.0,39.0,58.0,48.0,14.0,18.0,22.0,46.0,37.11793090137039,37.11793090137039,57.0,32.0,31.0,64.0,35.0,42.0,30.0,26.0,37.0,21.0,20.0,46.0,37.11793090137039,20.0,46.0,24.0,26.0,60.0,25.0,29.0,58.0,59.0,46.0,55.0,27.0,30.0,45.0,51.0,27.0,47.0,52.0,45.0,47.0,68.0,40.0,18.0,35.0,80.0,44.0,31.0,20.0,43.0,25.0,38.0,34.0,58.0,38.0,29.0,40.0,49.0,25.0,21.0,57.0,28.0,25.0,58.0,34.0,34.0,24.0,32.0,58.0,20.0,19.0,46.0,28.0,47.0,47.0,34.0,37.11793090137039,45.0,17.0,34.0,48.0,32.0,20.0,31.0,16.0,24.0,39.0,26.0,30.0,36.0,28.0,21.0,36.0,28.0,24.0,29.0,44.0,41.0,38.0,40.0,20.0,27.0,51.0,48.0,40.0,29.0,34.0,20.0,47.0,29.0,33.0,46.0,35.0,36.0,63.0,27.0,17.0,22.0,21.0,31.0,56.0,32.0,25.0,47.0,37.11793090137039,23.0,34.0,51.0,35.0,46.0,59.0,30.0,34.0,44.0,31.0,51.0,34.0,45.0,32.0,31.0,41.0,29.0,47.0,30.0,27.0,38.0,33.0,25.0,47.0,49.0,33.0,36.0,22.0,29.0,52.0,61.0,29.0,37.0,26.0,19.0,45.0,22.0,57.0,46.0,27.0,26.0,30.0,18.0,25.0,51.0,40.0,47.0,38.0,39.0,30.0,42.0,25.0,22.0,30.0,33.0,24.0,31.0,25.0,28.0,19.0,31.0,48.0,53.0,50.0,55.0,37.11793090137039,37.0,30.0,36.0,24.0,35.0,42.0,37.0,28.0,32.0,33.0,27.0,21.0,47.0,57.0,34.0,34.0,30.0,29.0,28.0,39.0,54.0,27.0,32.0,32.0,47.0,33.0,42.0,37.11793090137039,24.0,42.0,34.0,46.0,40.0,30.0,42.0,30.0,63.0,18.0,29.0,42.0,32.0,50.0,29.0,29.0,51.0,23.0,47.0,45.0,42.0,26.0,29.0,49.0,17.0,37.11793090137039,45.0,51.0,37.0,28.0,52.0,37.0,37.0,25.0,35.0,35.0,61.0,33.0,34.0,59.0,32.0,49.0,31.0,29.0,25.0,26.0,37.11793090137039,39.0,26.0,36.0,45.0,45.0,54.0,43.0,37.11793090137039,30.0,37.11793090137039,58.0,39.0,40.0,36.0,27.0,20.0,17.0,59.0,47.0,45.0,34.0,46.0,26.0,21.0,29.0,33.0,47.0,22.0,41.0,28.0,56.0,41.0,35.0,59.0,30.0,49.0,41.0,21.0,62.0,32.0,22.0,58.0,32.0,26.0,35.0,27.0,35.0,23.0,59.0,23.0,43.0,41.0,56.0,45.0,28.0,37.11793090137039,54.0,39.0,37.11793090137039,41.0,27.0,70.0,37.11793090137039,35.0,26.0,58.0,46.0,39.0,33.0,20.0,38.0,41.0,32.0,37.11793090137039,24.0,19.0,27.0,40.0,61.0,20.0,35.0,17.0,22.0,45.0,20.0,18.0,28.0,38.0,53.0,31.0,48.0,20.0,35.0,22.0,18.0,74.0,33.0,38.0,26.0,41.0,29.0,19.0,61.0,34.0,35.0,43.0,50.0,32.0,50.0,54.0,35.0,33.0,18.0,50.0,41.0,37.0,76.0,19.0,40.0,61.0,61.0,22.0,52.0,23.0,67.0,44.0,23.0,39.0,53.0,39.0,26.0,38.0,49.0,34.0,47.0,34.0,58.0,17.0,21.0,37.0,43.0,61.0,28.0,41.0,23.0,36.0,23.0,26.0,32.0,62.0,33.0,32.0,69.0,35.0,46.0,46.0,22.0,20.0,30.0,49.0,43.0,52.0,56.0,36.0,40.0,52.0,35.0,35.0,53.0,23.0,19.0,41.0,39.0,28.0,28.0,37.11793090137039,53.0,27.0,31.0,38.0,38.0,41.0,49.0,56.0,62.0,31.0,37.0,37.11793090137039,28.0,46.0,21.0,30.0,36.0,48.0,34.0,45.0,19.0,32.0,32.0,24.0,65.0,29.0,49.0,19.0,56.0,39.0,43.0,57.0,49.0,18.0,27.0,52.0,37.0,45.0,49.0,38.0,31.0,51.0,37.11793090137039,51.0,20.0,26.0,25.0,37.11793090137039,62.0,27.0,33.0,39.0,18.0,27.0,50.0,57.0,29.0,39.0,31.0,34.0,52.0,33.0,37.0,52.0,62.0,30.0,28.0,51.0,23.0,36.0,37.0,49.0,49.0,35.0,17.0,30.0,34.0,46.0,29.0,28.0,43.0,42.0,30.0,24.0,27.0,41.0,47.0,26.0,20.0,18.0,37.11793090137039,29.0,35.0,77.0,31.0,54.0,33.0,76.0,28.0,31.0,53.0,33.0,37.0,57.0,36.0,39.0,43.0,44.0,33.0,49.0,18.0,21.0,57.0,29.0,58.0,74.0,63.0,28.0,67.0,64.0,32.0,49.0,28.0,31.0,20.0,27.0,38.0,37.0,36.0,35.0,50.0,75.0,32.0,34.0,24.0,37.0,33.0,37.0,55.0,31.0,54.0,37.0,48.0,28.0,31.0,48.0,58.0,19.0,28.0,21.0,57.0,17.0,22.0,26.0,31.0,61.0,54.0,28.0,30.0,30.0,28.0,26.0,28.0,21.0,31.0,27.0,34.0,22.0,29.0,38.0,51.0,34.0,30.0,33.0,21.0,39.0,37.0,34.0,47.0,29.0,29.0,44.0,53.0,45.0,19.0,40.0,33.0,45.0,40.0,27.0,63.0,50.0,25.0,39.0,42.0,25.0,24.0,37.11793090137039,37.11793090137039,62.0,34.0,33.0,56.0,22.0,46.0,41.0,38.0,22.0,42.0,29.0,56.0,32.0,31.0,21.0,31.0,48.0,58.0,32.0,45.0,37.0,20.0,34.0,31.0,26.0,32.0,66.0,37.0,38.0,44.0,28.0,22.0,59.0,20.0,39.0,30.0,27.0,37.11793090137039,37.0,52.0,35.0,33.0,27.0,27.0,41.0,28.0,26.0,37.11793090137039,34.0,34.0,38.0,32.0,50.0,55.0,51.0,18.0,42.0,36.0,37.0,28.0,24.0,34.0,22.0,42.0,48.0,51.0,40.0,34.0,30.0,31.0,54.0,60.0,40.0,37.11793090137039,40.0,68.0,68.0,60.0,16.0,25.0,20.0,21.0,38.0,28.0,18.0,37.11793090137039,26.0,31.0,58.0,31.0,41.0,41.0,41.0,23.0,17.0,35.0,65.0,51.0,47.0,42.0,42.0,31.0,23.0,50.0,47.0,66.0,55.0,68.0,31.0,24.0,30.0,34.0,23.0,43.0,22.0,22.0,42.0,65.0,18.0,23.0,52.0,40.0,27.0,34.0,25.0,28.0,37.11793090137039,27.0,41.0,27.0,38.0,29.0,47.0,28.0,38.0,21.0,44.0,61.0,25.0,40.0,26.0,57.0,57.0,24.0,46.0,38.0,24.0,34.0,65.0,60.0,59.0,23.0,35.0,35.0,16.0,37.11793090137039,42.0,43.0,52.0,31.0,27.0,31.0,34.0,29.0,34.0,37.11793090137039,18.0,51.0,25.0,28.0,37.0,37.11793090137039,23.0,57.0,49.0,24.0,20.0,25.0,26.0,26.0,41.0,31.0,30.0,25.0,57.0,17.0,27.0,30.0,18.0,50.0,21.0,28.0,28.0,33.0,59.0,34.0,37.0,30.0,47.0,34.0,24.0,25.0,37.11793090137039,47.0,49.0,31.0,47.0,52.0,29.0,45.0,51.0,55.0,35.0,50.0,31.0,47.0,35.0,66.0,19.0,19.0,43.0,57.0,31.0,41.0,39.0,24.0,20.0,32.0,31.0,22.0,60.0,40.0,37.0,34.0,22.0,30.0,26.0,29.0,32.0,32.0,27.0,31.0,35.0,19.0,34.0,32.0,43.0,22.0,43.0,27.0,39.0,37.0,20.0,34.0,32.0,15.0,52.0,53.0,24.0,41.0,17.0,44.0,56.0,23.0,32.0,26.0,41.0,56.0,33.0,37.0,41.0,38.0,67.0,45.0,48.0,31.0,47.0,40.0,40.0,34.0,51.0,33.0,25.0,41.0,19.0,21.0,58.0,63.0,37.11793090137039,58.0,16.0,31.0,33.0,40.0,34.0,29.0,27.0,23.0,38.0,17.0,75.0,40.0,36.0,27.0,28.0,20.0,38.0,16.0,30.0,30.0,30.0,36.0,33.0,39.0,22.0,49.0,45.0,45.0,30.0,30.0,31.0,73.0,39.0,37.0,37.11793090137039,31.0,25.0,24.0,27.0,37.11793090137039,32.0,43.0,84.0,29.0,31.0,57.0,37.0,29.0,47.0,44.0,38.0,32.0,26.0,21.0,47.0,30.0,62.0,41.0,50.0,37.11793090137039,31.0,30.0,32.0,20.0,38.0,25.0,47.0,19.0,35.0,58.0,18.0,42.0,39.0,61.0,51.0,28.0,33.0,47.0,39.0,31.0,18.0,23.0,46.0,50.0,34.0,32.0,45.0,31.0,19.0,53.0,55.0,32.0,46.0,26.0,46.0,22.0,38.0,44.0,37.0,52.0,29.0,19.0,66.0,40.0,30.0,69.0,27.0,62.0,37.11793090137039,39.0,67.0,54.0,29.0,33.0,31.0,38.0,28.0,45.0,59.0,17.0,19.0,36.0,39.0,37.11793090137039,33.0,31.0,29.0,51.0,35.0,36.0,31.0,39.0,58.0,39.0,24.0,48.0,31.0,37.11793090137039,43.0,33.0,24.0,40.0,28.0,24.0,27.0,40.0,35.0,42.0,42.0,24.0,59.0,61.0,26.0,32.0,50.0,38.0,29.0,27.0,43.0,21.0,36.0,24.0,32.0,26.0,54.0,44.0,69.0,45.0,26.0,43.0,38.0,21.0,23.0,56.0,33.0,40.0,21.0,20.0,21.0,47.0,38.0,31.0,51.0,19.0,21.0,48.0,42.0,30.0,47.0,57.0,27.0,50.0,37.0,24.0,24.0,30.0,49.0,47.0,31.0,33.0,29.0,42.0,38.0,25.0,39.0,64.0,28.0,32.0,69.0,29.0,45.0,40.0,60.0,22.0,28.0,38.0,28.0,37.0,22.0,42.0,18.0,38.0,58.0,50.0,31.0,35.0,53.0,31.0,35.0,22.0,37.11793090137039,32.0,39.0,44.0,46.0,49.0,32.0,53.0,25.0,36.0,22.0,33.0,39.0,44.0,25.0,36.0,42.0,24.0,22.0,35.0,38.0,28.0,26.0,62.0,27.0,23.0,25.0,22.0,31.0],\"type\":\"box\"}],                        {\"template\":{\"data\":{\"bar\":[{\"error_x\":{\"color\":\"#2a3f5f\"},\"error_y\":{\"color\":\"#2a3f5f\"},\"marker\":{\"line\":{\"color\":\"#E5ECF6\",\"width\":0.5},\"pattern\":{\"fillmode\":\"overlay\",\"size\":10,\"solidity\":0.2}},\"type\":\"bar\"}],\"barpolar\":[{\"marker\":{\"line\":{\"color\":\"#E5ECF6\",\"width\":0.5},\"pattern\":{\"fillmode\":\"overlay\",\"size\":10,\"solidity\":0.2}},\"type\":\"barpolar\"}],\"carpet\":[{\"aaxis\":{\"endlinecolor\":\"#2a3f5f\",\"gridcolor\":\"white\",\"linecolor\":\"white\",\"minorgridcolor\":\"white\",\"startlinecolor\":\"#2a3f5f\"},\"baxis\":{\"endlinecolor\":\"#2a3f5f\",\"gridcolor\":\"white\",\"linecolor\":\"white\",\"minorgridcolor\":\"white\",\"startlinecolor\":\"#2a3f5f\"},\"type\":\"carpet\"}],\"choropleth\":[{\"colorbar\":{\"outlinewidth\":0,\"ticks\":\"\"},\"type\":\"choropleth\"}],\"contour\":[{\"colorbar\":{\"outlinewidth\":0,\"ticks\":\"\"},\"colorscale\":[[0.0,\"#0d0887\"],[0.1111111111111111,\"#46039f\"],[0.2222222222222222,\"#7201a8\"],[0.3333333333333333,\"#9c179e\"],[0.4444444444444444,\"#bd3786\"],[0.5555555555555556,\"#d8576b\"],[0.6666666666666666,\"#ed7953\"],[0.7777777777777778,\"#fb9f3a\"],[0.8888888888888888,\"#fdca26\"],[1.0,\"#f0f921\"]],\"type\":\"contour\"}],\"contourcarpet\":[{\"colorbar\":{\"outlinewidth\":0,\"ticks\":\"\"},\"type\":\"contourcarpet\"}],\"heatmap\":[{\"colorbar\":{\"outlinewidth\":0,\"ticks\":\"\"},\"colorscale\":[[0.0,\"#0d0887\"],[0.1111111111111111,\"#46039f\"],[0.2222222222222222,\"#7201a8\"],[0.3333333333333333,\"#9c179e\"],[0.4444444444444444,\"#bd3786\"],[0.5555555555555556,\"#d8576b\"],[0.6666666666666666,\"#ed7953\"],[0.7777777777777778,\"#fb9f3a\"],[0.8888888888888888,\"#fdca26\"],[1.0,\"#f0f921\"]],\"type\":\"heatmap\"}],\"heatmapgl\":[{\"colorbar\":{\"outlinewidth\":0,\"ticks\":\"\"},\"colorscale\":[[0.0,\"#0d0887\"],[0.1111111111111111,\"#46039f\"],[0.2222222222222222,\"#7201a8\"],[0.3333333333333333,\"#9c179e\"],[0.4444444444444444,\"#bd3786\"],[0.5555555555555556,\"#d8576b\"],[0.6666666666666666,\"#ed7953\"],[0.7777777777777778,\"#fb9f3a\"],[0.8888888888888888,\"#fdca26\"],[1.0,\"#f0f921\"]],\"type\":\"heatmapgl\"}],\"histogram\":[{\"marker\":{\"pattern\":{\"fillmode\":\"overlay\",\"size\":10,\"solidity\":0.2}},\"type\":\"histogram\"}],\"histogram2d\":[{\"colorbar\":{\"outlinewidth\":0,\"ticks\":\"\"},\"colorscale\":[[0.0,\"#0d0887\"],[0.1111111111111111,\"#46039f\"],[0.2222222222222222,\"#7201a8\"],[0.3333333333333333,\"#9c179e\"],[0.4444444444444444,\"#bd3786\"],[0.5555555555555556,\"#d8576b\"],[0.6666666666666666,\"#ed7953\"],[0.7777777777777778,\"#fb9f3a\"],[0.8888888888888888,\"#fdca26\"],[1.0,\"#f0f921\"]],\"type\":\"histogram2d\"}],\"histogram2dcontour\":[{\"colorbar\":{\"outlinewidth\":0,\"ticks\":\"\"},\"colorscale\":[[0.0,\"#0d0887\"],[0.1111111111111111,\"#46039f\"],[0.2222222222222222,\"#7201a8\"],[0.3333333333333333,\"#9c179e\"],[0.4444444444444444,\"#bd3786\"],[0.5555555555555556,\"#d8576b\"],[0.6666666666666666,\"#ed7953\"],[0.7777777777777778,\"#fb9f3a\"],[0.8888888888888888,\"#fdca26\"],[1.0,\"#f0f921\"]],\"type\":\"histogram2dcontour\"}],\"mesh3d\":[{\"colorbar\":{\"outlinewidth\":0,\"ticks\":\"\"},\"type\":\"mesh3d\"}],\"parcoords\":[{\"line\":{\"colorbar\":{\"outlinewidth\":0,\"ticks\":\"\"}},\"type\":\"parcoords\"}],\"pie\":[{\"automargin\":true,\"type\":\"pie\"}],\"scatter\":[{\"marker\":{\"colorbar\":{\"outlinewidth\":0,\"ticks\":\"\"}},\"type\":\"scatter\"}],\"scatter3d\":[{\"line\":{\"colorbar\":{\"outlinewidth\":0,\"ticks\":\"\"}},\"marker\":{\"colorbar\":{\"outlinewidth\":0,\"ticks\":\"\"}},\"type\":\"scatter3d\"}],\"scattercarpet\":[{\"marker\":{\"colorbar\":{\"outlinewidth\":0,\"ticks\":\"\"}},\"type\":\"scattercarpet\"}],\"scattergeo\":[{\"marker\":{\"colorbar\":{\"outlinewidth\":0,\"ticks\":\"\"}},\"type\":\"scattergeo\"}],\"scattergl\":[{\"marker\":{\"colorbar\":{\"outlinewidth\":0,\"ticks\":\"\"}},\"type\":\"scattergl\"}],\"scattermapbox\":[{\"marker\":{\"colorbar\":{\"outlinewidth\":0,\"ticks\":\"\"}},\"type\":\"scattermapbox\"}],\"scatterpolar\":[{\"marker\":{\"colorbar\":{\"outlinewidth\":0,\"ticks\":\"\"}},\"type\":\"scatterpolar\"}],\"scatterpolargl\":[{\"marker\":{\"colorbar\":{\"outlinewidth\":0,\"ticks\":\"\"}},\"type\":\"scatterpolargl\"}],\"scatterternary\":[{\"marker\":{\"colorbar\":{\"outlinewidth\":0,\"ticks\":\"\"}},\"type\":\"scatterternary\"}],\"surface\":[{\"colorbar\":{\"outlinewidth\":0,\"ticks\":\"\"},\"colorscale\":[[0.0,\"#0d0887\"],[0.1111111111111111,\"#46039f\"],[0.2222222222222222,\"#7201a8\"],[0.3333333333333333,\"#9c179e\"],[0.4444444444444444,\"#bd3786\"],[0.5555555555555556,\"#d8576b\"],[0.6666666666666666,\"#ed7953\"],[0.7777777777777778,\"#fb9f3a\"],[0.8888888888888888,\"#fdca26\"],[1.0,\"#f0f921\"]],\"type\":\"surface\"}],\"table\":[{\"cells\":{\"fill\":{\"color\":\"#EBF0F8\"},\"line\":{\"color\":\"white\"}},\"header\":{\"fill\":{\"color\":\"#C8D4E3\"},\"line\":{\"color\":\"white\"}},\"type\":\"table\"}]},\"layout\":{\"annotationdefaults\":{\"arrowcolor\":\"#2a3f5f\",\"arrowhead\":0,\"arrowwidth\":1},\"autotypenumbers\":\"strict\",\"coloraxis\":{\"colorbar\":{\"outlinewidth\":0,\"ticks\":\"\"}},\"colorscale\":{\"diverging\":[[0,\"#8e0152\"],[0.1,\"#c51b7d\"],[0.2,\"#de77ae\"],[0.3,\"#f1b6da\"],[0.4,\"#fde0ef\"],[0.5,\"#f7f7f7\"],[0.6,\"#e6f5d0\"],[0.7,\"#b8e186\"],[0.8,\"#7fbc41\"],[0.9,\"#4d9221\"],[1,\"#276419\"]],\"sequential\":[[0.0,\"#0d0887\"],[0.1111111111111111,\"#46039f\"],[0.2222222222222222,\"#7201a8\"],[0.3333333333333333,\"#9c179e\"],[0.4444444444444444,\"#bd3786\"],[0.5555555555555556,\"#d8576b\"],[0.6666666666666666,\"#ed7953\"],[0.7777777777777778,\"#fb9f3a\"],[0.8888888888888888,\"#fdca26\"],[1.0,\"#f0f921\"]],\"sequentialminus\":[[0.0,\"#0d0887\"],[0.1111111111111111,\"#46039f\"],[0.2222222222222222,\"#7201a8\"],[0.3333333333333333,\"#9c179e\"],[0.4444444444444444,\"#bd3786\"],[0.5555555555555556,\"#d8576b\"],[0.6666666666666666,\"#ed7953\"],[0.7777777777777778,\"#fb9f3a\"],[0.8888888888888888,\"#fdca26\"],[1.0,\"#f0f921\"]]},\"colorway\":[\"#636efa\",\"#EF553B\",\"#00cc96\",\"#ab63fa\",\"#FFA15A\",\"#19d3f3\",\"#FF6692\",\"#B6E880\",\"#FF97FF\",\"#FECB52\"],\"font\":{\"color\":\"#2a3f5f\"},\"geo\":{\"bgcolor\":\"white\",\"lakecolor\":\"white\",\"landcolor\":\"#E5ECF6\",\"showlakes\":true,\"showland\":true,\"subunitcolor\":\"white\"},\"hoverlabel\":{\"align\":\"left\"},\"hovermode\":\"closest\",\"mapbox\":{\"style\":\"light\"},\"paper_bgcolor\":\"white\",\"plot_bgcolor\":\"#E5ECF6\",\"polar\":{\"angularaxis\":{\"gridcolor\":\"white\",\"linecolor\":\"white\",\"ticks\":\"\"},\"bgcolor\":\"#E5ECF6\",\"radialaxis\":{\"gridcolor\":\"white\",\"linecolor\":\"white\",\"ticks\":\"\"}},\"scene\":{\"xaxis\":{\"backgroundcolor\":\"#E5ECF6\",\"gridcolor\":\"white\",\"gridwidth\":2,\"linecolor\":\"white\",\"showbackground\":true,\"ticks\":\"\",\"zerolinecolor\":\"white\"},\"yaxis\":{\"backgroundcolor\":\"#E5ECF6\",\"gridcolor\":\"white\",\"gridwidth\":2,\"linecolor\":\"white\",\"showbackground\":true,\"ticks\":\"\",\"zerolinecolor\":\"white\"},\"zaxis\":{\"backgroundcolor\":\"#E5ECF6\",\"gridcolor\":\"white\",\"gridwidth\":2,\"linecolor\":\"white\",\"showbackground\":true,\"ticks\":\"\",\"zerolinecolor\":\"white\"}},\"shapedefaults\":{\"line\":{\"color\":\"#2a3f5f\"}},\"ternary\":{\"aaxis\":{\"gridcolor\":\"white\",\"linecolor\":\"white\",\"ticks\":\"\"},\"baxis\":{\"gridcolor\":\"white\",\"linecolor\":\"white\",\"ticks\":\"\"},\"bgcolor\":\"#E5ECF6\",\"caxis\":{\"gridcolor\":\"white\",\"linecolor\":\"white\",\"ticks\":\"\"}},\"title\":{\"x\":0.05},\"xaxis\":{\"automargin\":true,\"gridcolor\":\"white\",\"linecolor\":\"white\",\"ticks\":\"\",\"title\":{\"standoff\":15},\"zerolinecolor\":\"white\",\"zerolinewidth\":2},\"yaxis\":{\"automargin\":true,\"gridcolor\":\"white\",\"linecolor\":\"white\",\"ticks\":\"\",\"title\":{\"standoff\":15},\"zerolinecolor\":\"white\",\"zerolinewidth\":2}}},\"title\":{\"text\":\"Distribution of Age\"}},                        {\"responsive\": true}                    ).then(function(){\n",
              "                            \n",
              "var gd = document.getElementById('49136a44-f90d-4313-aaf8-ecc1aa479f38');\n",
              "var x = new MutationObserver(function (mutations, observer) {{\n",
              "        var display = window.getComputedStyle(gd).display;\n",
              "        if (!display || display === 'none') {{\n",
              "            console.log([gd, 'removed!']);\n",
              "            Plotly.purge(gd);\n",
              "            observer.disconnect();\n",
              "        }}\n",
              "}});\n",
              "\n",
              "// Listen for the removal of the full notebook cells\n",
              "var notebookContainer = gd.closest('#notebook-container');\n",
              "if (notebookContainer) {{\n",
              "    x.observe(notebookContainer, {childList: true});\n",
              "}}\n",
              "\n",
              "// Listen for the clearing of the current output cell\n",
              "var outputEl = gd.closest('.output');\n",
              "if (outputEl) {{\n",
              "    x.observe(outputEl, {childList: true});\n",
              "}}\n",
              "\n",
              "                        })                };                            </script>        </div>\n",
              "</body>\n",
              "</html>"
            ]
          },
          "metadata": {}
        }
      ]
    },
    {
      "cell_type": "code",
      "source": [
        "sns.distplot(data['age'],kde=True,color='r')"
      ],
      "metadata": {
        "colab": {
          "base_uri": "https://localhost:8080/",
          "height": 624
        },
        "id": "ls70a0_SfTNH",
        "outputId": "d9405452-eb0f-4695-8306-7c456872bca3"
      },
      "execution_count": 26,
      "outputs": [
        {
          "output_type": "stream",
          "name": "stderr",
          "text": [
            "/usr/local/lib/python3.8/dist-packages/seaborn/distributions.py:2619: FutureWarning:\n",
            "\n",
            "`distplot` is a deprecated function and will be removed in a future version. Please adapt your code to use either `displot` (a figure-level function with similar flexibility) or `histplot` (an axes-level function for histograms).\n",
            "\n"
          ]
        },
        {
          "output_type": "execute_result",
          "data": {
            "text/plain": [
              "<matplotlib.axes._subplots.AxesSubplot at 0x7f2a66a93700>"
            ]
          },
          "metadata": {},
          "execution_count": 26
        },
        {
          "output_type": "display_data",
          "data": {
            "text/plain": [
              "<Figure size 842.4x595.44 with 1 Axes>"
            ],
            "image/png": "[encoded data removed]"
          },
          "metadata": {}
        }
      ]
    },
    {
      "cell_type": "code",
      "source": [
        "sns.boxplot(x=\"gender\", y=\"age\", palette=[\"b\", \"m\"],data=data,)\n",
        "sns.despine(offset=10, trim=True)"
      ],
      "metadata": {
        "colab": {
          "base_uri": "https://localhost:8080/",
          "height": 527
        },
        "id": "qTNIjJCQ2mx6",
        "outputId": "ead0b32d-fa0e-4e86-ca78-802485345fd6"
      },
      "execution_count": 4,
      "outputs": [
        {
          "output_type": "display_data",
          "data": {
            "text/plain": [
              "<Figure size 842.4x595.44 with 1 Axes>"
            ],
            "image/png": "[encoded data removed]"
          },
          "metadata": {}
        }
      ]
    },
    {
      "cell_type": "code",
      "source": [
        "df_male=data[data['gender']=='M']['age'].values\n",
        "df_female=data[data['gender']=='F']['age'].values\n",
        "sns.distplot(df_male, hist=False, rug=True)\n",
        "sns.distplot(df_female, hist=False, rug=True)"
      ],
      "metadata": {
        "colab": {
          "base_uri": "https://localhost:8080/",
          "height": 676
        },
        "id": "l4Hkkq2z2-Ib",
        "outputId": "4243cdc5-0223-41d8-881f-be934a55f326"
      },
      "execution_count": 5,
      "outputs": [
        {
          "output_type": "stream",
          "name": "stderr",
          "text": [
            "/usr/local/lib/python3.8/dist-packages/seaborn/distributions.py:2619: FutureWarning: `distplot` is a deprecated function and will be removed in a future version. Please adapt your code to use either `displot` (a figure-level function with similar flexibility) or `kdeplot` (an axes-level function for kernel density plots).\n",
            "  warnings.warn(msg, FutureWarning)\n",
            "/usr/local/lib/python3.8/dist-packages/seaborn/distributions.py:2103: FutureWarning: The `axis` variable is no longer used and will be removed. Instead, assign variables directly to `x` or `y`.\n",
            "  warnings.warn(msg, FutureWarning)\n",
            "/usr/local/lib/python3.8/dist-packages/seaborn/distributions.py:2619: FutureWarning: `distplot` is a deprecated function and will be removed in a future version. Please adapt your code to use either `displot` (a figure-level function with similar flexibility) or `kdeplot` (an axes-level function for kernel density plots).\n",
            "  warnings.warn(msg, FutureWarning)\n",
            "/usr/local/lib/python3.8/dist-packages/seaborn/distributions.py:2103: FutureWarning: The `axis` variable is no longer used and will be removed. Instead, assign variables directly to `x` or `y`.\n",
            "  warnings.warn(msg, FutureWarning)\n"
          ]
        },
        {
          "output_type": "execute_result",
          "data": {
            "text/plain": [
              "<matplotlib.axes._subplots.AxesSubplot at 0x7fabccba2c70>"
            ]
          },
          "metadata": {},
          "execution_count": 5
        },
        {
          "output_type": "display_data",
          "data": {
            "text/plain": [
              "<Figure size 842.4x595.44 with 1 Axes>"
            ],
            "image/png": "[encoded data removed]"
          },
          "metadata": {}
        }
      ]
    },
    {
      "cell_type": "code",
      "source": [
        "sns.boxplot(x=\"race\", y=\"age\",data=data)\n",
        "sns.despine(offset=10, trim=True)"
      ],
      "metadata": {
        "colab": {
          "base_uri": "https://localhost:8080/",
          "height": 527
        },
        "id": "tiUOTn2DZ4Yy",
        "outputId": "0638b14e-c679-4715-d27f-10119ebaefb9"
      },
      "execution_count": 4,
      "outputs": [
        {
          "output_type": "display_data",
          "data": {
            "text/plain": [
              "<Figure size 842.4x595.44 with 1 Axes>"
            ],
            "image/png": "[encoded data removed]"
          },
          "metadata": {}
        }
      ]
    }
  ]
}